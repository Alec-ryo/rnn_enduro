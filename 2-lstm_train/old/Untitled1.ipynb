{
 "cells": [
  {
   "cell_type": "code",
   "execution_count": null,
   "id": "bcbc905c",
   "metadata": {},
   "outputs": [],
   "source": [
    "from torch import nn\n",
    "from torch.nn.utils.rnn import pad_sequence\n",
    "\n",
    "# x_seq = [[5, 18, 29], [32, 100], [699, 6, 9, 17]]\n",
    "x_padded = pad_sequence(x_seq, batch_first=True, padding_value=0)\n",
    "# x_padded = [[5, 18, 29, 0], [32, 100, 0, 0], [699, 6, 9, 17]]"
   ]
  }
 ],
 "metadata": {
  "kernelspec": {
   "display_name": "Python 3",
   "language": "python",
   "name": "python3"
  }
 },
 "nbformat": 4,
 "nbformat_minor": 5
}
