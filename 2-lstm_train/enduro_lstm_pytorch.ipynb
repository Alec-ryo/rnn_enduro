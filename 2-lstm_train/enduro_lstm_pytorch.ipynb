{
 "cells": [
  {
   "cell_type": "markdown",
   "id": "2aa45a41",
   "metadata": {},
   "source": [
    "# Train LSTM model to Enduro sequence games"
   ]
  },
  {
   "cell_type": "markdown",
   "id": "ee9cb59c",
   "metadata": {},
   "source": [
    "## Load libraries"
   ]
  },
  {
   "cell_type": "code",
   "execution_count": 1,
   "id": "3f7d4cfa",
   "metadata": {},
   "outputs": [],
   "source": [
    "import numpy as np\n",
    "import torch\n",
    "import torch.nn as nn\n",
    "import csv\n",
    "import os\n",
    "import cv2\n",
    "from PIL import Image\n",
    "from enduro_lstm import *"
   ]
  },
  {
   "cell_type": "markdown",
   "id": "29110489",
   "metadata": {},
   "source": [
    "## Set to GPU if available"
   ]
  },
  {
   "cell_type": "code",
   "execution_count": 3,
   "id": "737018d5",
   "metadata": {},
   "outputs": [
    {
     "name": "stdout",
     "output_type": "stream",
     "text": [
      "GPU is available\n"
     ]
    }
   ],
   "source": [
    "device = conf_cuda(True)"
   ]
  },
  {
   "cell_type": "markdown",
   "id": "a73856ba",
   "metadata": {},
   "source": [
    "## Set configurations"
   ]
  },
  {
   "cell_type": "code",
   "execution_count": 36,
   "id": "df4f89b5",
   "metadata": {},
   "outputs": [],
   "source": [
    "obs = 'zigzag'\n",
    "if obs == 'zigzag':\n",
    "    zigzag = True"
   ]
  },
  {
   "cell_type": "code",
   "execution_count": 29,
   "id": "economic-thanks",
   "metadata": {},
   "outputs": [],
   "source": [
    "data_path = r\"../1-generate/data/\"\n",
    "n_epochs = 10\n",
    "match = 35\n",
    "hidden_neurons = 200\n",
    "\n",
    "model_path = \"\"\n",
    "stop_train = 1e-5"
   ]
  },
  {
   "cell_type": "markdown",
   "id": "9ddc7716",
   "metadata": {},
   "source": [
    "## Load frames and targets"
   ]
  },
  {
   "cell_type": "code",
   "execution_count": 37,
   "id": "f5023547",
   "metadata": {},
   "outputs": [],
   "source": [
    "ACTIONS_LIST = get_actions_list(zigzag=zigzag)"
   ]
  },
  {
   "cell_type": "code",
   "execution_count": 19,
   "id": "endangered-sacramento",
   "metadata": {},
   "outputs": [
    {
     "name": "stdout",
     "output_type": "stream",
     "text": [
      "Successfully loaded NPZ.\n"
     ]
    }
   ],
   "source": [
    "num_of_frames, frames, actions, rewards, lifes = load_npz(data_path, match)"
   ]
  },
  {
   "cell_type": "code",
   "execution_count": 20,
   "id": "documentary-shelf",
   "metadata": {},
   "outputs": [],
   "source": [
    "X_train = frames.reshape(1, len(frames) ,-1)/255"
   ]
  },
  {
   "cell_type": "code",
   "execution_count": 21,
   "id": "composed-agenda",
   "metadata": {},
   "outputs": [],
   "source": [
    "action_one_hot = [prepare_action_data(i, ACTIONS_LIST) for i in actions]\n",
    "Y_train = np.array(action_one_hot)\n",
    "Y_train = Y_train.reshape(1, len(Y_train), -1)"
   ]
  },
  {
   "cell_type": "code",
   "execution_count": 22,
   "id": "muslim-pursuit",
   "metadata": {},
   "outputs": [],
   "source": [
    "X_train = torch.tensor(X_train).float()\n",
    "Y_train = torch.tensor(Y_train).float()"
   ]
  },
  {
   "cell_type": "code",
   "execution_count": 23,
   "id": "cognitive-triple",
   "metadata": {},
   "outputs": [],
   "source": [
    "model = Model(device=device, input_size=20400, output_size=2, hidden_dim=hidden_neurons, n_layers=1)"
   ]
  },
  {
   "cell_type": "code",
   "execution_count": 24,
   "id": "0ce69fb6",
   "metadata": {},
   "outputs": [],
   "source": [
    "# We'll also set the model to the device that we defined earlier (default is CPU)\n",
    "model.cuda()\n",
    "X_train = X_train.cuda() \n",
    "Y_train = Y_train.cuda()"
   ]
  },
  {
   "cell_type": "code",
   "execution_count": 25,
   "id": "private-thunder",
   "metadata": {},
   "outputs": [],
   "source": [
    "min_loss = 1e-05\n",
    "# Define Loss, Optimizer\n",
    "criterion = nn.MSELoss()\n",
    "# optimizer = torch.optim.Adam(model.parameters(), lr=lr)\n",
    "optimizer = torch.optim.Adam(model.parameters())"
   ]
  },
  {
   "cell_type": "code",
   "execution_count": 26,
   "id": "sealed-humor",
   "metadata": {},
   "outputs": [],
   "source": [
    "loss_arr = np.array([])"
   ]
  },
  {
   "cell_type": "code",
   "execution_count": 27,
   "id": "348fd38e",
   "metadata": {},
   "outputs": [
    {
     "name": "stdout",
     "output_type": "stream",
     "text": [
      "models/zigzag_m35to35_f1to120_epoch2000_H200\n",
      "ATTENTION! folder not created. Training informations will overwrite the existing one\n"
     ]
    }
   ],
   "source": [
    "model_name = f\"{obs}_m{match}to{match}_f{1}to{120}_epoch{n_epochs}_H{hidden_neurons}\"\n",
    "newpath = f\"models/\" + model_name\n",
    "if not os.path.exists(newpath):\n",
    "    print(f\"models/\" + model_name)\n",
    "    os.makedirs(newpath)\n",
    "else:\n",
    "    print(f\"models/\" + model_name)\n",
    "    print(\"ATTENTION! folder not created. Training informations will overwrite the existing one\")"
   ]
  },
  {
   "cell_type": "code",
   "execution_count": 30,
   "id": "drawn-avenue",
   "metadata": {
    "scrolled": true
   },
   "outputs": [
    {
     "name": "stdout",
     "output_type": "stream",
     "text": [
      "Epoch: 10/10............. Loss: 0.150938585400581 Acc: 0.941666722297668\n",
      "--- 1.8945140838623047 seconds ---\n"
     ]
    }
   ],
   "source": [
    "import time\n",
    "# Training Run\n",
    "\n",
    "model.train()\n",
    "\n",
    "epoch = 1\n",
    "loss_file = open(newpath + '/' + \"loss_file.txt\", \"w\")\n",
    "\n",
    "start_time_processing = time.time()\n",
    "for epoch in range(1, n_epochs + 1):\n",
    "    optimizer.zero_grad() # Clears existing gradients from previous epoch\n",
    "    X_train.to(device)\n",
    "    output, hidden = model(X_train)\n",
    "    loss = criterion(output, Y_train.view(-1,2).float())\n",
    "    loss.backward() # Does backpropagation and calculates gradients\n",
    "    optimizer.step() # Updates the weights accordinglyw\n",
    "    \n",
    "    if epoch%10 == 0:\n",
    "        acc = float((torch.sum((torch.argmax(output, axis=1) == torch.argmax(Y_train.squeeze(), axis=1)).int())/120))\n",
    "        \n",
    "        loss_file.write(\"Epoch: {}/{}.............\".format(epoch, n_epochs))\n",
    "        loss_file.write(\"Loss: {:.15f} Acc: {:.15f}\\n\".format(loss.item(), acc))\n",
    "        \n",
    "        print('Epoch: {}/{}.............'.format(epoch, n_epochs), end=' ')\n",
    "        print(\"Loss: {:.15f} Acc: {:.15f}\".format(loss.item(), acc))\n",
    "        \n",
    "        loss_arr = np.append(loss_arr, loss.item())\n",
    "        \n",
    "        if loss.item() < min_loss:\n",
    "            break;\n",
    "\n",
    "loss_file.close()\n",
    "np.savez(\"loss_arr\", loss_arr)\n",
    "print(\"--- %s seconds ---\" % (time.time() - start_time_processing))"
   ]
  },
  {
   "cell_type": "code",
   "execution_count": 31,
   "id": "mineral-consideration",
   "metadata": {},
   "outputs": [],
   "source": [
    "torch.save(model.state_dict(), newpath + '/' + model_name)"
   ]
  },
  {
   "cell_type": "code",
   "execution_count": 32,
   "id": "0ab67be3",
   "metadata": {
    "scrolled": true
   },
   "outputs": [
    {
     "data": {
      "image/png": "[encoded data removed]",
      "text/plain": [
       "<Figure size 432x288 with 1 Axes>"
      ]
     },
     "metadata": {
      "needs_background": "light"
     },
     "output_type": "display_data"
    }
   ],
   "source": [
    "import matplotlib.pyplot as plt\n",
    "# summarize history for loss\n",
    "g = list(loss_arr)\n",
    "plt.plot(loss_arr)\n",
    "plt.title('model loss')\n",
    "plt.ylabel('loss')\n",
    "plt.xlabel('epoch')\n",
    "plt.legend(['train'], loc='upper left')\n",
    "plt.yscale('log')\n",
    "plt.savefig(newpath + '/' + 'perf.png')\n",
    "plt.show()"
   ]
  },
  {
   "cell_type": "code",
   "execution_count": 33,
   "id": "liquid-shame",
   "metadata": {},
   "outputs": [],
   "source": [
    "model.eval() # eval mode\n",
    "out, hidden = model(X_train)"
   ]
  },
  {
   "cell_type": "code",
   "execution_count": 34,
   "id": "australian-rogers",
   "metadata": {},
   "outputs": [
    {
     "name": "stdout",
     "output_type": "stream",
     "text": [
      "0->tensor([0.7419, 0.2901], device='cuda:0', grad_fn=<SelectBackward>)\n",
      "1->tensor([0.7063, 0.3187], device='cuda:0', grad_fn=<SelectBackward>)\n",
      "2->tensor([0.6384, 0.3819], device='cuda:0', grad_fn=<SelectBackward>)\n",
      "3->tensor([0.6401, 0.3724], device='cuda:0', grad_fn=<SelectBackward>)\n",
      "4->tensor([0.7182, 0.3069], device='cuda:0', grad_fn=<SelectBackward>)\n",
      "5->tensor([0.7304, 0.2968], device='cuda:0', grad_fn=<SelectBackward>)\n",
      "6->tensor([0.7119, 0.3132], device='cuda:0', grad_fn=<SelectBackward>)\n",
      "7->tensor([0.7205, 0.3066], device='cuda:0', grad_fn=<SelectBackward>)\n",
      "8->tensor([0.7686, 0.2650], device='cuda:0', grad_fn=<SelectBackward>)\n",
      "9->tensor([0.7670, 0.2649], device='cuda:0', grad_fn=<SelectBackward>)\n",
      "10->tensor([0.7516, 0.2791], device='cuda:0', grad_fn=<SelectBackward>)\n",
      "11->tensor([0.7497, 0.2806], device='cuda:0', grad_fn=<SelectBackward>)\n",
      "12->tensor([0.7294, 0.2984], device='cuda:0', grad_fn=<SelectBackward>)\n",
      "13->tensor([0.7360, 0.2918], device='cuda:0', grad_fn=<SelectBackward>)\n",
      "14->tensor([0.6831, 0.3416], device='cuda:0', grad_fn=<SelectBackward>)\n",
      "15->tensor([0.7438, 0.2874], device='cuda:0', grad_fn=<SelectBackward>)\n",
      "16->tensor([0.6756, 0.3472], device='cuda:0', grad_fn=<SelectBackward>)\n",
      "17->tensor([0.7362, 0.2958], device='cuda:0', grad_fn=<SelectBackward>)\n",
      "18->tensor([0.7495, 0.2838], device='cuda:0', grad_fn=<SelectBackward>)\n",
      "19->tensor([0.7372, 0.2937], device='cuda:0', grad_fn=<SelectBackward>)\n",
      "20->tensor([0.7323, 0.2995], device='cuda:0', grad_fn=<SelectBackward>)\n",
      "21->tensor([0.6601, 0.3593], device='cuda:0', grad_fn=<SelectBackward>)\n",
      "22->tensor([0.7242, 0.3064], device='cuda:0', grad_fn=<SelectBackward>)\n",
      "23->tensor([0.7527, 0.2804], device='cuda:0', grad_fn=<SelectBackward>)\n",
      "24->tensor([0.7240, 0.3077], device='cuda:0', grad_fn=<SelectBackward>)\n",
      "25->tensor([0.6727, 0.3499], device='cuda:0', grad_fn=<SelectBackward>)\n",
      "26->tensor([0.6797, 0.3492], device='cuda:0', grad_fn=<SelectBackward>)\n",
      "27->tensor([0.6391, 0.3869], device='cuda:0', grad_fn=<SelectBackward>)\n",
      "28->tensor([0.6448, 0.3809], device='cuda:0', grad_fn=<SelectBackward>)\n",
      "29->tensor([0.5332, 0.4758], device='cuda:0', grad_fn=<SelectBackward>)\n",
      "30->tensor([0.4558, 0.5426], device='cuda:0', grad_fn=<SelectBackward>)\n",
      "31->tensor([0.4097, 0.5845], device='cuda:0', grad_fn=<SelectBackward>)\n",
      "32->tensor([0.3867, 0.6044], device='cuda:0', grad_fn=<SelectBackward>)\n",
      "33->tensor([0.3692, 0.6202], device='cuda:0', grad_fn=<SelectBackward>)\n",
      "34->tensor([0.3710, 0.6226], device='cuda:0', grad_fn=<SelectBackward>)\n",
      "35->tensor([0.3909, 0.6089], device='cuda:0', grad_fn=<SelectBackward>)\n",
      "36->tensor([0.4152, 0.5870], device='cuda:0', grad_fn=<SelectBackward>)\n",
      "37->tensor([0.3081, 0.6722], device='cuda:0', grad_fn=<SelectBackward>)\n",
      "38->tensor([0.3109, 0.6698], device='cuda:0', grad_fn=<SelectBackward>)\n",
      "39->tensor([0.3657, 0.6270], device='cuda:0', grad_fn=<SelectBackward>)\n",
      "40->tensor([0.3657, 0.6281], device='cuda:0', grad_fn=<SelectBackward>)\n",
      "41->tensor([0.4000, 0.6035], device='cuda:0', grad_fn=<SelectBackward>)\n",
      "42->tensor([0.3176, 0.6689], device='cuda:0', grad_fn=<SelectBackward>)\n",
      "43->tensor([0.3153, 0.6708], device='cuda:0', grad_fn=<SelectBackward>)\n",
      "44->tensor([0.3546, 0.6383], device='cuda:0', grad_fn=<SelectBackward>)\n",
      "45->tensor([0.3271, 0.6622], device='cuda:0', grad_fn=<SelectBackward>)\n",
      "46->tensor([0.3231, 0.6621], device='cuda:0', grad_fn=<SelectBackward>)\n",
      "47->tensor([0.3465, 0.6426], device='cuda:0', grad_fn=<SelectBackward>)\n",
      "48->tensor([0.3794, 0.6169], device='cuda:0', grad_fn=<SelectBackward>)\n",
      "49->tensor([0.4314, 0.5754], device='cuda:0', grad_fn=<SelectBackward>)\n",
      "50->tensor([0.3862, 0.6105], device='cuda:0', grad_fn=<SelectBackward>)\n",
      "51->tensor([0.3514, 0.6371], device='cuda:0', grad_fn=<SelectBackward>)\n",
      "52->tensor([0.4013, 0.5958], device='cuda:0', grad_fn=<SelectBackward>)\n",
      "53->tensor([0.4416, 0.5604], device='cuda:0', grad_fn=<SelectBackward>)\n",
      "54->tensor([0.3572, 0.6276], device='cuda:0', grad_fn=<SelectBackward>)\n",
      "55->tensor([0.3782, 0.6136], device='cuda:0', grad_fn=<SelectBackward>)\n",
      "56->tensor([0.3219, 0.6643], device='cuda:0', grad_fn=<SelectBackward>)\n",
      "57->tensor([0.3146, 0.6704], device='cuda:0', grad_fn=<SelectBackward>)\n",
      "58->tensor([0.4105, 0.5896], device='cuda:0', grad_fn=<SelectBackward>)\n",
      "59->tensor([0.4597, 0.5523], device='cuda:0', grad_fn=<SelectBackward>)\n",
      "60->tensor([0.4060, 0.5946], device='cuda:0', grad_fn=<SelectBackward>)\n",
      "61->tensor([0.3775, 0.6122], device='cuda:0', grad_fn=<SelectBackward>)\n",
      "62->tensor([0.4965, 0.5267], device='cuda:0', grad_fn=<SelectBackward>)\n",
      "63->tensor([0.4125, 0.5878], device='cuda:0', grad_fn=<SelectBackward>)\n",
      "64->tensor([0.4025, 0.5967], device='cuda:0', grad_fn=<SelectBackward>)\n",
      "65->tensor([0.3453, 0.6410], device='cuda:0', grad_fn=<SelectBackward>)\n",
      "66->tensor([0.4160, 0.5845], device='cuda:0', grad_fn=<SelectBackward>)\n",
      "67->tensor([0.3767, 0.6146], device='cuda:0', grad_fn=<SelectBackward>)\n",
      "68->tensor([0.3420, 0.6452], device='cuda:0', grad_fn=<SelectBackward>)\n",
      "69->tensor([0.4859, 0.5260], device='cuda:0', grad_fn=<SelectBackward>)\n",
      "70->tensor([0.3690, 0.6229], device='cuda:0', grad_fn=<SelectBackward>)\n",
      "71->tensor([0.3800, 0.6155], device='cuda:0', grad_fn=<SelectBackward>)\n",
      "72->tensor([0.4054, 0.5866], device='cuda:0', grad_fn=<SelectBackward>)\n",
      "73->tensor([0.4701, 0.5423], device='cuda:0', grad_fn=<SelectBackward>)\n",
      "74->tensor([0.4140, 0.5855], device='cuda:0', grad_fn=<SelectBackward>)\n",
      "75->tensor([0.3965, 0.6001], device='cuda:0', grad_fn=<SelectBackward>)\n",
      "76->tensor([0.4979, 0.5152], device='cuda:0', grad_fn=<SelectBackward>)\n",
      "77->tensor([0.3840, 0.6121], device='cuda:0', grad_fn=<SelectBackward>)\n",
      "78->tensor([0.3772, 0.6175], device='cuda:0', grad_fn=<SelectBackward>)\n",
      "79->tensor([0.3774, 0.6161], device='cuda:0', grad_fn=<SelectBackward>)\n",
      "80->tensor([0.4057, 0.5924], device='cuda:0', grad_fn=<SelectBackward>)\n",
      "81->tensor([0.3763, 0.6191], device='cuda:0', grad_fn=<SelectBackward>)\n",
      "82->tensor([0.3971, 0.6025], device='cuda:0', grad_fn=<SelectBackward>)\n",
      "83->tensor([0.3814, 0.6128], device='cuda:0', grad_fn=<SelectBackward>)\n",
      "84->tensor([0.3751, 0.6166], device='cuda:0', grad_fn=<SelectBackward>)\n",
      "85->tensor([0.4226, 0.5735], device='cuda:0', grad_fn=<SelectBackward>)\n",
      "86->tensor([0.4897, 0.5157], device='cuda:0', grad_fn=<SelectBackward>)\n",
      "87->tensor([0.4533, 0.5486], device='cuda:0', grad_fn=<SelectBackward>)\n",
      "88->tensor([0.4512, 0.5492], device='cuda:0', grad_fn=<SelectBackward>)\n",
      "89->tensor([0.4919, 0.5216], device='cuda:0', grad_fn=<SelectBackward>)\n",
      "90->tensor([0.6420, 0.3994], device='cuda:0', grad_fn=<SelectBackward>)\n",
      "91->tensor([0.6108, 0.4256], device='cuda:0', grad_fn=<SelectBackward>)\n",
      "92->tensor([0.6531, 0.3903], device='cuda:0', grad_fn=<SelectBackward>)\n",
      "93->tensor([0.6299, 0.4089], device='cuda:0', grad_fn=<SelectBackward>)\n",
      "94->tensor([0.6012, 0.4308], device='cuda:0', grad_fn=<SelectBackward>)\n",
      "95->tensor([0.5960, 0.4337], device='cuda:0', grad_fn=<SelectBackward>)\n",
      "96->tensor([0.5884, 0.4425], device='cuda:0', grad_fn=<SelectBackward>)\n",
      "97->tensor([0.6202, 0.4164], device='cuda:0', grad_fn=<SelectBackward>)\n",
      "98->tensor([0.5987, 0.4311], device='cuda:0', grad_fn=<SelectBackward>)\n",
      "99->tensor([0.6089, 0.4270], device='cuda:0', grad_fn=<SelectBackward>)\n",
      "100->tensor([0.6380, 0.4014], device='cuda:0', grad_fn=<SelectBackward>)\n",
      "101->tensor([0.5984, 0.4359], device='cuda:0', grad_fn=<SelectBackward>)\n",
      "102->tensor([0.4745, 0.5407], device='cuda:0', grad_fn=<SelectBackward>)\n",
      "103->tensor([0.5941, 0.4390], device='cuda:0', grad_fn=<SelectBackward>)\n",
      "104->tensor([0.6330, 0.4054], device='cuda:0', grad_fn=<SelectBackward>)\n",
      "105->tensor([0.6521, 0.3911], device='cuda:0', grad_fn=<SelectBackward>)\n",
      "106->tensor([0.6450, 0.3988], device='cuda:0', grad_fn=<SelectBackward>)\n",
      "107->tensor([0.6397, 0.4032], device='cuda:0', grad_fn=<SelectBackward>)\n",
      "108->tensor([0.6157, 0.4220], device='cuda:0', grad_fn=<SelectBackward>)\n",
      "109->tensor([0.5731, 0.4623], device='cuda:0', grad_fn=<SelectBackward>)\n",
      "110->tensor([0.6401, 0.3998], device='cuda:0', grad_fn=<SelectBackward>)\n",
      "111->tensor([0.6330, 0.4062], device='cuda:0', grad_fn=<SelectBackward>)\n",
      "112->tensor([0.5239, 0.4992], device='cuda:0', grad_fn=<SelectBackward>)\n",
      "113->tensor([0.5490, 0.4748], device='cuda:0', grad_fn=<SelectBackward>)\n",
      "114->tensor([0.4988, 0.5198], device='cuda:0', grad_fn=<SelectBackward>)\n",
      "115->tensor([0.4445, 0.5563], device='cuda:0', grad_fn=<SelectBackward>)\n",
      "116->tensor([0.5844, 0.4517], device='cuda:0', grad_fn=<SelectBackward>)\n",
      "117->tensor([0.6240, 0.4144], device='cuda:0', grad_fn=<SelectBackward>)\n",
      "118->tensor([0.5894, 0.4480], device='cuda:0', grad_fn=<SelectBackward>)\n",
      "119->tensor([0.6205, 0.4210], device='cuda:0', grad_fn=<SelectBackward>)\n"
     ]
    }
   ],
   "source": [
    "for i in range(120):\n",
    "    print(str(i) + \"->\" + str(out[i]))"
   ]
  }
 ],
 "metadata": {
  "kernelspec": {
   "display_name": "Python 3",
   "language": "python",
   "name": "python3"
  },
  "language_info": {
   "codemirror_mode": {
    "name": "ipython",
    "version": 3
   },
   "file_extension": ".py",
   "mimetype": "text/x-python",
   "name": "python",
   "nbconvert_exporter": "python",
   "pygments_lexer": "ipython3",
   "version": "3.7.10"
  }
 },
 "nbformat": 4,
 "nbformat_minor": 5
}
