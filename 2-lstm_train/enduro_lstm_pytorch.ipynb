{
 "cells": [
  {
   "cell_type": "markdown",
   "id": "2aa45a41",
   "metadata": {},
   "source": [
    "# Train LSTM model to Enduro sequence games"
   ]
  },
  {
   "cell_type": "markdown",
   "id": "ee9cb59c",
   "metadata": {},
   "source": [
    "## Load libraries"
   ]
  },
  {
   "cell_type": "code",
   "execution_count": 1,
   "id": "3f7d4cfa",
   "metadata": {},
   "outputs": [],
   "source": [
    "import numpy as np\n",
    "import torch\n",
    "import torch.nn as nn\n",
    "import csv\n",
    "import os\n",
    "import cv2\n",
    "from PIL import Image\n",
    "from enduro_lstm import *\n",
    "import matplotlib.pyplot as plt\n",
    "import time"
   ]
  },
  {
   "cell_type": "markdown",
   "id": "29110489",
   "metadata": {},
   "source": [
    "## Set to GPU if available"
   ]
  },
  {
   "cell_type": "code",
   "execution_count": 2,
   "id": "737018d5",
   "metadata": {},
   "outputs": [
    {
     "name": "stdout",
     "output_type": "stream",
     "text": [
      "Use GPU (y/n) y\n",
      "GPU is available\n"
     ]
    }
   ],
   "source": [
    "use_gpu = input(\"Use GPU (y/n) \")\n",
    "if use_gpu == 'y':\n",
    "    use_gpu = True\n",
    "else:\n",
    "    use_gpu = False\n",
    "    \n",
    "device = conf_cuda(use_gpu)"
   ]
  },
  {
   "cell_type": "code",
   "execution_count": 3,
   "id": "98837389",
   "metadata": {},
   "outputs": [],
   "source": [
    "if use_gpu:\n",
    "    torch.cuda.empty_cache()"
   ]
  },
  {
   "cell_type": "markdown",
   "id": "a73856ba",
   "metadata": {},
   "source": [
    "## Set configurations"
   ]
  },
  {
   "cell_type": "code",
   "execution_count": 4,
   "id": "df4f89b5",
   "metadata": {},
   "outputs": [
    {
     "data": {
      "text/plain": [
       "False"
      ]
     },
     "execution_count": 4,
     "metadata": {},
     "output_type": "execute_result"
    }
   ],
   "source": [
    "obs = 'play'\n",
    "if obs == 'zigzag':\n",
    "    zigzag = True\n",
    "else:\n",
    "    zigzag = False\n",
    "zigzag"
   ]
  },
  {
   "cell_type": "code",
   "execution_count": 5,
   "id": "economic-thanks",
   "metadata": {},
   "outputs": [],
   "source": [
    "data_path = r\"../1-generate/data/\"\n",
    "n_epochs = 50\n",
    "hidden_neurons = 200\n",
    "stop_train = 1e-5\n",
    "\n",
    "start_match = 45\n",
    "end_match = 46\n",
    "\n",
    "start_frame = 1\n",
    "end_frame = 1000"
   ]
  },
  {
   "cell_type": "code",
   "execution_count": 6,
   "id": "348fd38e",
   "metadata": {},
   "outputs": [
    {
     "name": "stdout",
     "output_type": "stream",
     "text": [
      "models/play_m45to46_f1to1000_epoch50_H200\n",
      "ATTENTION! folder not created. Training informations will overwrite the existing one\n"
     ]
    }
   ],
   "source": [
    "model_name = f\"{obs}_m{start_match}to{end_match}_f{start_frame}to{end_frame}_epoch{n_epochs}_H{hidden_neurons}\"\n",
    "newpath = f\"models/\" + model_name\n",
    "if not os.path.exists(newpath):\n",
    "    print(f\"models/\" + model_name + \" created\")\n",
    "    os.makedirs(newpath)\n",
    "else:\n",
    "    print(f\"models/\" + model_name)\n",
    "    print(\"ATTENTION! folder not created. Training informations will overwrite the existing one\")"
   ]
  },
  {
   "cell_type": "markdown",
   "id": "9ddc7716",
   "metadata": {},
   "source": [
    "## Load frames and targets"
   ]
  },
  {
   "cell_type": "code",
   "execution_count": 7,
   "id": "f5023547",
   "metadata": {},
   "outputs": [
    {
     "data": {
      "text/plain": [
       "[0, 1, 2, 3, 4, 5, 6, 7, 8]"
      ]
     },
     "execution_count": 7,
     "metadata": {},
     "output_type": "execute_result"
    }
   ],
   "source": [
    "ACTIONS_LIST = get_actions_list(zigzag=zigzag)\n",
    "ACTIONS_LIST"
   ]
  },
  {
   "cell_type": "code",
   "execution_count": 8,
   "id": "endangered-sacramento",
   "metadata": {},
   "outputs": [
    {
     "name": "stdout",
     "output_type": "stream",
     "text": [
      "Successfully loaded NPZ.\n",
      "Successfully loaded NPZ.\n"
     ]
    }
   ],
   "source": [
    "num_of_frames_arr = []\n",
    "frames_arr = []\n",
    "actions_arr = []\n",
    "\n",
    "for m in range(start_match, end_match + 1):\n",
    "    \n",
    "    num_of_frames, frames, actions, rewards, lifes = load_npz(data_path, m)\n",
    "    frames = frames[start_frame - 1:end_frame]\n",
    "    actions = actions[start_frame - 1:end_frame]\n",
    "    \n",
    "    action_one_hot = [prepare_action_data(i, ACTIONS_LIST) for i in actions]\n",
    "    actions = np.array(action_one_hot)\n",
    "    actions = actions.reshape(len(actions), -1)\n",
    "    \n",
    "    frames_arr.append(frames)\n",
    "    actions_arr.append(actions)\n",
    "    num_of_frames_arr.append(end_frame - start_frame + 1) "
   ]
  },
  {
   "cell_type": "code",
   "execution_count": 9,
   "id": "14ffda1d",
   "metadata": {},
   "outputs": [],
   "source": [
    "data = np.array(frames_arr)/255\n",
    "targets = np.array(actions_arr)\n",
    "num_of_frames_arr = np.array(num_of_frames_arr)"
   ]
  },
  {
   "cell_type": "code",
   "execution_count": 10,
   "id": "muslim-pursuit",
   "metadata": {},
   "outputs": [],
   "source": [
    "data = torch.tensor(data).float()\n",
    "targets = torch.tensor(targets).float()"
   ]
  },
  {
   "cell_type": "markdown",
   "id": "5c597ded",
   "metadata": {},
   "source": [
    "## Create model"
   ]
  },
  {
   "cell_type": "code",
   "execution_count": 11,
   "id": "cognitive-triple",
   "metadata": {},
   "outputs": [],
   "source": [
    "model = Model(device=device, input_size=20400, output_size=len(ACTIONS_LIST), hidden_dim=hidden_neurons, n_layers=1)"
   ]
  },
  {
   "cell_type": "code",
   "execution_count": 12,
   "id": "0ce69fb6",
   "metadata": {},
   "outputs": [],
   "source": [
    "# We'll also set the model to the device that we defined earlier (default is CPU)\n",
    "if use_gpu:\n",
    "    model.cuda()\n",
    "    data = data.cuda() \n",
    "    targets = targets.cuda()"
   ]
  },
  {
   "cell_type": "code",
   "execution_count": 13,
   "id": "private-thunder",
   "metadata": {},
   "outputs": [],
   "source": [
    "min_loss = 1e-05\n",
    "# Define Loss, Optimizer\n",
    "criterion = nn.MSELoss()\n",
    "# optimizer = torch.optim.Adam(model.parameters(), lr=lr)\n",
    "optimizer = torch.optim.Adam(model.parameters())"
   ]
  },
  {
   "cell_type": "markdown",
   "id": "a12bfee5",
   "metadata": {},
   "source": [
    "## Model train"
   ]
  },
  {
   "cell_type": "code",
   "execution_count": 14,
   "id": "760b21f9",
   "metadata": {},
   "outputs": [],
   "source": [
    "train_loss_arr = np.array([])\n",
    "train_acc_arr = np.array([])\n",
    "valid_idx_arr = np.array([])\n",
    "valid_loss_arr = np.array([])\n",
    "valid_acc_arr = np.array([])"
   ]
  },
  {
   "cell_type": "code",
   "execution_count": 16,
   "id": "7dd8fa72",
   "metadata": {
    "scrolled": true
   },
   "outputs": [
    {
     "name": "stdout",
     "output_type": "stream",
     "text": [
      "Epoch: 10/50 - valid: 0---------------------------------\n",
      "Train -> Loss: 0.075774528086185 Acc: 0.473000019788742\n",
      "Valid -> Loss: 0.074589334428310 Acc: 0.489000022411346\n",
      "0.07577452808618546\n",
      "1\n",
      "Epoch: 10/50 - valid: 1---------------------------------\n",
      "Train -> Loss: 0.074589334428310 Acc: 0.489000022411346\n",
      "Valid -> Loss: 0.075750961899757 Acc: 0.473000019788742\n",
      "0.0745893344283104\n",
      "0.07577452808618546\n",
      "Epoch: 20/50 - valid: 0---------------------------------\n",
      "Train -> Loss: 0.075556330382824 Acc: 0.473000019788742\n",
      "Valid -> Loss: 0.074429981410503 Acc: 0.489000022411346\n",
      "model not saved\n",
      "Epoch: 20/50 - valid: 1---------------------------------\n",
      "Train -> Loss: 0.074429981410503 Acc: 0.489000022411346\n",
      "Valid -> Loss: 0.075536012649536 Acc: 0.473000019788742\n",
      "0.07442998141050339\n",
      "0.0745893344283104\n",
      "Epoch: 30/50 - valid: 0---------------------------------\n",
      "Train -> Loss: 0.075316376984119 Acc: 0.473000019788742\n",
      "Valid -> Loss: 0.074236720800400 Acc: 0.489000022411346\n",
      "model not saved\n",
      "Epoch: 30/50 - valid: 1---------------------------------\n",
      "Train -> Loss: 0.074236720800400 Acc: 0.489000022411346\n",
      "Valid -> Loss: 0.075308494269848 Acc: 0.473000019788742\n",
      "0.07423672080039978\n",
      "0.07442998141050339\n",
      "Epoch: 40/50 - valid: 0---------------------------------\n",
      "Train -> Loss: 0.074885234236717 Acc: 0.473000019788742\n",
      "Valid -> Loss: 0.073876306414604 Acc: 0.489000022411346\n",
      "model not saved\n",
      "Epoch: 40/50 - valid: 1---------------------------------\n",
      "Train -> Loss: 0.073876306414604 Acc: 0.489000022411346\n",
      "Valid -> Loss: 0.074839279055595 Acc: 0.473000019788742\n",
      "0.07387630641460419\n",
      "0.07423672080039978\n",
      "Epoch: 50/50 - valid: 0---------------------------------\n",
      "Train -> Loss: 0.074374377727509 Acc: 0.473000019788742\n",
      "Valid -> Loss: 0.073457442224026 Acc: 0.489000022411346\n",
      "model not saved\n",
      "Epoch: 50/50 - valid: 1---------------------------------\n",
      "Train -> Loss: 0.073457442224026 Acc: 0.489000022411346\n",
      "Valid -> Loss: 0.074304699897766 Acc: 0.473000019788742\n",
      "0.07345744222402573\n",
      "0.07387630641460419\n",
      "--- 75.79266858100891 seconds ---\n"
     ]
    }
   ],
   "source": [
    "all_idx = np.arange(len(data))\n",
    "start_time_processing = time.time()\n",
    "\n",
    "# Training Run\n",
    "loss_file = open(newpath + '/' + \"loss_file.txt\", \"w\")\n",
    "first_time = True\n",
    "\n",
    "best_loss = 1\n",
    "first_epoch = True\n",
    "\n",
    "for epoch in range(1, n_epochs + 1):\n",
    "    \n",
    "    for valid_idx in range(len(data)):\n",
    "\n",
    "        train_idx = np.setdiff1d(all_idx, valid_idx)\n",
    "        X_train = data[train_idx]\n",
    "        Y_train = targets[train_idx]\n",
    "        X_valid = data[valid_idx]\n",
    "        Y_valid = targets[valid_idx]\n",
    "\n",
    "        model.train()\n",
    "\n",
    "        optimizer.zero_grad() # Clears existing gradients from previous epoch\n",
    "        X_train.to(device)\n",
    "        output, hidden = model(X_train)\n",
    "        loss = criterion(output, Y_train.view(-1,len(ACTIONS_LIST)).float())\n",
    "        loss.backward() # Does backpropagation and calculates gradients\n",
    "        optimizer.step() # Updates the weights accordingly\n",
    "        \n",
    "        if epoch%10 == 0:\n",
    "            \n",
    "            train_loss_arr = np.append(train_loss_arr, loss.item())\n",
    "            train_acc_arr  = np.append(train_acc_arr, get_acc(output, Y_train.reshape(-1, len(ACTIONS_LIST))))\n",
    "\n",
    "            model.eval()\n",
    "            \n",
    "            output, hidden = model(X_valid.reshape(1, X_valid.shape[0], X_valid.shape[1]))\n",
    "            loss = criterion(output, Y_valid.view(-1, len(ACTIONS_LIST)).float())\n",
    "            \n",
    "            valid_idx_arr = np.append(valid_idx_arr, int(valid_idx))\n",
    "            valid_loss_arr = np.append(valid_loss_arr, loss.item())\n",
    "            valid_acc_arr = np.append(valid_acc_arr, get_acc(output, Y_valid.reshape(-1, len(ACTIONS_LIST))))\n",
    "            \n",
    "            loss_file.write(\"Epoch: {}/{} - valid: {}---------------------------------\\n\".format(epoch, n_epochs, int(valid_idx_arr[-1])))\n",
    "            loss_file.write(\"Train -> Loss: {:.15f} Acc: {:.15f}\\n\".format(train_loss_arr[-1], train_acc_arr[-1]))\n",
    "            loss_file.write(\"Valid -> Loss: {:.15f} Acc: {:.15f}\\n\".format(valid_loss_arr[-1], valid_acc_arr[-1]))\n",
    "\n",
    "            print(\"Epoch: {}/{} - valid: {}---------------------------------\".format(epoch, n_epochs, int(valid_idx_arr[-1])))\n",
    "            print(\"Train -> Loss: {:.15f} Acc: {:.15f}\".format(train_loss_arr[-1], train_acc_arr[-1]))\n",
    "            print(\"Valid -> Loss: {:.15f} Acc: {:.15f}\".format(valid_loss_arr[-1], valid_acc_arr[-1]))\n",
    "\n",
    "            if train_loss_arr[-1] < best_loss:\n",
    "                print(train_loss_arr[-1])\n",
    "                print(best_loss)\n",
    "                state = { 'epoch': epoch + 1, 'state_dict': model.state_dict(),\n",
    "                          'optimizer': optimizer.state_dict(), 'losslogger': train_loss_arr[-1], }\n",
    "                torch.save(state, newpath + '/' + model_name)\n",
    "                best_loss = train_loss_arr[-1] \n",
    "            else:\n",
    "                print(\"model not saved\")\n",
    "\n",
    "loss_file.write(\"--- %s seconds ---\" % (time.time() - start_time_processing))\n",
    "loss_file.close()\n",
    "np.savez(newpath + '/' + \"train_loss_arr\", train_loss_arr)\n",
    "np.savez(newpath + '/' + \"valid_loss_table\", valid_loss_arr)\n",
    "np.savez(newpath + '/' + \"valid_acc_table\", valid_loss_mean_arr)\n",
    "print(\"--- %s seconds ---\" % (time.time() - start_time_processing))"
   ]
  },
  {
   "cell_type": "code",
   "execution_count": 17,
   "id": "08ef030b",
   "metadata": {},
   "outputs": [
    {
     "data": {
      "text/plain": [
       "array([0.07947815, 0.07806029, 0.07712716, 0.07552649, 0.07664829,\n",
       "       0.07512809, 0.07632333, 0.07491969, 0.07604128, 0.07475504,\n",
       "       0.07577453, 0.07458933, 0.07555633, 0.07442998, 0.07531638,\n",
       "       0.07423672, 0.07488523, 0.07387631, 0.07437438, 0.07345744])"
      ]
     },
     "execution_count": 17,
     "metadata": {},
     "output_type": "execute_result"
    }
   ],
   "source": [
    "train_loss_arr"
   ]
  },
  {
   "cell_type": "code",
   "execution_count": 18,
   "id": "9501e5e3",
   "metadata": {
    "scrolled": true
   },
   "outputs": [
    {
     "data": {
      "text/plain": [
       "array([0.47300002, 0.48900002, 0.47300002, 0.48900002, 0.47300002,\n",
       "       0.48900002, 0.47300002, 0.48900002, 0.47300002, 0.48900002,\n",
       "       0.47300002, 0.48900002, 0.47300002, 0.48900002, 0.47300002,\n",
       "       0.48900002, 0.47300002, 0.48900002, 0.47300002, 0.48900002])"
      ]
     },
     "execution_count": 18,
     "metadata": {},
     "output_type": "execute_result"
    }
   ],
   "source": [
    "train_acc_arr"
   ]
  },
  {
   "cell_type": "code",
   "execution_count": 19,
   "id": "98159aa5",
   "metadata": {},
   "outputs": [
    {
     "data": {
      "text/plain": [
       "array([0., 1., 0., 1., 0., 1., 0., 1., 0., 1., 0., 1., 0., 1., 0., 1., 0.,\n",
       "       1., 0., 1.])"
      ]
     },
     "execution_count": 19,
     "metadata": {},
     "output_type": "execute_result"
    }
   ],
   "source": [
    "valid_idx_arr"
   ]
  },
  {
   "cell_type": "code",
   "execution_count": 20,
   "id": "0bdb90f9",
   "metadata": {},
   "outputs": [
    {
     "data": {
      "text/plain": [
       "array([0.07806029, 0.07888003, 0.07552649, 0.07706559, 0.07512809,\n",
       "       0.0766156 , 0.07491969, 0.07629382, 0.07475504, 0.07601271,\n",
       "       0.07458933, 0.07575096, 0.07442998, 0.07553601, 0.07423672,\n",
       "       0.07530849, 0.07387631, 0.07483928, 0.07345744, 0.0743047 ])"
      ]
     },
     "execution_count": 20,
     "metadata": {},
     "output_type": "execute_result"
    }
   ],
   "source": [
    "valid_loss_arr"
   ]
  },
  {
   "cell_type": "code",
   "execution_count": 22,
   "id": "c453751e",
   "metadata": {},
   "outputs": [
    {
     "data": {
      "text/plain": [
       "array([], dtype=float64)"
      ]
     },
     "execution_count": 22,
     "metadata": {},
     "output_type": "execute_result"
    }
   ],
   "source": [
    "valid_acc_arr"
   ]
  },
  {
   "cell_type": "code",
   "execution_count": 23,
   "id": "31f4250b",
   "metadata": {},
   "outputs": [
    {
     "data": {
      "text/plain": [
       "array([], dtype=float64)"
      ]
     },
     "execution_count": 23,
     "metadata": {},
     "output_type": "execute_result"
    }
   ],
   "source": [
    "valid_loss_mean_arr "
   ]
  },
  {
   "cell_type": "code",
   "execution_count": 24,
   "id": "f918676d",
   "metadata": {},
   "outputs": [
    {
     "data": {
      "text/plain": [
       "array([], dtype=float64)"
      ]
     },
     "execution_count": 24,
     "metadata": {},
     "output_type": "execute_result"
    }
   ],
   "source": [
    "valid_acc_mean_arr "
   ]
  },
  {
   "cell_type": "code",
   "execution_count": 24,
   "id": "drawn-avenue",
   "metadata": {
    "scrolled": true
   },
   "outputs": [
    {
     "ename": "RuntimeError",
     "evalue": "CUDA error: invalid configuration argument",
     "output_type": "error",
     "traceback": [
      "\u001b[1;31m---------------------------------------------------------------------------\u001b[0m",
      "\u001b[1;31mRuntimeError\u001b[0m                              Traceback (most recent call last)",
      "\u001b[1;32m<ipython-input-24-00487c535c12>\u001b[0m in \u001b[0;36m<module>\u001b[1;34m\u001b[0m\n\u001b[0;32m     15\u001b[0m         \u001b[0mX_train\u001b[0m\u001b[1;33m.\u001b[0m\u001b[0mto\u001b[0m\u001b[1;33m(\u001b[0m\u001b[0mdevice\u001b[0m\u001b[1;33m)\u001b[0m\u001b[1;33m\u001b[0m\u001b[1;33m\u001b[0m\u001b[0m\n\u001b[0;32m     16\u001b[0m         \u001b[0moutput\u001b[0m\u001b[1;33m,\u001b[0m \u001b[0mhidden\u001b[0m \u001b[1;33m=\u001b[0m \u001b[0mmodel\u001b[0m\u001b[1;33m(\u001b[0m\u001b[0mX_train\u001b[0m\u001b[1;33m)\u001b[0m\u001b[1;33m\u001b[0m\u001b[1;33m\u001b[0m\u001b[0m\n\u001b[1;32m---> 17\u001b[1;33m         \u001b[0mloss\u001b[0m \u001b[1;33m=\u001b[0m \u001b[0mcriterion\u001b[0m\u001b[1;33m(\u001b[0m\u001b[0moutput\u001b[0m\u001b[1;33m,\u001b[0m \u001b[0mY_train\u001b[0m\u001b[1;33m.\u001b[0m\u001b[0mview\u001b[0m\u001b[1;33m(\u001b[0m\u001b[1;33m-\u001b[0m\u001b[1;36m1\u001b[0m\u001b[1;33m,\u001b[0m\u001b[0mlen\u001b[0m\u001b[1;33m(\u001b[0m\u001b[0mACTIONS_LIST\u001b[0m\u001b[1;33m)\u001b[0m\u001b[1;33m)\u001b[0m\u001b[1;33m.\u001b[0m\u001b[0mfloat\u001b[0m\u001b[1;33m(\u001b[0m\u001b[1;33m)\u001b[0m\u001b[1;33m)\u001b[0m\u001b[1;33m\u001b[0m\u001b[1;33m\u001b[0m\u001b[0m\n\u001b[0m\u001b[0;32m     18\u001b[0m         \u001b[0mloss\u001b[0m\u001b[1;33m.\u001b[0m\u001b[0mbackward\u001b[0m\u001b[1;33m(\u001b[0m\u001b[1;33m)\u001b[0m \u001b[1;31m# Does backpropagation and calculates gradients\u001b[0m\u001b[1;33m\u001b[0m\u001b[1;33m\u001b[0m\u001b[0m\n\u001b[0;32m     19\u001b[0m         \u001b[0moptimizer\u001b[0m\u001b[1;33m.\u001b[0m\u001b[0mstep\u001b[0m\u001b[1;33m(\u001b[0m\u001b[1;33m)\u001b[0m \u001b[1;31m# Updates the weights accordinglyw\u001b[0m\u001b[1;33m\u001b[0m\u001b[1;33m\u001b[0m\u001b[0m\n",
      "\u001b[1;32m~\\miniconda3\\envs\\torch\\lib\\site-packages\\torch\\nn\\modules\\module.py\u001b[0m in \u001b[0;36m_call_impl\u001b[1;34m(self, *input, **kwargs)\u001b[0m\n\u001b[0;32m    887\u001b[0m             \u001b[0mresult\u001b[0m \u001b[1;33m=\u001b[0m \u001b[0mself\u001b[0m\u001b[1;33m.\u001b[0m\u001b[0m_slow_forward\u001b[0m\u001b[1;33m(\u001b[0m\u001b[1;33m*\u001b[0m\u001b[0minput\u001b[0m\u001b[1;33m,\u001b[0m \u001b[1;33m**\u001b[0m\u001b[0mkwargs\u001b[0m\u001b[1;33m)\u001b[0m\u001b[1;33m\u001b[0m\u001b[1;33m\u001b[0m\u001b[0m\n\u001b[0;32m    888\u001b[0m         \u001b[1;32melse\u001b[0m\u001b[1;33m:\u001b[0m\u001b[1;33m\u001b[0m\u001b[1;33m\u001b[0m\u001b[0m\n\u001b[1;32m--> 889\u001b[1;33m             \u001b[0mresult\u001b[0m \u001b[1;33m=\u001b[0m \u001b[0mself\u001b[0m\u001b[1;33m.\u001b[0m\u001b[0mforward\u001b[0m\u001b[1;33m(\u001b[0m\u001b[1;33m*\u001b[0m\u001b[0minput\u001b[0m\u001b[1;33m,\u001b[0m \u001b[1;33m**\u001b[0m\u001b[0mkwargs\u001b[0m\u001b[1;33m)\u001b[0m\u001b[1;33m\u001b[0m\u001b[1;33m\u001b[0m\u001b[0m\n\u001b[0m\u001b[0;32m    890\u001b[0m         for hook in itertools.chain(\n\u001b[0;32m    891\u001b[0m                 \u001b[0m_global_forward_hooks\u001b[0m\u001b[1;33m.\u001b[0m\u001b[0mvalues\u001b[0m\u001b[1;33m(\u001b[0m\u001b[1;33m)\u001b[0m\u001b[1;33m,\u001b[0m\u001b[1;33m\u001b[0m\u001b[1;33m\u001b[0m\u001b[0m\n",
      "\u001b[1;32m~\\miniconda3\\envs\\torch\\lib\\site-packages\\torch\\nn\\modules\\loss.py\u001b[0m in \u001b[0;36mforward\u001b[1;34m(self, input, target)\u001b[0m\n\u001b[0;32m    526\u001b[0m \u001b[1;33m\u001b[0m\u001b[0m\n\u001b[0;32m    527\u001b[0m     \u001b[1;32mdef\u001b[0m \u001b[0mforward\u001b[0m\u001b[1;33m(\u001b[0m\u001b[0mself\u001b[0m\u001b[1;33m,\u001b[0m \u001b[0minput\u001b[0m\u001b[1;33m:\u001b[0m \u001b[0mTensor\u001b[0m\u001b[1;33m,\u001b[0m \u001b[0mtarget\u001b[0m\u001b[1;33m:\u001b[0m \u001b[0mTensor\u001b[0m\u001b[1;33m)\u001b[0m \u001b[1;33m->\u001b[0m \u001b[0mTensor\u001b[0m\u001b[1;33m:\u001b[0m\u001b[1;33m\u001b[0m\u001b[1;33m\u001b[0m\u001b[0m\n\u001b[1;32m--> 528\u001b[1;33m         \u001b[1;32mreturn\u001b[0m \u001b[0mF\u001b[0m\u001b[1;33m.\u001b[0m\u001b[0mmse_loss\u001b[0m\u001b[1;33m(\u001b[0m\u001b[0minput\u001b[0m\u001b[1;33m,\u001b[0m \u001b[0mtarget\u001b[0m\u001b[1;33m,\u001b[0m \u001b[0mreduction\u001b[0m\u001b[1;33m=\u001b[0m\u001b[0mself\u001b[0m\u001b[1;33m.\u001b[0m\u001b[0mreduction\u001b[0m\u001b[1;33m)\u001b[0m\u001b[1;33m\u001b[0m\u001b[1;33m\u001b[0m\u001b[0m\n\u001b[0m\u001b[0;32m    529\u001b[0m \u001b[1;33m\u001b[0m\u001b[0m\n\u001b[0;32m    530\u001b[0m \u001b[1;33m\u001b[0m\u001b[0m\n",
      "\u001b[1;32m~\\miniconda3\\envs\\torch\\lib\\site-packages\\torch\\nn\\functional.py\u001b[0m in \u001b[0;36mmse_loss\u001b[1;34m(input, target, size_average, reduce, reduction)\u001b[0m\n\u001b[0;32m   2927\u001b[0m \u001b[1;33m\u001b[0m\u001b[0m\n\u001b[0;32m   2928\u001b[0m     \u001b[0mexpanded_input\u001b[0m\u001b[1;33m,\u001b[0m \u001b[0mexpanded_target\u001b[0m \u001b[1;33m=\u001b[0m \u001b[0mtorch\u001b[0m\u001b[1;33m.\u001b[0m\u001b[0mbroadcast_tensors\u001b[0m\u001b[1;33m(\u001b[0m\u001b[0minput\u001b[0m\u001b[1;33m,\u001b[0m \u001b[0mtarget\u001b[0m\u001b[1;33m)\u001b[0m\u001b[1;33m\u001b[0m\u001b[1;33m\u001b[0m\u001b[0m\n\u001b[1;32m-> 2929\u001b[1;33m     \u001b[1;32mreturn\u001b[0m \u001b[0mtorch\u001b[0m\u001b[1;33m.\u001b[0m\u001b[0m_C\u001b[0m\u001b[1;33m.\u001b[0m\u001b[0m_nn\u001b[0m\u001b[1;33m.\u001b[0m\u001b[0mmse_loss\u001b[0m\u001b[1;33m(\u001b[0m\u001b[0mexpanded_input\u001b[0m\u001b[1;33m,\u001b[0m \u001b[0mexpanded_target\u001b[0m\u001b[1;33m,\u001b[0m \u001b[0m_Reduction\u001b[0m\u001b[1;33m.\u001b[0m\u001b[0mget_enum\u001b[0m\u001b[1;33m(\u001b[0m\u001b[0mreduction\u001b[0m\u001b[1;33m)\u001b[0m\u001b[1;33m)\u001b[0m\u001b[1;33m\u001b[0m\u001b[1;33m\u001b[0m\u001b[0m\n\u001b[0m\u001b[0;32m   2930\u001b[0m \u001b[1;33m\u001b[0m\u001b[0m\n\u001b[0;32m   2931\u001b[0m \u001b[1;33m\u001b[0m\u001b[0m\n",
      "\u001b[1;31mRuntimeError\u001b[0m: CUDA error: invalid configuration argument"
     ]
    }
   ],
   "source": [
    "all_idx = np.arange(len(data))\n",
    "start_time_processing = time.time()\n",
    "for epoch in range(1, n_epochs + 1):\n",
    "    \n",
    "    for valid_idx in range(len(data)):\n",
    "\n",
    "        train_idx = np.setdiff1d(all_idx, valid_idx)\n",
    "        X_train = data[train_idx]\n",
    "        Y_train = targets[train_idx]\n",
    "        X_valid = data[valid_idx]\n",
    "        Y_valid = targets[valid_idx]\n",
    "\n",
    "        model.train()\n",
    "\n",
    "        optimizer.zero_grad() # Clears existing gradients from previous epoch\n",
    "        X_train.to(device)\n",
    "        output, hidden = model(X_train)\n",
    "        loss = criterion(output, Y_train.view(-1,len(ACTIONS_LIST)).float())\n",
    "        loss.backward() # Does backpropagation and calculates gradients\n",
    "        optimizer.step() # Updates the weights accordingly\n",
    "        \n",
    "        if epoch%10 == 0:\n",
    "\n",
    "            train_loss_arr = np.append(train_loss_arr, loss.item())\n",
    "            train_acc_arr  = np.append(train_acc_arr, get_acc(output, Y_train.reshape(-1, len(ACTIONS_LIST))))\n",
    "\n",
    "            model.eval()\n",
    "\n",
    "            epoch_valid_losses = np.array([])\n",
    "            epoch_valid_acc = np.array([])\n",
    "            \n",
    "            output, hidden = model(X_valid.reshape(1, X_valid.shape[0], X_valid.shape[1]))\n",
    "            loss = criterion(output, Y_valid.view(-1,len(ACTIONS_LIST)).float())\n",
    "            epoch_valid_losses = np.append(epoch_valid_losses, loss.item())\n",
    "            epoch_valid_acc = np.append( epoch_valid_acc, get_acc(output, Y_train.reshape(-1, len(ACTIONS_LIST))) )\n",
    "\n",
    "            if first_epoch:\n",
    "                valid_loss_arr = epoch_valid_losses.reshape(-1, 1)\n",
    "                valid_acc_arr = epoch_valid_acc.reshape(-1, 1)\n",
    "                first_epoch = False\n",
    "            else:\n",
    "                valid_loss_arr = np.insert(valid_loss_arr, valid_loss_arr.shape[1], epoch_valid_losses, axis=1)\n",
    "                valid_acc_arr = np.insert(valid_acc_arr, valid_acc_arr.shape[1], epoch_valid_acc, axis=1)\n",
    "\n",
    "            valid_loss_mean_arr = np.append(valid_loss_mean_arr, np.mean(epoch_valid_losses))\n",
    "            valid_acc_mean_arr = np.append(valid_acc_mean_arr, np.mean(epoch_valid_acc))\n",
    "\n",
    "            loss_file.write(\"Epoch: {}/{}-------------------------------------------\\n\".format(epoch, n_epochs))\n",
    "            loss_file.write(\"Train -> Loss: {:.15f} Acc: {:.15f}\\n\".format(train_loss_arr[-1], train_acc_arr[-1]))\n",
    "            loss_file.write(\"Valid -> Loss: {:.15f} Acc: {:.15f}\\n\".format(valid_loss_mean_arr[-1], valid_acc_mean_arr[-1]))\n",
    "\n",
    "            print(\"Epoch: {}/{}-------------------------------------------\".format(epoch, n_epochs))\n",
    "            print(\"Train -> Loss: {:.15f} Acc: {:.15f}\".format(train_loss_arr[-1], train_acc_arr[-1]))\n",
    "            print(\"Valid -> Loss: {:.15f} Acc: {:.15f}\".format(valid_loss_mean_arr[-1], valid_acc_mean_arr[-1]))\n",
    "\n",
    "            if train_loss_arr[-1] < best_loss:\n",
    "                state = { 'epoch': epoch + 1, 'state_dict': model.state_dict(),\n",
    "                          'optimizer': optimizer.state_dict(), 'losslogger': loss.item(), }\n",
    "                torch.save(state, newpath + '/' + model_name)\n",
    "                best_loss = loss.item()\n",
    "            else:\n",
    "                print(\"model not saved\")\n",
    "\n",
    "            if (valid_loss_mean_arr[-1] < min_loss):\n",
    "                break\n",
    "\n",
    "loss_file.write(\"--- %s seconds ---\" % (time.time() - start_time_processing))\n",
    "loss_file.close()\n",
    "np.savez(newpath + '/' + \"train_loss_arr\", train_loss_arr)\n",
    "np.savez(newpath + '/' + \"valid_loss_arr\", valid_loss_arr)\n",
    "np.savez(newpath + '/' + \"valid_loss_mean_arr\", valid_loss_mean_arr)\n",
    "print(\"--- %s seconds ---\" % (time.time() - start_time_processing))"
   ]
  },
  {
   "cell_type": "code",
   "execution_count": 16,
   "id": "0ab67be3",
   "metadata": {
    "scrolled": true
   },
   "outputs": [
    {
     "data": {
      "image/png": "[encoded data removed]",
      "text/plain": [
       "<Figure size 432x288 with 1 Axes>"
      ]
     },
     "metadata": {
      "needs_background": "light"
     },
     "output_type": "display_data"
    }
   ],
   "source": [
    "import matplotlib.pyplot as plt\n",
    "\n",
    "# summarize history for loss\n",
    "plt.clf()\n",
    "plt.plot(train_loss_arr, color='blue')\n",
    "plt.title('model train loss')\n",
    "plt.ylabel('loss')\n",
    "plt.xlabel('epoch')\n",
    "plt.legend(['train'], loc='upper left')\n",
    "plt.yscale('log')\n",
    "plt.savefig(newpath + '/' + 'train_loss.png')"
   ]
  },
  {
   "cell_type": "code",
   "execution_count": null,
   "id": "d804a4fd",
   "metadata": {},
   "outputs": [],
   "source": [
    "# summarize history for loss\n",
    "plt.clf()\n",
    "plt.plot(valid_loss_mean_arr, color='blue')\n",
    "plt.title('model valid loss')\n",
    "plt.ylabel('loss')\n",
    "plt.xlabel('epoch')\n",
    "plt.legend(['valid'], loc='upper left')\n",
    "plt.yscale('log')\n",
    "plt.savefig(newpath + '/' + 'valid_loss_mean.png')"
   ]
  },
  {
   "cell_type": "code",
   "execution_count": 56,
   "id": "liquid-shame",
   "metadata": {},
   "outputs": [],
   "source": [
    "for seq in range(len(X_train)):\n",
    "    # summarize history for loss\n",
    "    plt.clf()\n",
    "    plt.plot(valid_loss_arr[seq], color='blue')\n",
    "    plt.title('model valid loss ' + str(seq))\n",
    "    plt.ylabel('loss')\n",
    "    plt.xlabel('epoch')\n",
    "    plt.legend(['valid'], loc='upper left')\n",
    "    plt.yscale('log')\n",
    "    plt.savefig(newpath + '/' + f'valid_loss_{seq}.png')"
   ]
  }
 ],
 "metadata": {
  "kernelspec": {
   "display_name": "Python 3",
   "language": "python",
   "name": "python3"
  },
  "language_info": {
   "codemirror_mode": {
    "name": "ipython",
    "version": 3
   },
   "file_extension": ".py",
   "mimetype": "text/x-python",
   "name": "python",
   "nbconvert_exporter": "python",
   "pygments_lexer": "ipython3",
   "version": "3.7.10"
  }
 },
 "nbformat": 4,
 "nbformat_minor": 5
}
