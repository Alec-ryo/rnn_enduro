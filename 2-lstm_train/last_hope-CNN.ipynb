{
 "cells": [
  {
   "cell_type": "code",
   "execution_count": 25,
   "id": "be11962a",
   "metadata": {},
   "outputs": [],
   "source": [
    "indices = [[  0,  62,  80, 106, 117, 137, 142, 156, 159, 166, 185, 215, 226, 235, 242, 252, 259, 279, 281, 292, 296, 299, \n",
    "            303, 308, 315, 318, 321, 329, 333, 335, 354, 360, 374, 377, 382, 386, 390, 393, 402, 414, 420, 444, 447, 465, \n",
    "            469, 487, 491, 504, 506, 510, 513, 525, 528, 538, 552, 558, 570, 576, 581, 584, 588, 595, 598, 604, 607, 610, \n",
    "            618, 619, 622, 631, 641, 645, 662, 672, 685, 693, 697, 704, 718, 724, 726, 735, 739, 745, 754, 755, 770, 773, \n",
    "            789, 790, 799, 805, 809, 823, 834, 850, 854, 857, 868, 874, 875, 877, 883, 885, 904, 906, 911, 919, 923, 926, \n",
    "            932, 943, 962, 965, 984, 991, 999, 1007, 1010, 1015, 1017, 1018],\n",
    "           [  0,  31,  45,  47,  56,  63,  69,  85,  88,  92,  96, 112, 118, 124, 130, 137, 143, 151, 158, 170, 184, 202, \n",
    "            223, 243, 249, 255, 260, 269, 272, 275, 276, 282, 285, 295, 296, 297, 306, 308, 318, 322, 331, 334, 337, 338, \n",
    "            341, 343, 354, 357, 381, 387, 400, 402, 408, 420, 423, 426, 429, 441, 443, 445, 448, 454, 463, 465, 474, 481,\n",
    "            502, 506, 524, 533, 538, 548, 556, 562, 566, 570, 581, 588, 603, 604, 609, 652, 668, 681, 698, 710, 714, 725, \n",
    "            729, 736, 739, 743, 748, 749, 752, 766, 770, 774, 778, 781, 792, 795, 803, 804, 806, 814, 818, 821, 828, 834, \n",
    "            837, 843, 849, 855, 862, 868, 874, 884, 888, 895, 896, 919, 935, 942, 945, 957, 958, 963, 964, 965, 977, 980,\n",
    "            984, 989, 997, 1000], \n",
    "           [  0,  37,  53,  81,  94,  99, 119, 123, 124, 142, 144, 146, 162, 193, 211, 213, 222, 230, 232, 235, 238, 240, \n",
    "            252, 255, 258, 267, 270, 275, 278, 284, 287, 289, 300, 307, 313, 331, 352, 359, 371, 379, 386, 389, 392, 409, \n",
    "            412, 432, 435, 440, 442, 446, 462, 467, 472, 506, 527, 531, 535, 553, 557, 561, 571, 579, 589, 602, 607, 609, \n",
    "            612, 616, 621, 631, 634, 638, 640, 644, 645, 661, 669, 673, 676, 692, 695, 698, 701, 711, 717, 720, 721, 734, \n",
    "            744, 747, 750, 755, 759, 774, 785, 793, 807, 859, 891, 895, 912, 927, 948, 958, 969, 980, 997, 998, 1004], \n",
    "           [  0,  33,  58,  75,  86, 100, 118, 120, 139, 142, 147, 159, 162, 165, 167, 174, 179, 180, 183, 192, 197, 199, \n",
    "            209, 214, 217, 222, 227, 231, 232, 239, 244, 251, 262, 266, 271, 275, 277, 282, 287, 291, 294, 297, 308, 311, \n",
    "            316, 318, 322, 327, 339, 342, 348, 352, 362, 372, 383, 397, 399, 402, 405, 417, 420, 425, 428, 454, 457, 464, \n",
    "            470, 477, 481, 485, 488, 494, 495, 503, 507, 517, 535, 537, 540, 553, 556, 558, 577, 588, 598, 601, 609, 620, \n",
    "            634, 638, 647, 650, 656, 659, 660, 663, 669, 672, 681, 684, 696, 702, 705, 708, 716, 719, 726, 730, 739, 743, \n",
    "            746, 758, 765, 766, 777, 783, 785, 786, 790, 792, 800, 802, 808, 809, 810, 816, 819, 823, 827, 835, 837, 842, \n",
    "            845, 853, 865, 868, 873, 885, 889, 891, 897, 904, 906, 918, 941, 949, 956, 961, 969, 973, 976, 981, 984, 991, \n",
    "            996, 999, 1002], \n",
    "           [  0,  59,  68,  73,  76,  86,  94,  97, 101, 104, 109, 118, 120, 123, 128, 134, 136, 139, 143, 145, 148, 154, \n",
    "            160, 162, 177, 190, 195, 199, 204, 208, 212, 220, 221, 222, 232, 234, 246, 251, 253, 256, 263, 270, 273, 287, \n",
    "            302, 314, 322, 355, 357, 368, 396, 397, 401, 416, 428, 433, 437, 442, 446, 452, 456, 469, 475, 490, 500, 506, \n",
    "            525, 526, 538, 545, 551, 554, 558, 562, 571, 579, 582, 586, 587, 600, 612, 664, 823, 824, 832, 850, 858, 870, \n",
    "            879, 881, 889, 898, 901, 913, 916, 924, 932, 936, 943, 952, 955, 975, 985, 992, 997, 1001], \n",
    "           [  0,  36,  56,  94, 114, 121, 136, 140, 143, 153, 159, 162, 171, 174, 182, 190, 197, 201, 215, 219, 237, 239, \n",
    "            249, 251, 254, 265, 269, 297, 322, 335, 340, 343, 348, 352, 355, 363, 368, 371, 375, 384, 388, 395, 405, 411, \n",
    "            439, 461, 464, 468, 477, 483, 485, 487, 494, 497, 501, 503, 514, 519, 521, 526, 529, 532, 538, 547, 551, 555, \n",
    "            560, 579, 584, 597, 600, 602, 607, 609, 617, 623, 626, 634, 638, 644, 649, 652, 663, 671, 672, 675, 678, 685, \n",
    "            688, 699, 700, 712, 719, 724, 726, 735, 744, 753, 756, 775, 797, 806, 812, 818, 826, 829, 832, 848, 852, 856, \n",
    "            866, 869, 872, 875, 881, 886, 891, 893, 895, 901, 910, 930, 936, 940, 953, 958, 989, 997, 1004, 1006] \n",
    "          ]"
   ]
  },
  {
   "cell_type": "code",
   "execution_count": 26,
   "id": "f456a482",
   "metadata": {},
   "outputs": [],
   "source": [
    "import numpy as np\n",
    "import torch\n",
    "import torch.nn as nn\n",
    "import csv\n",
    "import os\n",
    "import cv2\n",
    "from PIL import Image\n",
    "from enduro_lstm import *\n",
    "import matplotlib.pyplot as plt\n",
    "import time"
   ]
  },
  {
   "cell_type": "code",
   "execution_count": 27,
   "id": "b2398e3c",
   "metadata": {},
   "outputs": [
    {
     "name": "stdout",
     "output_type": "stream",
     "text": [
      "Use GPU (y/n) n\n",
      "Selected CPU\n"
     ]
    }
   ],
   "source": [
    "use_gpu = input(\"Use GPU (y/n) \")\n",
    "\n",
    "if use_gpu == 'y':\n",
    "    use_gpu = True\n",
    "else:\n",
    "    use_gpu = False\n",
    "    \n",
    "device = conf_cuda(use_gpu)"
   ]
  },
  {
   "cell_type": "code",
   "execution_count": 28,
   "id": "b36512f6",
   "metadata": {},
   "outputs": [
    {
     "name": "stdout",
     "output_type": "stream",
     "text": [
      "escreva uma observacao (sem espaco): teste_class\n"
     ]
    }
   ],
   "source": [
    "obs = input('escreva uma observacao (sem espaco): ')\n",
    "\n",
    "if obs == 'zigzag':\n",
    "    zigzag = True\n",
    "else:\n",
    "    zigzag = False"
   ]
  },
  {
   "cell_type": "code",
   "execution_count": 29,
   "id": "a0825400",
   "metadata": {},
   "outputs": [
    {
     "name": "stdout",
     "output_type": "stream",
     "text": [
      "number of epochs: 100\n",
      "number of hidden neurons: 200\n"
     ]
    }
   ],
   "source": [
    "data_path = r\"../1-generate/data/\"\n",
    "n_epochs = int(input(\"number of epochs: \") ) #5000\n",
    "hidden_neurons = int(input(\"number of hidden neurons: \")) #500\n",
    "stop_train = 1e-5\n",
    "\n",
    "# start_match = int(input(\"start match: \")) #45\n",
    "# end_match = int(input(\"end match: \")) #49\n",
    "\n",
    "start_match = 0\n",
    "end_match = 0\n",
    "\n",
    "# start_frame = int(input(\"start frame: \")) #1\n",
    "# end_frame = int(input(\"end frame: \")) #1000\n",
    "\n",
    "start_frame = 1\n",
    "end_frame = 120\n",
    "\n",
    "is_softmax = False"
   ]
  },
  {
   "cell_type": "code",
   "execution_count": 30,
   "id": "ba0461f6",
   "metadata": {},
   "outputs": [
    {
     "name": "stdout",
     "output_type": "stream",
     "text": [
      "models/teste_class_m0to0_f1to120_epoch100_H200\n",
      "ATTENTION! folder not created. Training informations will overwrite the existing one\n"
     ]
    }
   ],
   "source": [
    "model_name = f\"{obs}_m{start_match}to{end_match}_f{start_frame}to{end_frame}_epoch{n_epochs}_H{hidden_neurons}\"\n",
    "newpath = f\"models/\" + model_name\n",
    "if not os.path.exists(newpath):\n",
    "    print(f\"models/\" + model_name + \" created\")\n",
    "    os.makedirs(newpath)\n",
    "else:\n",
    "    print(f\"models/\" + model_name)\n",
    "    print(\"ATTENTION! folder not created. Training informations will overwrite the existing one\")\n"
   ]
  },
  {
   "cell_type": "code",
   "execution_count": 31,
   "id": "2e7bc869",
   "metadata": {},
   "outputs": [],
   "source": [
    "ACTIONS_LIST = get_actions_list(zigzag=zigzag)"
   ]
  },
  {
   "cell_type": "code",
   "execution_count": 32,
   "id": "3f65c5e3",
   "metadata": {},
   "outputs": [
    {
     "name": "stdout",
     "output_type": "stream",
     "text": [
      "Successfully loaded NPZ.\n"
     ]
    }
   ],
   "source": [
    "num_of_frames_arr = []\n",
    "frames_arr = []\n",
    "actions_arr = []\n",
    "\n",
    "for m in range(start_match, end_match + 1):\n",
    "    \n",
    "    num_of_frames, frames, actions, rewards, lifes = load_npz(data_path, m)\n",
    "    frames = frames[start_frame - 1:end_frame]\n",
    "    frames = frames.reshape(end_frame - start_frame + 1, 170, 120)\n",
    "    frames = frames[:, 30:130, 10:110]\n",
    "    frames = frames.reshape(end_frame - start_frame + 1, 100, 100)\n",
    "    actions = actions[start_frame - 1:end_frame]\n",
    "    \n",
    "    action_one_hot = [prepare_action_data(i, ACTIONS_LIST) for i in actions]\n",
    "    actions = np.array(action_one_hot)\n",
    "    actions = actions.reshape(len(actions), -1)\n",
    "    \n",
    "    frames_arr.append(frames)\n",
    "    actions_arr.append(actions)\n",
    "    num_of_frames_arr.append(end_frame - start_frame + 1) "
   ]
  },
  {
   "cell_type": "code",
   "execution_count": 33,
   "id": "f9f87921",
   "metadata": {},
   "outputs": [],
   "source": [
    "X_train = np.array(frames_arr)/255"
   ]
  },
  {
   "cell_type": "code",
   "execution_count": 34,
   "id": "6c241dee",
   "metadata": {},
   "outputs": [],
   "source": [
    "Y_train = actions_arr"
   ]
  },
  {
   "cell_type": "code",
   "execution_count": 35,
   "id": "d14d62be",
   "metadata": {},
   "outputs": [],
   "source": [
    "X_train = list(map(lambda x: torch.tensor(x), X_train))\n",
    "Y_train = list(map(lambda x: torch.tensor(x), Y_train))"
   ]
  },
  {
   "cell_type": "code",
   "execution_count": 36,
   "id": "aa5af117",
   "metadata": {},
   "outputs": [
    {
     "data": {
      "text/plain": [
       "tensor([120.])"
      ]
     },
     "execution_count": 36,
     "metadata": {},
     "output_type": "execute_result"
    }
   ],
   "source": [
    "seq_len = torch.FloatTensor(list(map(len,X_train)))\n",
    "seq_len"
   ]
  },
  {
   "cell_type": "code",
   "execution_count": 37,
   "id": "22bcba8c",
   "metadata": {},
   "outputs": [],
   "source": [
    "X_train = pad_sequence(X_train, batch_first=True).float()\n",
    "Y_train = pad_sequence(Y_train, batch_first=True).float()"
   ]
  },
  {
   "cell_type": "code",
   "execution_count": 91,
   "id": "44353d0d",
   "metadata": {},
   "outputs": [],
   "source": [
    "class Net(nn.Module):\n",
    "    def __init__(self):\n",
    "        super().__init__()\n",
    "        self.conv1 = nn.Conv2d(1, 200, 5)\n",
    "        self.pool = nn.MaxPool2d(2, 2)\n",
    "        self.conv2 = nn.Conv2d(200, 16, 5)\n",
    "        self.fc1 = nn.Linear(7744, 120)\n",
    "        self.fc2 = nn.Linear(120, 84)\n",
    "        self.fc3 = nn.Linear(84, 9)\n",
    "\n",
    "    def forward(self, x):\n",
    "        x = self.pool(F.relu(self.conv1(x)))\n",
    "        x = self.pool(F.relu(self.conv2(x)))\n",
    "        x = torch.flatten(x, 1) # flatten all dimensions except batch\n",
    "        #print(x)\n",
    "        #print(x.shape)\n",
    "        x = F.relu(self.fc1(x))\n",
    "        x = F.relu(self.fc2(x))\n",
    "        x = self.fc3(x)\n",
    "        return x"
   ]
  },
  {
   "cell_type": "code",
   "execution_count": 92,
   "id": "cd2f5cc2",
   "metadata": {},
   "outputs": [],
   "source": [
    "model = Net()"
   ]
  },
  {
   "cell_type": "code",
   "execution_count": 94,
   "id": "b0569ad7",
   "metadata": {},
   "outputs": [],
   "source": [
    "# We'll also set the model to the device that we defined earlier (default is CPU)\n",
    "if use_gpu:\n",
    "    model.cuda()\n",
    "    X_train = X_train.cuda() \n",
    "    Y_train = Y_train.cuda()"
   ]
  },
  {
   "cell_type": "code",
   "execution_count": 95,
   "id": "fce6db90",
   "metadata": {},
   "outputs": [],
   "source": [
    "min_loss = 1e-05\n",
    "# Define Loss, Optimizer\n",
    "criterion = nn.MSELoss()\n",
    "# optimizer = torch.optim.Adam(model.parameters(), lr=lr)\n",
    "optimizer = torch.optim.Adam(model.parameters())"
   ]
  },
  {
   "cell_type": "code",
   "execution_count": 96,
   "id": "2565608e",
   "metadata": {},
   "outputs": [],
   "source": [
    "train_loss_arr = np.array([])\n",
    "train_acc_arr = np.array([])"
   ]
  },
  {
   "cell_type": "code",
   "execution_count": 104,
   "id": "428624e6",
   "metadata": {},
   "outputs": [],
   "source": [
    "X_train = X_train[0][0].reshape(1,1,100,100)"
   ]
  },
  {
   "cell_type": "code",
   "execution_count": 105,
   "id": "6e30c8f3",
   "metadata": {},
   "outputs": [],
   "source": [
    "Y_train = Y_train[0][0].reshape(1,1,9)"
   ]
  },
  {
   "cell_type": "code",
   "execution_count": 106,
   "id": "98711684",
   "metadata": {},
   "outputs": [
    {
     "name": "stdout",
     "output_type": "stream",
     "text": [
      "Epoch: 10/100-------------------------------------------\n",
      "Train -> Loss: 0.001578614232130 Acc: 1.000000000000000\n",
      "Epoch: 20/100-------------------------------------------\n",
      "Train -> Loss: 0.002430548891425 Acc: 1.000000000000000\n",
      "model not saved\n",
      "Epoch: 30/100-------------------------------------------\n",
      "Train -> Loss: 0.000671447080094 Acc: 1.000000000000000\n",
      "Epoch: 40/100-------------------------------------------\n",
      "Train -> Loss: 0.000256561877904 Acc: 1.000000000000000\n",
      "Epoch: 50/100-------------------------------------------\n",
      "Train -> Loss: 0.000059815098211 Acc: 1.000000000000000\n",
      "Epoch: 60/100-------------------------------------------\n",
      "Train -> Loss: 0.000008685929060 Acc: 1.000000000000000\n",
      "Epoch: 70/100-------------------------------------------\n",
      "Train -> Loss: 0.000000913893530 Acc: 1.000000000000000\n",
      "Epoch: 80/100-------------------------------------------\n",
      "Train -> Loss: 0.000002846119742 Acc: 1.000000000000000\n",
      "model not saved\n",
      "Epoch: 90/100-------------------------------------------\n",
      "Train -> Loss: 0.000001463403578 Acc: 1.000000000000000\n",
      "model not saved\n",
      "Epoch: 100/100-------------------------------------------\n",
      "Train -> Loss: 0.000000122488274 Acc: 1.000000000000000\n",
      "--- 9.243923664093018 seconds ---\n"
     ]
    }
   ],
   "source": [
    "start_time_processing = time.time()\n",
    "\n",
    "# Training Run\n",
    "loss_file = open(newpath + '/' + \"loss_file.txt\", \"w\")\n",
    "first_time = True\n",
    "\n",
    "best_loss = 1\n",
    "first_epoch = True\n",
    "\n",
    "for epoch in range(1, n_epochs + 1):\n",
    "\n",
    "    model.train()\n",
    "\n",
    "    optimizer.zero_grad() # Clears existing gradients from previous epoch\n",
    "    X_train.to(device)\n",
    "    output = model(X_train)\n",
    "    loss = criterion(output, Y_train.view(-1,len(ACTIONS_LIST)).float())\n",
    "    loss.backward() # Does backpropagation and calculates gradients\n",
    "    optimizer.step() # Updates the weights accordinglyw\n",
    "        \n",
    "    if epoch%10 == 0:\n",
    "\n",
    "        train_loss_arr = np.append(train_loss_arr, loss.item())\n",
    "        train_acc_arr  = np.append(train_acc_arr, get_acc(output, Y_train.reshape(-1, len(ACTIONS_LIST))))\n",
    "        # train_acc_arr  = np.append(train_acc_arr, get_acc_2(output, target_padded.reshape(-1, len(ACTIONS_LIST))))\n",
    "        \n",
    "        loss_file.write(\"Epoch: {}/{}-------------------------------------------\\n\".format(epoch, n_epochs))\n",
    "        loss_file.write(\"Train -> Loss: {:.15f} Acc: {:.15f}\\n\".format(train_loss_arr[-1], train_acc_arr[-1]))\n",
    "            \n",
    "        print(\"Epoch: {}/{}-------------------------------------------\".format(epoch, n_epochs))\n",
    "        print(\"Train -> Loss: {:.15f} Acc: {:.15f}\".format(train_loss_arr[-1], train_acc_arr[-1]))\n",
    "        \n",
    "        if train_loss_arr[-1] < best_loss:\n",
    "            state = { 'epoch': epoch + 1, 'state_dict': model.state_dict(),\n",
    "                      'optimizer': optimizer.state_dict(), 'losslogger': loss.item(), }\n",
    "            torch.save(state, newpath + '/' + model_name)\n",
    "            best_loss = loss.item()\n",
    "        else:\n",
    "            print(\"model not saved\")\n",
    "            \n",
    "loss_file.write(\"--- %s seconds ---\" % (time.time() - start_time_processing))\n",
    "loss_file.close()\n",
    "np.savez(newpath + '/' + \"train_loss_arr\", train_loss_arr)\n",
    "#np.savez(newpath + '/' + \"valid_acc_table\", valid_loss_mean_arr)\n",
    "print(\"--- %s seconds ---\" % (time.time() - start_time_processing))"
   ]
  },
  {
   "cell_type": "code",
   "execution_count": 107,
   "id": "d4fbc833",
   "metadata": {},
   "outputs": [
    {
     "data": {
      "text/plain": [
       "tensor([[-4.9528e-04,  2.1598e-04,  9.9984e-01,  7.0705e-04, -1.3217e-04,\n",
       "         -5.4993e-05, -3.7453e-04, -3.2724e-04,  1.2971e-04]],\n",
       "       grad_fn=<AddmmBackward>)"
      ]
     },
     "execution_count": 107,
     "metadata": {},
     "output_type": "execute_result"
    }
   ],
   "source": [
    "output"
   ]
  }
 ],
 "metadata": {
  "kernelspec": {
   "display_name": "Python 3",
   "language": "python",
   "name": "python3"
  },
  "language_info": {
   "codemirror_mode": {
    "name": "ipython",
    "version": 3
   },
   "file_extension": ".py",
   "mimetype": "text/x-python",
   "name": "python",
   "nbconvert_exporter": "python",
   "pygments_lexer": "ipython3",
   "version": "3.7.10"
  }
 },
 "nbformat": 4,
 "nbformat_minor": 5
}
