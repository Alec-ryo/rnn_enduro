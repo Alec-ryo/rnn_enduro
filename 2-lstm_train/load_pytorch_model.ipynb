{
 "cells": [
  {
   "cell_type": "markdown",
   "id": "a02c05ab",
   "metadata": {},
   "source": [
    "# Load and test trained model"
   ]
  },
  {
   "cell_type": "markdown",
   "id": "429f7996",
   "metadata": {},
   "source": [
    "## Load libraries"
   ]
  },
  {
   "cell_type": "code",
   "execution_count": 1,
   "id": "5114873b",
   "metadata": {},
   "outputs": [],
   "source": [
    "import numpy as np\n",
    "import torch\n",
    "import torch.nn as nn\n",
    "from enduro_lstm import *"
   ]
  },
  {
   "cell_type": "code",
   "execution_count": 2,
   "id": "7c87a302",
   "metadata": {},
   "outputs": [
    {
     "name": "stdout",
     "output_type": "stream",
     "text": [
      "GPU not available, CPU used\n"
     ]
    }
   ],
   "source": [
    "device = conf_cuda(True)"
   ]
  },
  {
   "cell_type": "code",
   "execution_count": 3,
   "id": "9ea85b82",
   "metadata": {},
   "outputs": [
    {
     "data": {
      "text/plain": [
       "device(type='cpu')"
      ]
     },
     "execution_count": 3,
     "metadata": {},
     "output_type": "execute_result"
    }
   ],
   "source": [
    "device"
   ]
  },
  {
   "cell_type": "code",
   "execution_count": 5,
   "id": "ec63db4f",
   "metadata": {},
   "outputs": [
    {
     "data": {
      "text/plain": [
       "'cpu'"
      ]
     },
     "execution_count": 5,
     "metadata": {},
     "output_type": "execute_result"
    }
   ],
   "source": [
    "device.type"
   ]
  },
  {
   "cell_type": "markdown",
   "id": "48dadaf8",
   "metadata": {},
   "source": [
    "## Set configurations"
   ]
  },
  {
   "cell_type": "code",
   "execution_count": 6,
   "id": "ea9dc943",
   "metadata": {},
   "outputs": [],
   "source": [
    "data_path = r\"../1-generate/data/\"\n",
    "match = 45\n",
    "use_cuda = False\n",
    "zigzag = False"
   ]
  },
  {
   "cell_type": "markdown",
   "id": "e9cf3c89",
   "metadata": {},
   "source": [
    "## Load trained model"
   ]
  },
  {
   "cell_type": "code",
   "execution_count": 93,
   "id": "50caf845",
   "metadata": {},
   "outputs": [],
   "source": [
    "newpath = 'models/play_m45to46_f1to1000_epoch10000_H500/' + 'play_m45to46_f1to1000_epoch10000_H500'"
   ]
  },
  {
   "cell_type": "code",
   "execution_count": 94,
   "id": "e21b4fd7",
   "metadata": {},
   "outputs": [
    {
     "data": {
      "text/plain": [
       "Model(\n",
       "  (lstm): LSTM(20400, 500, batch_first=True)\n",
       "  (fc): Linear(in_features=500, out_features=9, bias=True)\n",
       "  (sigmoid): Sigmoid()\n",
       ")"
      ]
     },
     "execution_count": 94,
     "metadata": {},
     "output_type": "execute_result"
    }
   ],
   "source": [
    "model = Model(device=device, input_size=20400, output_size=9, hidden_dim=500, n_layers=1)\n",
    "model.load_state_dict(torch.load(newpath, map_location=device))\n",
    "model.eval()"
   ]
  },
  {
   "cell_type": "markdown",
   "id": "98d55682",
   "metadata": {},
   "source": [
    "## Prepare cell with trained model "
   ]
  },
  {
   "cell_type": "code",
   "execution_count": 97,
   "id": "d2147390",
   "metadata": {},
   "outputs": [],
   "source": [
    "lstmcell = nn.LSTMCell(20400, 500)\n",
    "linear = nn.Linear(500, 9)\n",
    "sigmoid = nn.Sigmoid()"
   ]
  },
  {
   "cell_type": "code",
   "execution_count": 98,
   "id": "935d5e5d",
   "metadata": {},
   "outputs": [],
   "source": [
    "lstmcell.weight_ih = model.lstm.weight_ih_l0\n",
    "lstmcell.weight_hh = model.lstm.weight_hh_l0\n",
    "lstmcell.bias_hh = model.lstm.bias_hh_l0\n",
    "lstmcell.bias_ih = model.lstm.bias_ih_l0"
   ]
  },
  {
   "cell_type": "code",
   "execution_count": 99,
   "id": "c4088aac",
   "metadata": {},
   "outputs": [],
   "source": [
    "linear.weight = model.fc.weight\n",
    "linear.bias = model.fc.bias"
   ]
  },
  {
   "cell_type": "code",
   "execution_count": 100,
   "id": "99940fb6",
   "metadata": {},
   "outputs": [],
   "source": [
    "hx = torch.zeros(1, 500)\n",
    "cx = torch.zeros(1, 500)"
   ]
  },
  {
   "cell_type": "code",
   "execution_count": 101,
   "id": "659f1274",
   "metadata": {},
   "outputs": [
    {
     "name": "stdout",
     "output_type": "stream",
     "text": [
      "torch.Size([2000, 20400])\n",
      "torch.Size([2000, 500])\n",
      "torch.Size([2000])\n",
      "torch.Size([2000])\n",
      "torch.Size([9, 500])\n",
      "torch.Size([9])\n"
     ]
    }
   ],
   "source": [
    "print(model.lstm.weight_ih_l0.shape)\n",
    "print(model.lstm.weight_hh_l0.shape)\n",
    "print(model.lstm.bias_ih_l0.shape)\n",
    "print(model.lstm.bias_hh_l0.shape)\n",
    "print(model.fc.weight.shape)\n",
    "print(model.fc.bias.shape)"
   ]
  },
  {
   "cell_type": "markdown",
   "id": "6ac739f7",
   "metadata": {},
   "source": [
    "## Testing outputs of model"
   ]
  },
  {
   "cell_type": "code",
   "execution_count": 102,
   "id": "634d7caa",
   "metadata": {},
   "outputs": [],
   "source": [
    "ACTIONS_LIST = get_actions_list(zigzag=zigzag)"
   ]
  },
  {
   "cell_type": "code",
   "execution_count": 103,
   "id": "7d806566",
   "metadata": {},
   "outputs": [
    {
     "name": "stdout",
     "output_type": "stream",
     "text": [
      "Successfully loaded NPZ.\n"
     ]
    }
   ],
   "source": [
    "num_of_frames, frames, actions, rewards, lifes = load_npz(data_path, match)"
   ]
  },
  {
   "cell_type": "code",
   "execution_count": 104,
   "id": "be9e569a",
   "metadata": {},
   "outputs": [],
   "source": [
    "X_train = frames.reshape(1, len(frames) ,-1)/255"
   ]
  },
  {
   "cell_type": "code",
   "execution_count": 105,
   "id": "832982eb",
   "metadata": {},
   "outputs": [],
   "source": [
    "action_one_hot = [prepare_action_data(i, ACTIONS_LIST) for i in actions]\n",
    "Y_train = np.array(action_one_hot)\n",
    "Y_train = Y_train.reshape(1, len(Y_train), -1)"
   ]
  },
  {
   "cell_type": "code",
   "execution_count": 106,
   "id": "59c231c2",
   "metadata": {},
   "outputs": [],
   "source": [
    "X_train = torch.tensor(X_train).float()\n",
    "Y_train = torch.tensor(Y_train).float()"
   ]
  },
  {
   "cell_type": "code",
   "execution_count": 107,
   "id": "7d988171",
   "metadata": {},
   "outputs": [],
   "source": [
    "output = []\n",
    "for i in range(120):\n",
    "    step_input = X_train[0][i]\n",
    "    step_input = step_input.reshape(1, -1)\n",
    "    hx, cx = lstmcell(step_input, (hx, cx))\n",
    "    out = linear(hx)\n",
    "    out = sigmoid(out)\n",
    "    output.append(out)"
   ]
  },
  {
   "cell_type": "code",
   "execution_count": 49,
   "id": "83e1a780",
   "metadata": {},
   "outputs": [
    {
     "data": {
      "text/plain": [
       "torch.Size([1, 20400])"
      ]
     },
     "execution_count": 49,
     "metadata": {},
     "output_type": "execute_result"
    }
   ],
   "source": [
    "step_input.shape"
   ]
  },
  {
   "cell_type": "code",
   "execution_count": 45,
   "id": "4844170d",
   "metadata": {
    "scrolled": true
   },
   "outputs": [
    {
     "name": "stdout",
     "output_type": "stream",
     "text": [
      "0 - tensor([[9.8464e-01, 6.3757e-03, 3.1810e-03, 7.0127e-03, 8.4442e-03, 6.9136e-04,\n",
      "         1.1428e-03, 2.6194e-04, 3.2737e-03]], grad_fn=<SigmoidBackward>)\n",
      "1 - tensor([[9.9504e-01, 1.0786e-03, 1.0695e-03, 2.8307e-03, 3.1207e-03, 1.0626e-04,\n",
      "         1.4665e-04, 4.4985e-05, 1.0269e-03]], grad_fn=<SigmoidBackward>)\n",
      "2 - tensor([[9.9508e-01, 1.3055e-03, 6.1178e-04, 1.7390e-03, 2.3334e-03, 7.9974e-05,\n",
      "         1.5671e-04, 2.6572e-05, 6.4801e-04]], grad_fn=<SigmoidBackward>)\n",
      "3 - tensor([[9.9379e-01, 2.0991e-03, 4.4174e-04, 1.3332e-03, 2.0393e-03, 7.7213e-05,\n",
      "         1.8832e-04, 2.0792e-05, 4.3777e-04]], grad_fn=<SigmoidBackward>)\n",
      "4 - tensor([[9.9594e-01, 8.1084e-04, 8.6053e-04, 2.2886e-03, 2.5752e-03, 7.6249e-05,\n",
      "         1.0747e-04, 3.1953e-05, 8.0991e-04]], grad_fn=<SigmoidBackward>)\n",
      "5 - tensor([[9.9597e-01, 8.0191e-04, 8.6148e-04, 2.3058e-03, 2.5583e-03, 7.6190e-05,\n",
      "         1.0689e-04, 3.1950e-05, 8.1505e-04]], grad_fn=<SigmoidBackward>)\n",
      "6 - tensor([[9.9596e-01, 7.9574e-04, 8.6478e-04, 2.3320e-03, 2.5449e-03, 7.6180e-05,\n",
      "         1.0711e-04, 3.2079e-05, 8.2036e-04]], grad_fn=<SigmoidBackward>)\n",
      "7 - tensor([[9.9514e-01, 1.1341e-03, 7.1912e-04, 1.7911e-03, 2.5438e-03, 7.6365e-05,\n",
      "         1.3716e-04, 2.8971e-05, 6.3304e-04]], grad_fn=<SigmoidBackward>)\n",
      "8 - tensor([[9.9551e-01, 1.0067e-03, 7.4906e-04, 1.8815e-03, 2.5480e-03, 7.6285e-05,\n",
      "         1.3133e-04, 2.9871e-05, 7.0166e-04]], grad_fn=<SigmoidBackward>)\n",
      "9 - tensor([[9.9595e-01, 8.1577e-04, 8.5759e-04, 2.2723e-03, 2.5671e-03, 7.6191e-05,\n",
      "         1.0620e-04, 3.1701e-05, 8.1257e-04]], grad_fn=<SigmoidBackward>)\n",
      "10 - tensor([[9.9313e-01, 2.0867e-03, 6.2751e-04, 1.0131e-03, 2.1312e-03, 7.6867e-05,\n",
      "         1.8076e-04, 2.3876e-05, 5.3204e-04]], grad_fn=<SigmoidBackward>)\n",
      "11 - tensor([[9.9321e-01, 1.8465e-03, 6.4109e-04, 1.2075e-03, 2.2813e-03, 7.6737e-05,\n",
      "         1.7436e-04, 2.5433e-05, 5.6305e-04]], grad_fn=<SigmoidBackward>)\n",
      "12 - tensor([[9.9141e-01, 2.2183e-03, 9.0971e-04, 8.1500e-04, 2.6353e-03, 7.6933e-05,\n",
      "         2.0560e-04, 2.6458e-05, 5.0653e-04]], grad_fn=<SigmoidBackward>)\n",
      "13 - tensor([[9.9579e-01, 8.3957e-04, 8.9415e-04, 2.1798e-03, 2.6008e-03, 7.6222e-05,\n",
      "         1.0775e-04, 3.1828e-05, 8.0804e-04]], grad_fn=<SigmoidBackward>)\n",
      "14 - tensor([[9.9589e-01, 8.1710e-04, 8.7872e-04, 2.2458e-03, 2.5698e-03, 7.6201e-05,\n",
      "         1.0731e-04, 3.1888e-05, 8.1465e-04]], grad_fn=<SigmoidBackward>)\n",
      "15 - tensor([[9.9055e-01, 2.6429e-03, 1.0298e-03, 5.9033e-04, 2.6079e-03, 7.7125e-05,\n",
      "         2.2670e-04, 2.5245e-05, 4.7079e-04]], grad_fn=<SigmoidBackward>)\n",
      "16 - tensor([[9.9576e-01, 8.4490e-04, 8.7908e-04, 2.2241e-03, 2.5661e-03, 7.6223e-05,\n",
      "         1.0613e-04, 3.1189e-05, 8.2563e-04]], grad_fn=<SigmoidBackward>)\n",
      "17 - tensor([[9.9590e-01, 8.1256e-04, 8.5788e-04, 2.3235e-03, 2.5690e-03, 7.6184e-05,\n",
      "         1.0648e-04, 3.1700e-05, 8.2060e-04]], grad_fn=<SigmoidBackward>)\n",
      "18 - tensor([[9.9492e-01, 1.1021e-03, 6.9887e-04, 1.9017e-03, 2.4704e-03, 7.6312e-05,\n",
      "         1.4141e-04, 2.8732e-05, 7.5908e-04]], grad_fn=<SigmoidBackward>)\n",
      "19 - tensor([[9.9300e-01, 1.7400e-03, 6.2803e-04, 1.4046e-03, 2.3232e-03, 7.6631e-05,\n",
      "         1.7435e-04, 2.4273e-05, 6.1742e-04]], grad_fn=<SigmoidBackward>)\n",
      "20 - tensor([[9.9560e-01, 8.5891e-04, 9.1453e-04, 2.1681e-03, 2.5099e-03, 7.6261e-05,\n",
      "         1.0782e-04, 3.1155e-05, 8.4067e-04]], grad_fn=<SigmoidBackward>)\n",
      "21 - tensor([[9.9575e-01, 8.3215e-04, 8.9652e-04, 2.2318e-03, 2.5113e-03, 7.6231e-05,\n",
      "         1.0755e-04, 3.1554e-05, 8.3510e-04]], grad_fn=<SigmoidBackward>)\n",
      "22 - tensor([[9.9141e-01, 2.3888e-03, 6.5482e-04, 9.6646e-04, 2.1384e-03, 7.6922e-05,\n",
      "         2.0088e-04, 2.1585e-05, 5.8998e-04]], grad_fn=<SigmoidBackward>)\n",
      "23 - tensor([[9.9278e-01, 1.3555e-03, 5.1597e-04, 2.3198e-03, 2.3529e-03, 7.6289e-05,\n",
      "         1.7920e-04, 2.7047e-05, 9.2342e-04]], grad_fn=<SigmoidBackward>)\n",
      "24 - tensor([[9.9571e-01, 8.2450e-04, 8.4505e-04, 2.4269e-03, 2.5906e-03, 7.6182e-05,\n",
      "         1.0714e-04, 3.2057e-05, 8.2424e-04]], grad_fn=<SigmoidBackward>)\n",
      "25 - tensor([[9.9131e-01, 1.6715e-03, 5.9401e-04, 2.1130e-03, 2.4083e-03, 7.6558e-05,\n",
      "         1.5018e-04, 2.7756e-05, 7.8353e-04]], grad_fn=<SigmoidBackward>)\n",
      "26 - tensor([[9.8848e-01, 1.6859e-03, 5.0843e-04, 3.3819e-03, 2.7334e-03, 7.6368e-05,\n",
      "         1.6177e-04, 2.8045e-05, 8.4025e-04]], grad_fn=<SigmoidBackward>)\n",
      "27 - tensor([[9.9471e-01, 1.0753e-03, 7.2883e-04, 2.1481e-03, 2.3042e-03, 7.6361e-05,\n",
      "         1.2146e-04, 2.8759e-05, 8.8037e-04]], grad_fn=<SigmoidBackward>)\n",
      "28 - tensor([[9.9592e-01, 8.4026e-04, 8.3890e-04, 2.2069e-03, 2.5321e-03, 7.6212e-05,\n",
      "         1.0685e-04, 3.1444e-05, 8.2253e-04]], grad_fn=<SigmoidBackward>)\n",
      "29 - tensor([[9.5448e-01, 4.4883e-02, 7.7593e-05, 1.1789e-04, 5.4508e-04, 7.9239e-05,\n",
      "         1.0067e-03, 1.8572e-05, 5.3762e-04]], grad_fn=<SigmoidBackward>)\n",
      "30 - tensor([[2.7644e-02, 9.5985e-01, 8.3088e-05, 3.9657e-06, 1.2283e-04, 8.5595e-05,\n",
      "         4.8077e-03, 2.8248e-05, 2.8501e-03]], grad_fn=<SigmoidBackward>)\n",
      "31 - tensor([[1.0162e-03, 9.9477e-01, 1.5462e-04, 5.3977e-06, 2.8787e-04, 8.7604e-05,\n",
      "         4.1448e-03, 1.1775e-04, 1.7636e-03]], grad_fn=<SigmoidBackward>)\n",
      "32 - tensor([[1.5396e-04, 9.9715e-01, 2.7970e-04, 2.9883e-05, 1.2475e-03, 8.8344e-05,\n",
      "         9.4953e-04, 1.0977e-03, 4.3493e-04]], grad_fn=<SigmoidBackward>)\n",
      "33 - tensor([[1.3851e-04, 9.9723e-01, 2.8795e-04, 3.3905e-05, 1.3608e-03, 8.8386e-05,\n",
      "         8.4784e-04, 1.2635e-03, 3.9773e-04]], grad_fn=<SigmoidBackward>)\n",
      "34 - tensor([[1.6637e-04, 9.9689e-01, 2.4710e-04, 3.9417e-05, 1.1644e-03, 8.8268e-05,\n",
      "         7.6635e-04, 1.0545e-03, 4.5951e-04]], grad_fn=<SigmoidBackward>)\n",
      "35 - tensor([[1.6579e-04, 9.9690e-01, 2.4727e-04, 3.9206e-05, 1.1662e-03, 8.8271e-05,\n",
      "         7.6939e-04, 1.0570e-03, 4.5825e-04]], grad_fn=<SigmoidBackward>)\n",
      "36 - tensor([[1.5862e-04, 9.9697e-01, 2.6724e-04, 3.5683e-05, 1.2652e-03, 8.8280e-05,\n",
      "         8.3598e-04, 1.1286e-03, 4.2811e-04]], grad_fn=<SigmoidBackward>)\n",
      "37 - tensor([[2.9353e-04, 9.9545e-01, 1.8195e-04, 4.3946e-05, 8.4779e-04, 8.7794e-05,\n",
      "         8.2203e-04, 6.5868e-04, 6.8748e-04]], grad_fn=<SigmoidBackward>)\n",
      "38 - tensor([[1.4068e-04, 9.9722e-01, 2.8693e-04, 3.3156e-05, 1.3394e-03, 8.8384e-05,\n",
      "         8.6072e-04, 1.2362e-03, 4.0433e-04]], grad_fn=<SigmoidBackward>)\n",
      "39 - tensor([[1.7622e-04, 9.9694e-01, 2.5035e-04, 3.2095e-05, 1.0935e-03, 8.8282e-05,\n",
      "         8.9066e-04, 9.5664e-04, 4.9072e-04]], grad_fn=<SigmoidBackward>)\n",
      "40 - tensor([[1.3918e-04, 9.9723e-01, 2.9043e-04, 3.2953e-05, 1.3576e-03, 8.8386e-05,\n",
      "         8.6591e-04, 1.2505e-03, 3.9984e-04]], grad_fn=<SigmoidBackward>)\n",
      "41 - tensor([[3.1196e-04, 9.9506e-01, 1.9359e-04, 5.0370e-05, 9.0256e-04, 8.7714e-05,\n",
      "         7.5151e-04, 6.2318e-04, 6.1636e-04]], grad_fn=<SigmoidBackward>)\n",
      "42 - tensor([[1.4119e-04, 9.9719e-01, 2.8191e-04, 3.4833e-05, 1.3387e-03, 8.8373e-05,\n",
      "         8.3119e-04, 1.2424e-03, 4.0296e-04]], grad_fn=<SigmoidBackward>)\n",
      "43 - tensor([[1.3784e-04, 9.9723e-01, 2.8848e-04, 3.4006e-05, 1.3642e-03, 8.8389e-05,\n",
      "         8.4442e-04, 1.2701e-03, 3.9688e-04]], grad_fn=<SigmoidBackward>)\n",
      "44 - tensor([[1.6025e-04, 9.9695e-01, 2.4914e-04, 4.0230e-05, 1.1895e-03, 8.8292e-05,\n",
      "         7.4772e-04, 1.1027e-03, 4.4895e-04]], grad_fn=<SigmoidBackward>)\n",
      "45 - tensor([[1.4022e-04, 9.9720e-01, 2.8442e-04, 3.4335e-05, 1.3604e-03, 8.8374e-05,\n",
      "         8.4563e-04, 1.2666e-03, 3.9561e-04]], grad_fn=<SigmoidBackward>)\n",
      "46 - tensor([[1.3698e-04, 9.9725e-01, 2.9117e-04, 3.3500e-05, 1.3712e-03, 8.8395e-05,\n",
      "         8.5287e-04, 1.2758e-03, 3.9529e-04]], grad_fn=<SigmoidBackward>)\n",
      "47 - tensor([[1.3713e-04, 9.9724e-01, 2.9166e-04, 3.3799e-05, 1.3758e-03, 8.8391e-05,\n",
      "         8.4819e-04, 1.2726e-03, 3.9358e-04]], grad_fn=<SigmoidBackward>)\n",
      "48 - tensor([[1.4780e-04, 9.9696e-01, 2.8906e-04, 3.7856e-05, 1.3438e-03, 8.8290e-05,\n",
      "         8.0466e-04, 1.1883e-03, 4.0985e-04]], grad_fn=<SigmoidBackward>)\n",
      "49 - tensor([[1.3968e-04, 9.9717e-01, 2.8870e-04, 3.4813e-05, 1.3813e-03, 8.8358e-05,\n",
      "         8.4615e-04, 1.2642e-03, 3.9181e-04]], grad_fn=<SigmoidBackward>)\n",
      "50 - tensor([[1.5765e-04, 9.9699e-01, 2.5235e-04, 3.9051e-05, 1.2065e-03, 8.8304e-05,\n",
      "         7.6700e-04, 1.1230e-03, 4.4323e-04]], grad_fn=<SigmoidBackward>)\n",
      "51 - tensor([[2.2288e-04, 9.9592e-01, 1.7249e-04, 6.7442e-05, 1.0132e-03, 8.7946e-05,\n",
      "         6.2223e-04, 9.7884e-04, 4.9142e-04]], grad_fn=<SigmoidBackward>)\n",
      "52 - tensor([[1.3971e-04, 9.9719e-01, 2.8560e-04, 3.4685e-05, 1.3647e-03, 8.8367e-05,\n",
      "         8.4717e-04, 1.2682e-03, 3.9610e-04]], grad_fn=<SigmoidBackward>)\n",
      "53 - tensor([[1.4012e-04, 9.9719e-01, 2.9504e-04, 3.2961e-05, 1.3694e-03, 8.8370e-05,\n",
      "         8.6826e-04, 1.2536e-03, 3.9986e-04]], grad_fn=<SigmoidBackward>)\n",
      "54 - tensor([[2.1262e-04, 9.9247e-01, 6.2320e-04, 4.5969e-05, 2.1062e-03, 8.7319e-05,\n",
      "         8.8606e-04, 1.2559e-03, 5.6025e-04]], grad_fn=<SigmoidBackward>)\n",
      "55 - tensor([[1.2710e-04, 9.9694e-01, 3.3097e-04, 3.6999e-05, 1.2288e-03, 8.8428e-05,\n",
      "         9.3691e-04, 1.4078e-03, 4.2785e-04]], grad_fn=<SigmoidBackward>)\n",
      "56 - tensor([[1.5562e-04, 9.9708e-01, 2.7267e-04, 3.2733e-05, 1.2297e-03, 8.8331e-05,\n",
      "         8.7981e-04, 1.0981e-03, 4.3861e-04]], grad_fn=<SigmoidBackward>)\n",
      "57 - tensor([[1.3580e-04, 9.9724e-01, 2.9377e-04, 3.3670e-05, 1.3736e-03, 8.8398e-05,\n",
      "         8.5390e-04, 1.2858e-03, 3.9505e-04]], grad_fn=<SigmoidBackward>)\n",
      "58 - tensor([[1.3463e-04, 9.9722e-01, 2.9653e-04, 3.4023e-05, 1.3681e-03, 8.8398e-05,\n",
      "         8.5903e-04, 1.2953e-03, 3.9615e-04]], grad_fn=<SigmoidBackward>)\n",
      "59 - tensor([[1.3672e-04, 9.9725e-01, 2.9204e-04, 3.3388e-05, 1.3737e-03, 8.8397e-05,\n",
      "         8.5348e-04, 1.2770e-03, 3.9486e-04]], grad_fn=<SigmoidBackward>)\n",
      "60 - tensor([[1.6747e-04, 9.9708e-01, 2.7265e-04, 2.7413e-05, 1.1640e-03, 8.8316e-05,\n",
      "         1.0201e-03, 9.9008e-04, 4.6427e-04]], grad_fn=<SigmoidBackward>)\n",
      "61 - tensor([[1.3760e-04, 9.9722e-01, 2.9252e-04, 3.3891e-05, 1.3703e-03, 8.8388e-05,\n",
      "         8.4525e-04, 1.2656e-03, 3.9626e-04]], grad_fn=<SigmoidBackward>)\n",
      "62 - tensor([[1.3723e-04, 9.9725e-01, 2.9153e-04, 3.3331e-05, 1.3701e-03, 8.8395e-05,\n",
      "         8.5501e-04, 1.2727e-03, 3.9563e-04]], grad_fn=<SigmoidBackward>)\n",
      "63 - tensor([[1.4781e-04, 9.9717e-01, 2.8418e-04, 3.1434e-05, 1.2878e-03, 8.8365e-05,\n",
      "         9.0256e-04, 1.1646e-03, 4.1969e-04]], grad_fn=<SigmoidBackward>)\n",
      "64 - tensor([[1.4271e-04, 9.9720e-01, 2.8630e-04, 3.2806e-05, 1.3215e-03, 8.8376e-05,\n",
      "         8.7163e-04, 1.2128e-03, 4.1074e-04]], grad_fn=<SigmoidBackward>)\n",
      "65 - tensor([[1.3725e-04, 9.9724e-01, 2.9046e-04, 3.3630e-05, 1.3683e-03, 8.8394e-05,\n",
      "         8.4946e-04, 1.2726e-03, 3.9610e-04]], grad_fn=<SigmoidBackward>)\n",
      "66 - tensor([[1.3779e-04, 9.9724e-01, 2.9043e-04, 3.3343e-05, 1.3641e-03, 8.8393e-05,\n",
      "         8.5594e-04, 1.2657e-03, 3.9749e-04]], grad_fn=<SigmoidBackward>)\n",
      "67 - tensor([[1.4298e-04, 9.9719e-01, 2.8473e-04, 3.3024e-05, 1.3273e-03, 8.8370e-05,\n",
      "         8.7251e-04, 1.2191e-03, 4.0786e-04]], grad_fn=<SigmoidBackward>)\n",
      "68 - tensor([[2.4594e-04, 9.9624e-01, 1.8777e-04, 4.0410e-05, 7.9517e-04, 8.8067e-05,\n",
      "         7.4587e-04, 6.7990e-04, 7.0473e-04]], grad_fn=<SigmoidBackward>)\n",
      "69 - tensor([[2.4062e-04, 9.9631e-01, 2.1865e-04, 2.8294e-05, 9.4231e-04, 8.8003e-05,\n",
      "         1.1328e-03, 7.2855e-04, 6.0637e-04]], grad_fn=<SigmoidBackward>)\n",
      "70 - tensor([[1.3950e-04, 9.9716e-01, 2.9088e-04, 3.4437e-05, 1.3324e-03, 8.8375e-05,\n",
      "         8.5333e-04, 1.2505e-03, 4.0763e-04]], grad_fn=<SigmoidBackward>)\n",
      "71 - tensor([[1.3667e-04, 9.9725e-01, 2.9123e-04, 3.3622e-05, 1.3724e-03, 8.8396e-05,\n",
      "         8.4942e-04, 1.2770e-03, 3.9522e-04]], grad_fn=<SigmoidBackward>)\n",
      "72 - tensor([[1.6844e-04, 9.9670e-01, 2.4523e-04, 4.3233e-05, 1.3039e-03, 8.8148e-05,\n",
      "         7.8549e-04, 1.1456e-03, 4.1104e-04]], grad_fn=<SigmoidBackward>)\n",
      "73 - tensor([[1.4074e-04, 9.9721e-01, 2.8345e-04, 3.4261e-05, 1.3316e-03, 8.8381e-05,\n",
      "         8.3718e-04, 1.2378e-03, 4.0671e-04]], grad_fn=<SigmoidBackward>)\n",
      "74 - tensor([[1.3970e-04, 9.9720e-01, 2.8205e-04, 3.4836e-05, 1.3643e-03, 8.8369e-05,\n",
      "         8.4387e-04, 1.2764e-03, 3.9471e-04]], grad_fn=<SigmoidBackward>)\n",
      "75 - tensor([[1.3816e-04, 9.9722e-01, 2.8763e-04, 3.4282e-05, 1.3653e-03, 8.8383e-05,\n",
      "         8.4321e-04, 1.2718e-03, 3.9673e-04]], grad_fn=<SigmoidBackward>)\n",
      "76 - tensor([[1.2757e-04, 9.9626e-01, 3.6433e-04, 4.4963e-05, 1.1789e-03, 8.8269e-05,\n",
      "         9.5325e-04, 1.4507e-03, 5.1480e-04]], grad_fn=<SigmoidBackward>)\n",
      "77 - tensor([[1.3934e-04, 9.9723e-01, 2.8761e-04, 3.3532e-05, 1.3468e-03, 8.8388e-05,\n",
      "         8.5181e-04, 1.2475e-03, 4.0256e-04]], grad_fn=<SigmoidBackward>)\n",
      "78 - tensor([[1.4370e-04, 9.9706e-01, 2.9565e-04, 3.2616e-05, 1.2593e-03, 8.8355e-05,\n",
      "         9.3378e-04, 1.1984e-03, 4.3691e-04]], grad_fn=<SigmoidBackward>)\n",
      "79 - tensor([[1.3631e-04, 9.9725e-01, 2.9211e-04, 3.3515e-05, 1.3763e-03, 8.8397e-05,\n",
      "         8.5229e-04, 1.2794e-03, 3.9438e-04]], grad_fn=<SigmoidBackward>)\n",
      "80 - tensor([[1.3579e-04, 9.9724e-01, 2.9259e-04, 3.3813e-05, 1.3701e-03, 8.8398e-05,\n",
      "         8.5173e-04, 1.2846e-03, 3.9579e-04]], grad_fn=<SigmoidBackward>)\n",
      "81 - tensor([[1.4149e-04, 9.9717e-01, 2.8231e-04, 3.4442e-05, 1.3547e-03, 8.8356e-05,\n",
      "         8.5165e-04, 1.2578e-03, 4.0180e-04]], grad_fn=<SigmoidBackward>)\n",
      "82 - tensor([[1.2141e-04, 9.9683e-01, 3.3343e-04, 4.0169e-05, 1.1650e-03, 8.8414e-05,\n",
      "         9.7651e-04, 1.4078e-03, 4.5889e-04]], grad_fn=<SigmoidBackward>)\n",
      "83 - tensor([[1.4838e-04, 9.9670e-01, 2.8433e-04, 4.1701e-05, 1.1875e-03, 8.8270e-05,\n",
      "         8.0604e-04, 1.2155e-03, 4.8579e-04]], grad_fn=<SigmoidBackward>)\n",
      "84 - tensor([[1.3721e-04, 9.9724e-01, 2.8961e-04, 3.3904e-05, 1.3648e-03, 8.8394e-05,\n",
      "         8.4335e-04, 1.2718e-03, 3.9736e-04]], grad_fn=<SigmoidBackward>)\n",
      "85 - tensor([[1.6606e-04, 9.9705e-01, 2.6634e-04, 2.9523e-05, 1.1500e-03, 8.8308e-05,\n",
      "         9.6920e-04, 9.9660e-04, 4.7231e-04]], grad_fn=<SigmoidBackward>)\n",
      "86 - tensor([[1.9105e-04, 9.9662e-01, 2.0079e-04, 5.0392e-05, 9.0987e-04, 8.8229e-05,\n",
      "         5.9956e-04, 8.8606e-04, 5.9067e-04]], grad_fn=<SigmoidBackward>)\n",
      "87 - tensor([[3.3928e-04, 9.9561e-01, 1.1524e-04, 7.0742e-05, 4.9880e-04, 8.7967e-05,\n",
      "         4.3974e-04, 4.6438e-04, 1.0359e-03]], grad_fn=<SigmoidBackward>)\n",
      "88 - tensor([[1.6450e-04, 9.9684e-01, 2.1757e-04, 4.5001e-05, 1.2578e-03, 8.8199e-05,\n",
      "         7.9426e-04, 1.2575e-03, 4.0305e-04]], grad_fn=<SigmoidBackward>)\n",
      "89 - tensor([[1.3646e-04, 9.9708e-01, 2.8483e-04, 3.7262e-05, 1.3188e-03, 8.8359e-05,\n",
      "         8.7804e-04, 1.3287e-03, 4.0179e-04]], grad_fn=<SigmoidBackward>)\n",
      "90 - tensor([[1.3265e-04, 9.9689e-01, 2.9019e-04, 4.1417e-05, 1.2387e-03, 8.8345e-05,\n",
      "         9.1354e-04, 1.3851e-03, 4.2045e-04]], grad_fn=<SigmoidBackward>)\n",
      "91 - tensor([[8.1193e-05, 9.9533e-01, 4.6904e-04, 7.6513e-05, 7.2973e-04, 8.8497e-05,\n",
      "         1.3896e-03, 2.0391e-03, 6.6431e-04]], grad_fn=<SigmoidBackward>)\n",
      "92 - tensor([[1.1347e-04, 9.9682e-01, 3.4818e-04, 4.1823e-05, 1.1539e-03, 8.8446e-05,\n",
      "         1.0070e-03, 1.4956e-03, 4.5674e-04]], grad_fn=<SigmoidBackward>)\n",
      "93 - tensor([[1.3563e-04, 9.9725e-01, 2.9196e-04, 3.3830e-05, 1.3780e-03, 8.8392e-05,\n",
      "         8.5361e-04, 1.2809e-03, 3.9437e-04]], grad_fn=<SigmoidBackward>)\n",
      "94 - tensor([[1.3807e-04, 9.9719e-01, 2.8666e-04, 3.5116e-05, 1.3410e-03, 8.8384e-05,\n",
      "         8.3721e-04, 1.2677e-03, 4.0196e-04]], grad_fn=<SigmoidBackward>)\n",
      "95 - tensor([[1.3370e-04, 9.9709e-01, 2.9745e-04, 3.6131e-05, 1.2780e-03, 8.8390e-05,\n",
      "         8.9233e-04, 1.3032e-03, 4.1909e-04]], grad_fn=<SigmoidBackward>)\n",
      "96 - tensor([[1.0530e-04, 9.9658e-01, 3.7207e-04, 4.6802e-05, 1.0678e-03, 8.8457e-05,\n",
      "         1.0881e-03, 1.6165e-03, 4.8429e-04]], grad_fn=<SigmoidBackward>)\n",
      "97 - tensor([[1.4395e-04, 9.9712e-01, 2.6388e-04, 3.6371e-05, 1.4204e-03, 8.8300e-05,\n",
      "         8.9662e-04, 1.3570e-03, 3.6710e-04]], grad_fn=<SigmoidBackward>)\n",
      "98 - tensor([[1.3363e-04, 9.9720e-01, 2.9675e-04, 3.4628e-05, 1.3513e-03, 8.8399e-05,\n",
      "         8.6497e-04, 1.3031e-03, 3.9997e-04]], grad_fn=<SigmoidBackward>)\n",
      "99 - tensor([[1.3226e-04, 9.9717e-01, 3.0019e-04, 3.4972e-05, 1.3311e-03, 8.8402e-05,\n",
      "         8.8146e-04, 1.3183e-03, 4.0477e-04]], grad_fn=<SigmoidBackward>)\n",
      "100 - tensor([[2.4465e-04, 9.9671e-01, 2.3572e-04, 1.9470e-05, 8.4734e-04, 8.8152e-05,\n",
      "         1.4155e-03, 6.0745e-04, 6.3473e-04]], grad_fn=<SigmoidBackward>)\n",
      "101 - tensor([[1.4883e-04, 9.9718e-01, 2.8296e-04, 3.0780e-05, 1.2777e-03, 8.8360e-05,\n",
      "         9.2442e-04, 1.1412e-03, 4.2448e-04]], grad_fn=<SigmoidBackward>)\n",
      "102 - tensor([[2.2057e-04, 9.9675e-01, 2.4764e-04, 2.1197e-05, 8.8179e-04, 8.8190e-05,\n",
      "         1.3790e-03, 6.7751e-04, 6.1066e-04]], grad_fn=<SigmoidBackward>)\n",
      "103 - tensor([[2.3610e-04, 9.9654e-01, 2.8767e-04, 2.3296e-05, 1.0316e-03, 8.8299e-05,\n",
      "         8.8368e-04, 9.4820e-04, 4.8677e-04]], grad_fn=<SigmoidBackward>)\n",
      "104 - tensor([[2.6421e-04, 9.9635e-01, 2.3275e-04, 2.0162e-05, 7.1191e-04, 8.8108e-05,\n",
      "         1.5387e-03, 5.4451e-04, 7.4552e-04]], grad_fn=<SigmoidBackward>)\n",
      "105 - tensor([[2.2051e-04, 9.9667e-01, 2.1873e-04, 2.8613e-05, 9.0110e-04, 8.8160e-05,\n",
      "         1.0439e-03, 7.2348e-04, 5.9057e-04]], grad_fn=<SigmoidBackward>)\n",
      "106 - tensor([[1.5178e-04, 9.9684e-01, 2.8926e-04, 3.2900e-05, 1.0513e-03, 8.8335e-05,\n",
      "         1.0530e-03, 1.0722e-03, 5.0720e-04]], grad_fn=<SigmoidBackward>)\n",
      "107 - tensor([[2.6789e-04, 9.9650e-01, 2.1913e-04, 1.9824e-05, 7.3220e-04, 8.8098e-05,\n",
      "         1.4938e-03, 5.2849e-04, 7.3427e-04]], grad_fn=<SigmoidBackward>)\n",
      "108 - tensor([[1.8192e-04, 9.9670e-01, 2.0311e-04, 5.1750e-05, 1.0049e-03, 8.8229e-05,\n",
      "         6.0486e-04, 9.8019e-04, 5.1915e-04]], grad_fn=<SigmoidBackward>)\n",
      "109 - tensor([[1.8254e-04, 9.9675e-01, 2.0536e-04, 4.9489e-05, 9.8278e-04, 8.8252e-05,\n",
      "         6.0456e-04, 9.5250e-04, 5.3761e-04]], grad_fn=<SigmoidBackward>)\n",
      "110 - tensor([[1.4958e-04, 9.9711e-01, 2.7390e-04, 3.4216e-05, 1.2449e-03, 8.8351e-05,\n",
      "         8.5354e-04, 1.1460e-03, 4.3250e-04]], grad_fn=<SigmoidBackward>)\n",
      "111 - tensor([[1.6608e-04, 9.9668e-01, 2.2246e-04, 4.6610e-05, 1.1859e-03, 8.8180e-05,\n",
      "         8.2868e-04, 1.2246e-03, 4.2379e-04]], grad_fn=<SigmoidBackward>)\n",
      "112 - tensor([[3.6339e-04, 9.9314e-01, 7.9721e-05, 2.2770e-04, 4.3019e-04, 8.7594e-05,\n",
      "         3.4616e-04, 6.5254e-04, 9.8236e-04]], grad_fn=<SigmoidBackward>)\n",
      "113 - tensor([[1.3432e-04, 9.9667e-01, 3.3991e-04, 3.9015e-05, 1.2633e-03, 8.8302e-05,\n",
      "         9.2171e-04, 1.3156e-03, 4.5879e-04]], grad_fn=<SigmoidBackward>)\n",
      "114 - tensor([[1.3337e-04, 9.9714e-01, 3.0771e-04, 3.5246e-05, 1.3300e-03, 8.8394e-05,\n",
      "         8.7722e-04, 1.2755e-03, 4.0199e-04]], grad_fn=<SigmoidBackward>)\n",
      "115 - tensor([[1.4688e-04, 9.9717e-01, 2.8460e-04, 3.1944e-05, 1.2931e-03, 8.8364e-05,\n",
      "         8.9462e-04, 1.1682e-03, 4.1743e-04]], grad_fn=<SigmoidBackward>)\n",
      "116 - tensor([[1.4726e-04, 9.9714e-01, 2.7844e-04, 3.4502e-05, 1.2849e-03, 8.8360e-05,\n",
      "         8.3193e-04, 1.1773e-03, 4.1799e-04]], grad_fn=<SigmoidBackward>)\n",
      "117 - tensor([[1.4472e-04, 9.9714e-01, 2.7544e-04, 3.6202e-05, 1.2859e-03, 8.8364e-05,\n",
      "         8.0075e-04, 1.1978e-03, 4.1910e-04]], grad_fn=<SigmoidBackward>)\n",
      "118 - tensor([[1.4308e-04, 9.9718e-01, 2.7820e-04, 3.4955e-05, 1.3064e-03, 8.8373e-05,\n",
      "         8.2331e-04, 1.2153e-03, 4.1350e-04]], grad_fn=<SigmoidBackward>)\n",
      "119 - tensor([[1.4233e-04, 9.9719e-01, 2.8602e-04, 3.3102e-05, 1.3137e-03, 8.8375e-05,\n",
      "         8.7733e-04, 1.2147e-03, 4.1137e-04]], grad_fn=<SigmoidBackward>)\n"
     ]
    }
   ],
   "source": [
    "for i in range(120):\n",
    "    print(str(i) + ' - ' + str(output[i]))"
   ]
  },
  {
   "cell_type": "markdown",
   "id": "f308ded2",
   "metadata": {},
   "source": [
    "## Play Gym Enduro"
   ]
  },
  {
   "cell_type": "code",
   "execution_count": 108,
   "id": "5fcd5989",
   "metadata": {},
   "outputs": [],
   "source": [
    "import gym\n",
    "import time\n",
    "from PIL import Image"
   ]
  },
  {
   "cell_type": "code",
   "execution_count": 109,
   "id": "b64a6b41",
   "metadata": {},
   "outputs": [],
   "source": [
    "if zigzag:\n",
    "        \n",
    "    ACTIONS = {\n",
    "        \"right\": 2,\n",
    "        \"left\": 3,\n",
    "    }\n",
    "\n",
    "else:\n",
    "\n",
    "    ACTIONS = {\n",
    "        \"noop\": 0,\n",
    "        \"accelerate\": 1,\n",
    "        \"right\": 2,\n",
    "        \"left\": 3,\n",
    "        \"break\": 4,\n",
    "        \"right_break\": 5,\n",
    "        \"left_break\": 6,\n",
    "        \"right_accelerate\": 7,\n",
    "        \"left_accelerate\": 8,\n",
    "    }"
   ]
  },
  {
   "cell_type": "code",
   "execution_count": 110,
   "id": "ec251108",
   "metadata": {},
   "outputs": [],
   "source": [
    "y_min, y_max, x_min, x_max = 25, 195, 20, 140\n",
    "shape_of_single_frame = (1, (y_max-y_min),(x_max-x_min))"
   ]
  },
  {
   "cell_type": "code",
   "execution_count": 111,
   "id": "39688ce8",
   "metadata": {},
   "outputs": [],
   "source": [
    "sleep_time = 0.05"
   ]
  },
  {
   "cell_type": "code",
   "execution_count": 112,
   "id": "587ece84",
   "metadata": {},
   "outputs": [
    {
     "name": "stderr",
     "output_type": "stream",
     "text": [
      "ERROR:root:Internal Python error in the inspect module.\n",
      "Below is the traceback from this internal error.\n",
      "\n"
     ]
    },
    {
     "name": "stdout",
     "output_type": "stream",
     "text": [
      "Traceback (most recent call last):\n",
      "  File \"/home/ryo/.local/lib/python3.8/site-packages/IPython/core/interactiveshell.py\", line 3437, in run_code\n",
      "    exec(code_obj, self.user_global_ns, self.user_ns)\n",
      "  File \"<ipython-input-112-3251920a06ec>\", line 10, in <module>\n",
      "    time.sleep(sleep_time)\n",
      "KeyboardInterrupt\n",
      "\n",
      "During handling of the above exception, another exception occurred:\n",
      "\n",
      "Traceback (most recent call last):\n",
      "  File \"/home/ryo/.local/lib/python3.8/site-packages/IPython/core/interactiveshell.py\", line 2061, in showtraceback\n",
      "    stb = value._render_traceback_()\n",
      "AttributeError: 'KeyboardInterrupt' object has no attribute '_render_traceback_'\n",
      "\n",
      "During handling of the above exception, another exception occurred:\n",
      "\n",
      "Traceback (most recent call last):\n",
      "  File \"/home/ryo/.local/lib/python3.8/site-packages/IPython/core/ultratb.py\", line 1101, in get_records\n",
      "    return _fixed_getinnerframes(etb, number_of_lines_of_context, tb_offset)\n",
      "  File \"/home/ryo/.local/lib/python3.8/site-packages/IPython/core/ultratb.py\", line 248, in wrapped\n",
      "    return f(*args, **kwargs)\n",
      "  File \"/home/ryo/.local/lib/python3.8/site-packages/IPython/core/ultratb.py\", line 281, in _fixed_getinnerframes\n",
      "    records = fix_frame_records_filenames(inspect.getinnerframes(etb, context))\n",
      "  File \"/usr/lib/python3.8/inspect.py\", line 1503, in getinnerframes\n",
      "    frameinfo = (tb.tb_frame,) + getframeinfo(tb, context)\n",
      "  File \"/usr/lib/python3.8/inspect.py\", line 1461, in getframeinfo\n",
      "    filename = getsourcefile(frame) or getfile(frame)\n",
      "  File \"/usr/lib/python3.8/inspect.py\", line 705, in getsourcefile\n",
      "    if os.path.exists(filename):\n",
      "  File \"/usr/lib/python3.8/genericpath.py\", line 19, in exists\n",
      "    os.stat(path)\n",
      "KeyboardInterrupt\n"
     ]
    },
    {
     "ename": "TypeError",
     "evalue": "object of type 'NoneType' has no len()",
     "output_type": "error",
     "traceback": [
      "\u001b[0;31m------------------------------------------------------------------------\u001b[0m",
      "\u001b[0;31mKeyboardInterrupt\u001b[0m                      Traceback (most recent call last)",
      "    \u001b[0;31m[... skipping hidden 1 frame]\u001b[0m\n",
      "\u001b[0;32m<ipython-input-112-3251920a06ec>\u001b[0m in \u001b[0;36m<module>\u001b[0;34m\u001b[0m\n\u001b[1;32m      9\u001b[0m \u001b[0;34m\u001b[0m\u001b[0m\n\u001b[0;32m---> 10\u001b[0;31m     \u001b[0mtime\u001b[0m\u001b[0;34m.\u001b[0m\u001b[0msleep\u001b[0m\u001b[0;34m(\u001b[0m\u001b[0msleep_time\u001b[0m\u001b[0;34m)\u001b[0m\u001b[0;34m\u001b[0m\u001b[0;34m\u001b[0m\u001b[0m\n\u001b[0m\u001b[1;32m     11\u001b[0m     \u001b[0menv\u001b[0m\u001b[0;34m.\u001b[0m\u001b[0mrender\u001b[0m\u001b[0;34m(\u001b[0m\u001b[0;34m)\u001b[0m\u001b[0;34m\u001b[0m\u001b[0;34m\u001b[0m\u001b[0m\n",
      "\u001b[0;31mKeyboardInterrupt\u001b[0m: ",
      "\nDuring handling of the above exception, another exception occurred:\n",
      "\u001b[0;31mAttributeError\u001b[0m                         Traceback (most recent call last)",
      "\u001b[0;32m~/.local/lib/python3.8/site-packages/IPython/core/interactiveshell.py\u001b[0m in \u001b[0;36mshowtraceback\u001b[0;34m(self, exc_tuple, filename, tb_offset, exception_only, running_compiled_code)\u001b[0m\n\u001b[1;32m   2060\u001b[0m                         \u001b[0;31m# in the engines. This should return a list of strings.\u001b[0m\u001b[0;34m\u001b[0m\u001b[0;34m\u001b[0m\u001b[0;34m\u001b[0m\u001b[0m\n\u001b[0;32m-> 2061\u001b[0;31m                         \u001b[0mstb\u001b[0m \u001b[0;34m=\u001b[0m \u001b[0mvalue\u001b[0m\u001b[0;34m.\u001b[0m\u001b[0m_render_traceback_\u001b[0m\u001b[0;34m(\u001b[0m\u001b[0;34m)\u001b[0m\u001b[0;34m\u001b[0m\u001b[0;34m\u001b[0m\u001b[0m\n\u001b[0m\u001b[1;32m   2062\u001b[0m                     \u001b[0;32mexcept\u001b[0m \u001b[0mException\u001b[0m\u001b[0;34m:\u001b[0m\u001b[0;34m\u001b[0m\u001b[0;34m\u001b[0m\u001b[0m\n",
      "\u001b[0;31mAttributeError\u001b[0m: 'KeyboardInterrupt' object has no attribute '_render_traceback_'",
      "\nDuring handling of the above exception, another exception occurred:\n",
      "\u001b[0;31mTypeError\u001b[0m                              Traceback (most recent call last)",
      "    \u001b[0;31m[... skipping hidden 1 frame]\u001b[0m\n",
      "\u001b[0;32m~/.local/lib/python3.8/site-packages/IPython/core/interactiveshell.py\u001b[0m in \u001b[0;36mshowtraceback\u001b[0;34m(self, exc_tuple, filename, tb_offset, exception_only, running_compiled_code)\u001b[0m\n\u001b[1;32m   2061\u001b[0m                         \u001b[0mstb\u001b[0m \u001b[0;34m=\u001b[0m \u001b[0mvalue\u001b[0m\u001b[0;34m.\u001b[0m\u001b[0m_render_traceback_\u001b[0m\u001b[0;34m(\u001b[0m\u001b[0;34m)\u001b[0m\u001b[0;34m\u001b[0m\u001b[0;34m\u001b[0m\u001b[0m\n\u001b[1;32m   2062\u001b[0m                     \u001b[0;32mexcept\u001b[0m \u001b[0mException\u001b[0m\u001b[0;34m:\u001b[0m\u001b[0;34m\u001b[0m\u001b[0;34m\u001b[0m\u001b[0m\n\u001b[0;32m-> 2063\u001b[0;31m                         stb = self.InteractiveTB.structured_traceback(etype,\n\u001b[0m\u001b[1;32m   2064\u001b[0m                                             value, tb, tb_offset=tb_offset)\n\u001b[1;32m   2065\u001b[0m \u001b[0;34m\u001b[0m\u001b[0m\n",
      "\u001b[0;32m~/.local/lib/python3.8/site-packages/IPython/core/ultratb.py\u001b[0m in \u001b[0;36mstructured_traceback\u001b[0;34m(self, etype, value, tb, tb_offset, number_of_lines_of_context)\u001b[0m\n\u001b[1;32m   1365\u001b[0m         \u001b[0;32melse\u001b[0m\u001b[0;34m:\u001b[0m\u001b[0;34m\u001b[0m\u001b[0;34m\u001b[0m\u001b[0m\n\u001b[1;32m   1366\u001b[0m             \u001b[0mself\u001b[0m\u001b[0;34m.\u001b[0m\u001b[0mtb\u001b[0m \u001b[0;34m=\u001b[0m \u001b[0mtb\u001b[0m\u001b[0;34m\u001b[0m\u001b[0;34m\u001b[0m\u001b[0m\n\u001b[0;32m-> 1367\u001b[0;31m         return FormattedTB.structured_traceback(\n\u001b[0m\u001b[1;32m   1368\u001b[0m             self, etype, value, tb, tb_offset, number_of_lines_of_context)\n\u001b[1;32m   1369\u001b[0m \u001b[0;34m\u001b[0m\u001b[0m\n",
      "\u001b[0;32m~/.local/lib/python3.8/site-packages/IPython/core/ultratb.py\u001b[0m in \u001b[0;36mstructured_traceback\u001b[0;34m(self, etype, value, tb, tb_offset, number_of_lines_of_context)\u001b[0m\n\u001b[1;32m   1265\u001b[0m         \u001b[0;32mif\u001b[0m \u001b[0mmode\u001b[0m \u001b[0;32min\u001b[0m \u001b[0mself\u001b[0m\u001b[0;34m.\u001b[0m\u001b[0mverbose_modes\u001b[0m\u001b[0;34m:\u001b[0m\u001b[0;34m\u001b[0m\u001b[0;34m\u001b[0m\u001b[0m\n\u001b[1;32m   1266\u001b[0m             \u001b[0;31m# Verbose modes need a full traceback\u001b[0m\u001b[0;34m\u001b[0m\u001b[0;34m\u001b[0m\u001b[0;34m\u001b[0m\u001b[0m\n\u001b[0;32m-> 1267\u001b[0;31m             return VerboseTB.structured_traceback(\n\u001b[0m\u001b[1;32m   1268\u001b[0m                 \u001b[0mself\u001b[0m\u001b[0;34m,\u001b[0m \u001b[0metype\u001b[0m\u001b[0;34m,\u001b[0m \u001b[0mvalue\u001b[0m\u001b[0;34m,\u001b[0m \u001b[0mtb\u001b[0m\u001b[0;34m,\u001b[0m \u001b[0mtb_offset\u001b[0m\u001b[0;34m,\u001b[0m \u001b[0mnumber_of_lines_of_context\u001b[0m\u001b[0;34m\u001b[0m\u001b[0;34m\u001b[0m\u001b[0m\n\u001b[1;32m   1269\u001b[0m             )\n",
      "\u001b[0;32m~/.local/lib/python3.8/site-packages/IPython/core/ultratb.py\u001b[0m in \u001b[0;36mstructured_traceback\u001b[0;34m(self, etype, evalue, etb, tb_offset, number_of_lines_of_context)\u001b[0m\n\u001b[1;32m   1122\u001b[0m         \u001b[0;34m\"\"\"Return a nice text document describing the traceback.\"\"\"\u001b[0m\u001b[0;34m\u001b[0m\u001b[0;34m\u001b[0m\u001b[0m\n\u001b[1;32m   1123\u001b[0m \u001b[0;34m\u001b[0m\u001b[0m\n\u001b[0;32m-> 1124\u001b[0;31m         formatted_exception = self.format_exception_as_a_whole(etype, evalue, etb, number_of_lines_of_context,\n\u001b[0m\u001b[1;32m   1125\u001b[0m                                                                tb_offset)\n\u001b[1;32m   1126\u001b[0m \u001b[0;34m\u001b[0m\u001b[0m\n",
      "\u001b[0;32m~/.local/lib/python3.8/site-packages/IPython/core/ultratb.py\u001b[0m in \u001b[0;36mformat_exception_as_a_whole\u001b[0;34m(self, etype, evalue, etb, number_of_lines_of_context, tb_offset)\u001b[0m\n\u001b[1;32m   1080\u001b[0m \u001b[0;34m\u001b[0m\u001b[0m\n\u001b[1;32m   1081\u001b[0m \u001b[0;34m\u001b[0m\u001b[0m\n\u001b[0;32m-> 1082\u001b[0;31m         \u001b[0mlast_unique\u001b[0m\u001b[0;34m,\u001b[0m \u001b[0mrecursion_repeat\u001b[0m \u001b[0;34m=\u001b[0m \u001b[0mfind_recursion\u001b[0m\u001b[0;34m(\u001b[0m\u001b[0morig_etype\u001b[0m\u001b[0;34m,\u001b[0m \u001b[0mevalue\u001b[0m\u001b[0;34m,\u001b[0m \u001b[0mrecords\u001b[0m\u001b[0;34m)\u001b[0m\u001b[0;34m\u001b[0m\u001b[0;34m\u001b[0m\u001b[0m\n\u001b[0m\u001b[1;32m   1083\u001b[0m \u001b[0;34m\u001b[0m\u001b[0m\n\u001b[1;32m   1084\u001b[0m         \u001b[0mframes\u001b[0m \u001b[0;34m=\u001b[0m \u001b[0mself\u001b[0m\u001b[0;34m.\u001b[0m\u001b[0mformat_records\u001b[0m\u001b[0;34m(\u001b[0m\u001b[0mrecords\u001b[0m\u001b[0;34m,\u001b[0m \u001b[0mlast_unique\u001b[0m\u001b[0;34m,\u001b[0m \u001b[0mrecursion_repeat\u001b[0m\u001b[0;34m)\u001b[0m\u001b[0;34m\u001b[0m\u001b[0;34m\u001b[0m\u001b[0m\n",
      "\u001b[0;32m~/.local/lib/python3.8/site-packages/IPython/core/ultratb.py\u001b[0m in \u001b[0;36mfind_recursion\u001b[0;34m(etype, value, records)\u001b[0m\n\u001b[1;32m    380\u001b[0m     \u001b[0;31m# first frame (from in to out) that looks different.\u001b[0m\u001b[0;34m\u001b[0m\u001b[0;34m\u001b[0m\u001b[0;34m\u001b[0m\u001b[0m\n\u001b[1;32m    381\u001b[0m     \u001b[0;32mif\u001b[0m \u001b[0;32mnot\u001b[0m \u001b[0mis_recursion_error\u001b[0m\u001b[0;34m(\u001b[0m\u001b[0metype\u001b[0m\u001b[0;34m,\u001b[0m \u001b[0mvalue\u001b[0m\u001b[0;34m,\u001b[0m \u001b[0mrecords\u001b[0m\u001b[0;34m)\u001b[0m\u001b[0;34m:\u001b[0m\u001b[0;34m\u001b[0m\u001b[0;34m\u001b[0m\u001b[0m\n\u001b[0;32m--> 382\u001b[0;31m         \u001b[0;32mreturn\u001b[0m \u001b[0mlen\u001b[0m\u001b[0;34m(\u001b[0m\u001b[0mrecords\u001b[0m\u001b[0;34m)\u001b[0m\u001b[0;34m,\u001b[0m \u001b[0;36m0\u001b[0m\u001b[0;34m\u001b[0m\u001b[0;34m\u001b[0m\u001b[0m\n\u001b[0m\u001b[1;32m    383\u001b[0m \u001b[0;34m\u001b[0m\u001b[0m\n\u001b[1;32m    384\u001b[0m     \u001b[0;31m# Select filename, lineno, func_name to track frames with\u001b[0m\u001b[0;34m\u001b[0m\u001b[0;34m\u001b[0m\u001b[0;34m\u001b[0m\u001b[0m\n",
      "\u001b[0;31mTypeError\u001b[0m: object of type 'NoneType' has no len()"
     ]
    }
   ],
   "source": [
    "env = gym.make(\"Enduro-v0\")\n",
    "frame = env.reset()\n",
    "reward, action, done, info = 0, 0, False, {'ale.lives': 0}\n",
    "\n",
    "hx = torch.zeros(1, 500)\n",
    "cx = torch.zeros(1, 500)\n",
    "\n",
    "while(True):\n",
    "    \n",
    "    time.sleep(sleep_time)\n",
    "    env.render()\n",
    "    \n",
    "    frame = frame[y_min:y_max, x_min:x_max]\n",
    "\n",
    "    frame = Image.fromarray(frame)\n",
    "    frame = frame.convert(\"L\")\n",
    "    \n",
    "    frame = np.asarray(frame)\n",
    "    frame = frame.reshape(1, -1)\n",
    "    frame = torch.tensor(frame)/255\n",
    "    \n",
    "    hx, cx = lstmcell(frame, (hx, cx))\n",
    "    out = linear(hx)\n",
    "    action = sigmoid(out)\n",
    "    \n",
    "    action = list(ACTIONS.values())[torch.argmax(action, axis=1)]\n",
    "    frame, reward, done, info = env.step(action)"
   ]
  }
 ],
 "metadata": {
  "kernelspec": {
   "display_name": "Python 3",
   "language": "python",
   "name": "python3"
  },
  "language_info": {
   "codemirror_mode": {
    "name": "ipython",
    "version": 3
   },
   "file_extension": ".py",
   "mimetype": "text/x-python",
   "name": "python",
   "nbconvert_exporter": "python",
   "pygments_lexer": "ipython3",
   "version": "3.8.5"
  }
 },
 "nbformat": 4,
 "nbformat_minor": 5
}
