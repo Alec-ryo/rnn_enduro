{
 "cells": [
  {
   "cell_type": "markdown",
   "id": "a02c05ab",
   "metadata": {},
   "source": [
    "# Load and test trained model"
   ]
  },
  {
   "cell_type": "markdown",
   "id": "429f7996",
   "metadata": {},
   "source": [
    "## Load libraries"
   ]
  },
  {
   "cell_type": "code",
   "execution_count": 1,
   "id": "5114873b",
   "metadata": {},
   "outputs": [],
   "source": [
    "import numpy as np\n",
    "import torch\n",
    "import torch.nn as nn\n",
    "from enduro_lstm import *"
   ]
  },
  {
   "cell_type": "code",
   "execution_count": 8,
   "id": "7c87a302",
   "metadata": {},
   "outputs": [
    {
     "name": "stdout",
     "output_type": "stream",
     "text": [
      "GPU is available\n"
     ]
    }
   ],
   "source": [
    "device = conf_cuda(True)"
   ]
  },
  {
   "cell_type": "markdown",
   "id": "48dadaf8",
   "metadata": {},
   "source": [
    "## Set configurations"
   ]
  },
  {
   "cell_type": "code",
   "execution_count": 2,
   "id": "ea9dc943",
   "metadata": {},
   "outputs": [],
   "source": [
    "data_path = r\"../1-generate/data/\"\n",
    "match = 35\n",
    "use_cuda = False\n",
    "zigzag = True"
   ]
  },
  {
   "cell_type": "markdown",
   "id": "e9cf3c89",
   "metadata": {},
   "source": [
    "## Load trained model"
   ]
  },
  {
   "cell_type": "code",
   "execution_count": 9,
   "id": "50caf845",
   "metadata": {},
   "outputs": [],
   "source": [
    "newpath = 'models/zigzag_m35to35_f1to120_epoch5600_H200/' + 'zigzag_m35to35_f1to120_epoch5600_H200'"
   ]
  },
  {
   "cell_type": "code",
   "execution_count": 11,
   "id": "e21b4fd7",
   "metadata": {},
   "outputs": [
    {
     "data": {
      "text/plain": [
       "Model(\n",
       "  (lstm): LSTM(20400, 200, batch_first=True)\n",
       "  (fc): Linear(in_features=200, out_features=2, bias=True)\n",
       "  (sigmoid): Sigmoid()\n",
       ")"
      ]
     },
     "execution_count": 11,
     "metadata": {},
     "output_type": "execute_result"
    }
   ],
   "source": [
    "model = Model(device=device, input_size=20400, output_size=2, hidden_dim=200, n_layers=1)\n",
    "model.load_state_dict(torch.load(newpath))\n",
    "model.eval()"
   ]
  },
  {
   "cell_type": "markdown",
   "id": "98d55682",
   "metadata": {},
   "source": [
    "## Prepare cell with trained model "
   ]
  },
  {
   "cell_type": "code",
   "execution_count": 13,
   "id": "d2147390",
   "metadata": {},
   "outputs": [],
   "source": [
    "lstmcell = nn.LSTMCell(20400, 200)\n",
    "linear = nn.Linear(200, 2)\n",
    "sigmoid = nn.Sigmoid()"
   ]
  },
  {
   "cell_type": "code",
   "execution_count": 14,
   "id": "935d5e5d",
   "metadata": {},
   "outputs": [],
   "source": [
    "lstmcell.weight_ih = model.lstm.weight_ih_l0\n",
    "lstmcell.weight_hh = model.lstm.weight_hh_l0\n",
    "lstmcell.bias_hh = model.lstm.bias_hh_l0\n",
    "lstmcell.bias_ih = model.lstm.bias_ih_l0"
   ]
  },
  {
   "cell_type": "code",
   "execution_count": 15,
   "id": "c4088aac",
   "metadata": {},
   "outputs": [],
   "source": [
    "linear.weight = model.fc.weight\n",
    "linear.bias = model.fc.bias"
   ]
  },
  {
   "cell_type": "code",
   "execution_count": 16,
   "id": "99940fb6",
   "metadata": {},
   "outputs": [],
   "source": [
    "hx = torch.zeros(1, 200)\n",
    "cx = torch.zeros(1, 200)"
   ]
  },
  {
   "cell_type": "code",
   "execution_count": 12,
   "id": "659f1274",
   "metadata": {},
   "outputs": [
    {
     "name": "stdout",
     "output_type": "stream",
     "text": [
      "torch.Size([800, 20400])\n",
      "torch.Size([800, 200])\n",
      "torch.Size([800])\n",
      "torch.Size([800])\n",
      "torch.Size([2, 200])\n",
      "torch.Size([2])\n"
     ]
    }
   ],
   "source": [
    "print(model.lstm.weight_ih_l0.shape)\n",
    "print(model.lstm.weight_hh_l0.shape)\n",
    "print(model.lstm.bias_ih_l0.shape)\n",
    "print(model.lstm.bias_hh_l0.shape)\n",
    "print(model.fc.weight.shape)\n",
    "print(model.fc.bias.shape)"
   ]
  },
  {
   "cell_type": "markdown",
   "id": "6ac739f7",
   "metadata": {},
   "source": [
    "## Testing outputs of model"
   ]
  },
  {
   "cell_type": "code",
   "execution_count": 3,
   "id": "634d7caa",
   "metadata": {},
   "outputs": [],
   "source": [
    "ACTIONS_LIST = get_actions_list(zigzag=zigzag)"
   ]
  },
  {
   "cell_type": "code",
   "execution_count": 4,
   "id": "7d806566",
   "metadata": {},
   "outputs": [
    {
     "name": "stdout",
     "output_type": "stream",
     "text": [
      "Successfully loaded NPZ.\n"
     ]
    }
   ],
   "source": [
    "num_of_frames, frames, actions, rewards, lifes = load_npz(data_path, match)"
   ]
  },
  {
   "cell_type": "code",
   "execution_count": 5,
   "id": "be9e569a",
   "metadata": {},
   "outputs": [],
   "source": [
    "X_train = frames.reshape(1, len(frames) ,-1)/255"
   ]
  },
  {
   "cell_type": "code",
   "execution_count": 6,
   "id": "832982eb",
   "metadata": {},
   "outputs": [],
   "source": [
    "action_one_hot = [prepare_action_data(i, ACTIONS_LIST) for i in actions]\n",
    "Y_train = np.array(action_one_hot)\n",
    "Y_train = Y_train.reshape(1, len(Y_train), -1)"
   ]
  },
  {
   "cell_type": "code",
   "execution_count": 7,
   "id": "59c231c2",
   "metadata": {},
   "outputs": [],
   "source": [
    "X_train = torch.tensor(X_train).float()\n",
    "Y_train = torch.tensor(Y_train).float()"
   ]
  },
  {
   "cell_type": "code",
   "execution_count": 17,
   "id": "7d988171",
   "metadata": {},
   "outputs": [],
   "source": [
    "output = []\n",
    "for i in range(120):\n",
    "    step_input = X_train[0][i]\n",
    "    step_input = step_input.reshape(1, -1)\n",
    "    hx, cx = lstmcell(step_input, (hx, cx))\n",
    "    out = linear(hx)\n",
    "    out = sigmoid(out)\n",
    "    output.append(out)"
   ]
  },
  {
   "cell_type": "code",
   "execution_count": 18,
   "id": "4844170d",
   "metadata": {},
   "outputs": [
    {
     "name": "stdout",
     "output_type": "stream",
     "text": [
      "0 - tensor([[0.9968, 0.0037]], grad_fn=<SigmoidBackward>)\n",
      "1 - tensor([[0.9990, 0.0013]], grad_fn=<SigmoidBackward>)\n",
      "2 - tensor([[9.9932e-01, 8.7661e-04]], grad_fn=<SigmoidBackward>)\n",
      "3 - tensor([[9.9931e-01, 8.7995e-04]], grad_fn=<SigmoidBackward>)\n",
      "4 - tensor([[9.9939e-01, 7.8353e-04]], grad_fn=<SigmoidBackward>)\n",
      "5 - tensor([[9.9940e-01, 7.7714e-04]], grad_fn=<SigmoidBackward>)\n",
      "6 - tensor([[9.9937e-01, 8.1386e-04]], grad_fn=<SigmoidBackward>)\n",
      "7 - tensor([[9.9940e-01, 7.7012e-04]], grad_fn=<SigmoidBackward>)\n",
      "8 - tensor([[9.9946e-01, 6.9736e-04]], grad_fn=<SigmoidBackward>)\n",
      "9 - tensor([[9.9946e-01, 7.0052e-04]], grad_fn=<SigmoidBackward>)\n",
      "10 - tensor([[9.9942e-01, 7.5344e-04]], grad_fn=<SigmoidBackward>)\n",
      "11 - tensor([[9.9941e-01, 7.5958e-04]], grad_fn=<SigmoidBackward>)\n",
      "12 - tensor([[9.9942e-01, 7.4992e-04]], grad_fn=<SigmoidBackward>)\n",
      "13 - tensor([[9.9943e-01, 7.3849e-04]], grad_fn=<SigmoidBackward>)\n",
      "14 - tensor([[9.9937e-01, 8.1102e-04]], grad_fn=<SigmoidBackward>)\n",
      "15 - tensor([[9.9944e-01, 7.2487e-04]], grad_fn=<SigmoidBackward>)\n",
      "16 - tensor([[9.9932e-01, 8.7255e-04]], grad_fn=<SigmoidBackward>)\n",
      "17 - tensor([[9.9940e-01, 7.7256e-04]], grad_fn=<SigmoidBackward>)\n",
      "18 - tensor([[9.9941e-01, 7.6608e-04]], grad_fn=<SigmoidBackward>)\n",
      "19 - tensor([[9.9940e-01, 7.7394e-04]], grad_fn=<SigmoidBackward>)\n",
      "20 - tensor([[9.9940e-01, 7.7341e-04]], grad_fn=<SigmoidBackward>)\n",
      "21 - tensor([[9.9930e-01, 8.9252e-04]], grad_fn=<SigmoidBackward>)\n",
      "22 - tensor([[9.9937e-01, 8.0533e-04]], grad_fn=<SigmoidBackward>)\n",
      "23 - tensor([[9.9943e-01, 7.3639e-04]], grad_fn=<SigmoidBackward>)\n",
      "24 - tensor([[9.9937e-01, 8.1406e-04]], grad_fn=<SigmoidBackward>)\n",
      "25 - tensor([[9.9932e-01, 8.7536e-04]], grad_fn=<SigmoidBackward>)\n",
      "26 - tensor([[9.9937e-01, 8.0709e-04]], grad_fn=<SigmoidBackward>)\n",
      "27 - tensor([[9.9936e-01, 8.3100e-04]], grad_fn=<SigmoidBackward>)\n",
      "28 - tensor([[9.9942e-01, 7.4981e-04]], grad_fn=<SigmoidBackward>)\n",
      "29 - tensor([[0.9931, 0.0082]], grad_fn=<SigmoidBackward>)\n",
      "30 - tensor([[0.0071, 0.9918]], grad_fn=<SigmoidBackward>)\n",
      "31 - tensor([[0.0029, 0.9966]], grad_fn=<SigmoidBackward>)\n",
      "32 - tensor([[0.0027, 0.9967]], grad_fn=<SigmoidBackward>)\n",
      "33 - tensor([[0.0027, 0.9968]], grad_fn=<SigmoidBackward>)\n",
      "34 - tensor([[0.0027, 0.9968]], grad_fn=<SigmoidBackward>)\n",
      "35 - tensor([[0.0027, 0.9968]], grad_fn=<SigmoidBackward>)\n",
      "36 - tensor([[0.0027, 0.9968]], grad_fn=<SigmoidBackward>)\n",
      "37 - tensor([[0.0026, 0.9968]], grad_fn=<SigmoidBackward>)\n",
      "38 - tensor([[0.0027, 0.9968]], grad_fn=<SigmoidBackward>)\n",
      "39 - tensor([[0.0027, 0.9968]], grad_fn=<SigmoidBackward>)\n",
      "40 - tensor([[0.0027, 0.9968]], grad_fn=<SigmoidBackward>)\n",
      "41 - tensor([[0.0027, 0.9968]], grad_fn=<SigmoidBackward>)\n",
      "42 - tensor([[0.0027, 0.9968]], grad_fn=<SigmoidBackward>)\n",
      "43 - tensor([[0.0027, 0.9968]], grad_fn=<SigmoidBackward>)\n",
      "44 - tensor([[0.0027, 0.9968]], grad_fn=<SigmoidBackward>)\n",
      "45 - tensor([[0.0027, 0.9968]], grad_fn=<SigmoidBackward>)\n",
      "46 - tensor([[0.0027, 0.9968]], grad_fn=<SigmoidBackward>)\n",
      "47 - tensor([[0.0027, 0.9968]], grad_fn=<SigmoidBackward>)\n",
      "48 - tensor([[0.0027, 0.9968]], grad_fn=<SigmoidBackward>)\n",
      "49 - tensor([[0.0027, 0.9967]], grad_fn=<SigmoidBackward>)\n",
      "50 - tensor([[0.0027, 0.9968]], grad_fn=<SigmoidBackward>)\n",
      "51 - tensor([[0.0027, 0.9968]], grad_fn=<SigmoidBackward>)\n",
      "52 - tensor([[0.0027, 0.9967]], grad_fn=<SigmoidBackward>)\n",
      "53 - tensor([[0.0028, 0.9967]], grad_fn=<SigmoidBackward>)\n",
      "54 - tensor([[0.0027, 0.9968]], grad_fn=<SigmoidBackward>)\n",
      "55 - tensor([[0.0028, 0.9967]], grad_fn=<SigmoidBackward>)\n",
      "56 - tensor([[0.0027, 0.9968]], grad_fn=<SigmoidBackward>)\n",
      "57 - tensor([[0.0027, 0.9968]], grad_fn=<SigmoidBackward>)\n",
      "58 - tensor([[0.0028, 0.9966]], grad_fn=<SigmoidBackward>)\n",
      "59 - tensor([[0.0028, 0.9966]], grad_fn=<SigmoidBackward>)\n",
      "60 - tensor([[0.0028, 0.9966]], grad_fn=<SigmoidBackward>)\n",
      "61 - tensor([[0.0027, 0.9967]], grad_fn=<SigmoidBackward>)\n",
      "62 - tensor([[0.0029, 0.9965]], grad_fn=<SigmoidBackward>)\n",
      "63 - tensor([[0.0030, 0.9964]], grad_fn=<SigmoidBackward>)\n",
      "64 - tensor([[0.0029, 0.9965]], grad_fn=<SigmoidBackward>)\n",
      "65 - tensor([[0.0027, 0.9967]], grad_fn=<SigmoidBackward>)\n",
      "66 - tensor([[0.0029, 0.9966]], grad_fn=<SigmoidBackward>)\n",
      "67 - tensor([[0.0028, 0.9966]], grad_fn=<SigmoidBackward>)\n",
      "68 - tensor([[0.0027, 0.9967]], grad_fn=<SigmoidBackward>)\n",
      "69 - tensor([[0.0030, 0.9964]], grad_fn=<SigmoidBackward>)\n",
      "70 - tensor([[0.0027, 0.9967]], grad_fn=<SigmoidBackward>)\n",
      "71 - tensor([[0.0028, 0.9966]], grad_fn=<SigmoidBackward>)\n",
      "72 - tensor([[0.0028, 0.9966]], grad_fn=<SigmoidBackward>)\n",
      "73 - tensor([[0.0029, 0.9965]], grad_fn=<SigmoidBackward>)\n",
      "74 - tensor([[0.0028, 0.9967]], grad_fn=<SigmoidBackward>)\n",
      "75 - tensor([[0.0028, 0.9967]], grad_fn=<SigmoidBackward>)\n",
      "76 - tensor([[0.0030, 0.9964]], grad_fn=<SigmoidBackward>)\n",
      "77 - tensor([[0.0028, 0.9966]], grad_fn=<SigmoidBackward>)\n",
      "78 - tensor([[0.0029, 0.9966]], grad_fn=<SigmoidBackward>)\n",
      "79 - tensor([[0.0028, 0.9967]], grad_fn=<SigmoidBackward>)\n",
      "80 - tensor([[0.0029, 0.9965]], grad_fn=<SigmoidBackward>)\n",
      "81 - tensor([[0.0028, 0.9966]], grad_fn=<SigmoidBackward>)\n",
      "82 - tensor([[0.0029, 0.9965]], grad_fn=<SigmoidBackward>)\n",
      "83 - tensor([[0.0028, 0.9967]], grad_fn=<SigmoidBackward>)\n",
      "84 - tensor([[0.0028, 0.9966]], grad_fn=<SigmoidBackward>)\n",
      "85 - tensor([[0.0029, 0.9965]], grad_fn=<SigmoidBackward>)\n",
      "86 - tensor([[0.0030, 0.9965]], grad_fn=<SigmoidBackward>)\n",
      "87 - tensor([[0.0029, 0.9966]], grad_fn=<SigmoidBackward>)\n",
      "88 - tensor([[0.0029, 0.9965]], grad_fn=<SigmoidBackward>)\n",
      "89 - tensor([[0.0032, 0.9962]], grad_fn=<SigmoidBackward>)\n",
      "90 - tensor([[0.9954, 0.0055]], grad_fn=<SigmoidBackward>)\n",
      "91 - tensor([[0.9965, 0.0043]], grad_fn=<SigmoidBackward>)\n",
      "92 - tensor([[0.9965, 0.0042]], grad_fn=<SigmoidBackward>)\n",
      "93 - tensor([[0.9965, 0.0043]], grad_fn=<SigmoidBackward>)\n",
      "94 - tensor([[0.9964, 0.0044]], grad_fn=<SigmoidBackward>)\n",
      "95 - tensor([[0.9964, 0.0043]], grad_fn=<SigmoidBackward>)\n",
      "96 - tensor([[0.9964, 0.0044]], grad_fn=<SigmoidBackward>)\n",
      "97 - tensor([[0.9964, 0.0043]], grad_fn=<SigmoidBackward>)\n",
      "98 - tensor([[0.9964, 0.0044]], grad_fn=<SigmoidBackward>)\n",
      "99 - tensor([[0.9964, 0.0043]], grad_fn=<SigmoidBackward>)\n",
      "100 - tensor([[0.9964, 0.0043]], grad_fn=<SigmoidBackward>)\n",
      "101 - tensor([[0.9964, 0.0043]], grad_fn=<SigmoidBackward>)\n",
      "102 - tensor([[0.9962, 0.0046]], grad_fn=<SigmoidBackward>)\n",
      "103 - tensor([[0.9964, 0.0044]], grad_fn=<SigmoidBackward>)\n",
      "104 - tensor([[0.9964, 0.0043]], grad_fn=<SigmoidBackward>)\n",
      "105 - tensor([[0.9964, 0.0043]], grad_fn=<SigmoidBackward>)\n",
      "106 - tensor([[0.9964, 0.0043]], grad_fn=<SigmoidBackward>)\n",
      "107 - tensor([[0.9964, 0.0044]], grad_fn=<SigmoidBackward>)\n",
      "108 - tensor([[0.9964, 0.0044]], grad_fn=<SigmoidBackward>)\n",
      "109 - tensor([[0.9963, 0.0044]], grad_fn=<SigmoidBackward>)\n",
      "110 - tensor([[0.9964, 0.0043]], grad_fn=<SigmoidBackward>)\n",
      "111 - tensor([[0.9963, 0.0044]], grad_fn=<SigmoidBackward>)\n",
      "112 - tensor([[0.9963, 0.0045]], grad_fn=<SigmoidBackward>)\n",
      "113 - tensor([[0.9963, 0.0044]], grad_fn=<SigmoidBackward>)\n",
      "114 - tensor([[0.9962, 0.0045]], grad_fn=<SigmoidBackward>)\n",
      "115 - tensor([[0.9962, 0.0046]], grad_fn=<SigmoidBackward>)\n",
      "116 - tensor([[0.9963, 0.0045]], grad_fn=<SigmoidBackward>)\n",
      "117 - tensor([[0.9964, 0.0043]], grad_fn=<SigmoidBackward>)\n",
      "118 - tensor([[0.9963, 0.0044]], grad_fn=<SigmoidBackward>)\n",
      "119 - tensor([[0.9964, 0.0044]], grad_fn=<SigmoidBackward>)\n"
     ]
    }
   ],
   "source": [
    "for i in range(120):\n",
    "    print(str(i) + ' - ' + str(output[i]))"
   ]
  }
 ],
 "metadata": {
  "kernelspec": {
   "display_name": "Python 3",
   "language": "python",
   "name": "python3"
  },
  "language_info": {
   "codemirror_mode": {
    "name": "ipython",
    "version": 3
   },
   "file_extension": ".py",
   "mimetype": "text/x-python",
   "name": "python",
   "nbconvert_exporter": "python",
   "pygments_lexer": "ipython3",
   "version": "3.7.10"
  }
 },
 "nbformat": 4,
 "nbformat_minor": 5
}
