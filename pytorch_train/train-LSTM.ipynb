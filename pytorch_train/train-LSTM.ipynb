{
 "cells": [
  {
   "cell_type": "code",
   "execution_count": 1,
   "id": "b502d439",
   "metadata": {},
   "outputs": [],
   "source": [
    "%load_ext autoreload\n",
    "%autoreload 2"
   ]
  },
  {
   "cell_type": "code",
   "execution_count": 2,
   "id": "20c813ab",
   "metadata": {},
   "outputs": [],
   "source": [
    "import numpy as np\n",
    "import torch\n",
    "import torch.nn as nn\n",
    "import csv\n",
    "import os\n",
    "import cv2\n",
    "from PIL import Image\n",
    "import matplotlib.pyplot as plt\n",
    "import time"
   ]
  },
  {
   "cell_type": "code",
   "execution_count": 3,
   "id": "e3f9dad0",
   "metadata": {},
   "outputs": [],
   "source": [
    "from prepare_data import *\n",
    "from prepare_model import *"
   ]
  },
  {
   "cell_type": "code",
   "execution_count": 8,
   "id": "2701d5aa",
   "metadata": {},
   "outputs": [
    {
     "name": "stdout",
     "output_type": "stream",
     "text": [
      "Successfully loaded NPZ.\n"
     ]
    }
   ],
   "source": [
    "data = zigzag()"
   ]
  },
  {
   "cell_type": "code",
   "execution_count": 9,
   "id": "ab59764e",
   "metadata": {
    "scrolled": true
   },
   "outputs": [
    {
     "name": "stdout",
     "output_type": "stream",
     "text": [
      "data path: ../1-generate/data/\n",
      "start match: 0\n",
      "end match: 0\n",
      "start frame: 1\n",
      "end frame: 120\n",
      "available actions: [2, 3]\n",
      "train data shape: (1, 120, 100, 100)\n",
      "targets data shape: (1, 120, 1, 2)\n"
     ]
    }
   ],
   "source": [
    "data.print_data()"
   ]
  },
  {
   "cell_type": "code",
   "execution_count": 12,
   "id": "6ac9dbac",
   "metadata": {},
   "outputs": [
    {
     "data": {
      "text/plain": [
       "(1, 120, 100, 100)"
      ]
     },
     "execution_count": 12,
     "metadata": {},
     "output_type": "execute_result"
    }
   ],
   "source": [
    "data.train_data.shape"
   ]
  },
  {
   "cell_type": "code",
   "execution_count": 13,
   "id": "7b005023",
   "metadata": {},
   "outputs": [
    {
     "data": {
      "text/plain": [
       "(1, 120, 10000)"
      ]
     },
     "execution_count": 13,
     "metadata": {},
     "output_type": "execute_result"
    }
   ],
   "source": [
    "X_train = data.train_data.reshape(1, 120, -1)\n",
    "X_train.shape"
   ]
  },
  {
   "cell_type": "code",
   "execution_count": 15,
   "id": "ea8d6745",
   "metadata": {},
   "outputs": [
    {
     "data": {
      "text/plain": [
       "(1, 120, 2)"
      ]
     },
     "execution_count": 15,
     "metadata": {},
     "output_type": "execute_result"
    }
   ],
   "source": [
    "Y_train = data.targets.reshape(1, 120, 2)\n",
    "Y_train.shape"
   ]
  },
  {
   "cell_type": "code",
   "execution_count": 16,
   "id": "957455ef",
   "metadata": {},
   "outputs": [],
   "source": [
    "X_train, Y_train = data.pack_to_model(X_train, Y_train)"
   ]
  },
  {
   "cell_type": "code",
   "execution_count": 17,
   "id": "7b1253a0",
   "metadata": {},
   "outputs": [
    {
     "data": {
      "text/plain": [
       "torch.Size([120, 10000])"
      ]
     },
     "execution_count": 17,
     "metadata": {},
     "output_type": "execute_result"
    }
   ],
   "source": [
    "X_train[0].shape"
   ]
  },
  {
   "cell_type": "code",
   "execution_count": 18,
   "id": "d0452c50",
   "metadata": {},
   "outputs": [
    {
     "data": {
      "text/plain": [
       "(1, 120, 100, 100)"
      ]
     },
     "execution_count": 18,
     "metadata": {},
     "output_type": "execute_result"
    }
   ],
   "source": [
    "data.data_shape"
   ]
  },
  {
   "cell_type": "code",
   "execution_count": 19,
   "id": "8d9e4dfd",
   "metadata": {},
   "outputs": [
    {
     "data": {
      "text/plain": [
       "(1, 120, 1, 2)"
      ]
     },
     "execution_count": 19,
     "metadata": {},
     "output_type": "execute_result"
    }
   ],
   "source": [
    "data.target_shape"
   ]
  },
  {
   "cell_type": "code",
   "execution_count": null,
   "id": "017e14ae",
   "metadata": {},
   "outputs": [
    {
     "name": "stdout",
     "output_type": "stream",
     "text": [
      "1 - RNN\n",
      "2 - LSTM\n",
      "3 - CNN\n",
      "Choose type of model: 2\n",
      "LSTM model\n"
     ]
    }
   ],
   "source": [
    "model_def = prepare_model(data)"
   ]
  },
  {
   "cell_type": "code",
   "execution_count": 14,
   "id": "82a8c911",
   "metadata": {},
   "outputs": [
    {
     "name": "stdout",
     "output_type": "stream",
     "text": [
      "type: RNN\n",
      "obs: teste_class\n",
      "number of epochs: 100\n",
      "number of hidden neurons: 200\n",
      "using device: cpu\n",
      "min losss: 1e-05\n",
      "criterion MSELoss()\n",
      "model path models/teste_class_m1to2_f1to1000_epoch100_H200\n"
     ]
    }
   ],
   "source": [
    "model_def.get_info()"
   ]
  },
  {
   "cell_type": "code",
   "execution_count": 15,
   "id": "c21ae39d",
   "metadata": {},
   "outputs": [],
   "source": [
    "model = RNNModel(model_def.device, \n",
    "                 data.data_shape[2] * data.data_shape[3], \n",
    "                 data.target_shape[3], \n",
    "                 model_def.hidden_neurons, \n",
    "                 1, \n",
    "                 True)"
   ]
  },
  {
   "cell_type": "code",
   "execution_count": 21,
   "id": "21dbb3c2",
   "metadata": {},
   "outputs": [],
   "source": [
    "model_def.train_def(model)"
   ]
  },
  {
   "cell_type": "code",
   "execution_count": 19,
   "id": "c59f2d39",
   "metadata": {},
   "outputs": [],
   "source": [
    "train_loss_arr = np.array([])\n",
    "train_acc_arr = np.array([])"
   ]
  },
  {
   "cell_type": "code",
   "execution_count": 20,
   "id": "222fa577",
   "metadata": {},
   "outputs": [
    {
     "name": "stderr",
     "output_type": "stream",
     "text": [
      "C:\\Users\\alece\\Desktop\\UnB\\tcc\\rnn_enduro\\pytorch_train\\prepare_model.py:137: UserWarning: Implicit dimension choice for softmax has been deprecated. Change the call to include dim=X as an argument.\n",
      "  out = self.out(out)\n"
     ]
    },
    {
     "name": "stdout",
     "output_type": "stream",
     "text": [
      "Epoch: 10/100-------------------------------------------\n",
      "Train -> Loss: 0.076540268957615 Acc: 0.481000006198883\n",
      "Epoch: 20/100-------------------------------------------\n",
      "Train -> Loss: 0.075322300195694 Acc: 0.481000006198883\n",
      "Epoch: 30/100-------------------------------------------\n",
      "Train -> Loss: 0.074391022324562 Acc: 0.481000006198883\n",
      "Epoch: 40/100-------------------------------------------\n",
      "Train -> Loss: 0.073414608836174 Acc: 0.481000006198883\n",
      "Epoch: 50/100-------------------------------------------\n",
      "Train -> Loss: 0.072337850928307 Acc: 0.481000006198883\n",
      "Epoch: 60/100-------------------------------------------\n",
      "Train -> Loss: 0.070846721529961 Acc: 0.567499995231628\n",
      "Epoch: 70/100-------------------------------------------\n",
      "Train -> Loss: 0.069291800260544 Acc: 0.572000026702881\n",
      "Epoch: 80/100-------------------------------------------\n",
      "Train -> Loss: 0.067875839769840 Acc: 0.589500010013580\n",
      "Epoch: 90/100-------------------------------------------\n",
      "Train -> Loss: 0.066359572112560 Acc: 0.596499979496002\n",
      "Epoch: 100/100-------------------------------------------\n",
      "Train -> Loss: 0.064845539629459 Acc: 0.602500021457672\n",
      "--- 234.56864166259766 seconds ---\n"
     ]
    }
   ],
   "source": [
    "start_time_processing = time.time()\n",
    "\n",
    "# Training Run\n",
    "loss_file = open(model_def.model_path + '/' + \"loss_file.txt\", \"w\")\n",
    "first_time = True\n",
    "\n",
    "best_loss = 1\n",
    "first_epoch = True\n",
    "\n",
    "for epoch in range(1, model_def.n_epochs + 1):\n",
    "\n",
    "    model.train()\n",
    "\n",
    "    model_def.optimizer.zero_grad() # Clears existing gradients from previous epoch\n",
    "    X_train.to(model_def.device)\n",
    "    output = model(X_train)\n",
    "    loss = model_def.criterion(output, Y_train.view(-1,len(data.actions_list)).float())\n",
    "    loss.backward() # Does backpropagation and calculates gradients\n",
    "    model_def.optimizer.step() # Updates the weights accordinglyw\n",
    "        \n",
    "    if epoch%10 == 0:\n",
    "\n",
    "        train_loss_arr = np.append(train_loss_arr, loss.item())\n",
    "        train_acc_arr  = np.append(train_acc_arr, model_def.get_acc(output, Y_train.reshape(-1, len(data.actions_list))))\n",
    "        # train_acc_arr  = np.append(train_acc_arr, get_acc_2(output, target_padded.reshape(-1, len(ACTIONS_LIST))))\n",
    "        \n",
    "        loss_file.write(\"Epoch: {}/{}-------------------------------------------\\n\".format(epoch, model_def.n_epochs))\n",
    "        loss_file.write(\"Train -> Loss: {:.15f} Acc: {:.15f}\\n\".format(train_loss_arr[-1], train_acc_arr[-1]))\n",
    "            \n",
    "        print(\"Epoch: {}/{}-------------------------------------------\".format(epoch, model_def.n_epochs))\n",
    "        print(\"Train -> Loss: {:.15f} Acc: {:.15f}\".format(train_loss_arr[-1], train_acc_arr[-1]))\n",
    "        \n",
    "        if train_loss_arr[-1] < best_loss:\n",
    "            state = { 'epoch': epoch + 1, 'state_dict': model.state_dict(),\n",
    "                      'optimizer': model_def.optimizer.state_dict(), 'losslogger': loss.item(), }\n",
    "            torch.save(state, model_def.model_path + '/' + model_def.model_name)\n",
    "            best_loss = loss.item()\n",
    "        else:\n",
    "            print(\"model not saved\")\n",
    "            \n",
    "loss_file.write(\"--- %s seconds ---\" % (time.time() - start_time_processing))\n",
    "loss_file.close()\n",
    "np.savez(model_def.model_path + '/' + \"train_loss_arr\", train_loss_arr)\n",
    "#np.savez(newpath + '/' + \"valid_acc_table\", valid_loss_mean_arr)\n",
    "print(\"--- %s seconds ---\" % (time.time() - start_time_processing))"
   ]
  }
 ],
 "metadata": {
  "kernelspec": {
   "display_name": "Python [conda env:torch] *",
   "language": "python",
   "name": "conda-env-torch-py"
  },
  "language_info": {
   "codemirror_mode": {
    "name": "ipython",
    "version": 3
   },
   "file_extension": ".py",
   "mimetype": "text/x-python",
   "name": "python",
   "nbconvert_exporter": "python",
   "pygments_lexer": "ipython3",
   "version": "3.7.10"
  }
 },
 "nbformat": 4,
 "nbformat_minor": 5
}
