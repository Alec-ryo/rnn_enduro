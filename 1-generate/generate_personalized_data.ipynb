{
 "cells": [
  {
   "cell_type": "code",
   "execution_count": 1,
   "id": "touched-angel",
   "metadata": {},
   "outputs": [],
   "source": [
    "import numpy as np\n",
    "import gym\n",
    "import time\n",
    "import os\n",
    "from PIL import Image\n",
    "from scipy.io import savemat\n",
    "import random"
   ]
  },
  {
   "cell_type": "code",
   "execution_count": 2,
   "id": "suspected-petite",
   "metadata": {},
   "outputs": [],
   "source": [
    "sleep_time = 0.05\n",
    "path = \"data/\""
   ]
  },
  {
   "cell_type": "code",
   "execution_count": 3,
   "id": "6622dd76",
   "metadata": {},
   "outputs": [],
   "source": [
    "y_min, y_max, x_min, x_max = 25, 195, 20, 140\n",
    "shape_of_single_frame = (1, (y_max-y_min),(x_max-x_min))"
   ]
  },
  {
   "cell_type": "code",
   "execution_count": 4,
   "id": "896db906",
   "metadata": {},
   "outputs": [],
   "source": [
    "def game_behavior():\n",
    "    print(\"1 - zigzag\")\n",
    "    print(\"2 - random\")\n",
    "    print(\"3 - nothing\")\n",
    "    behavior = int(input(\"Choose behavior of game: \"))\n",
    "    return behavior"
   ]
  },
  {
   "cell_type": "code",
   "execution_count": 5,
   "id": "8fd95fe0",
   "metadata": {},
   "outputs": [
    {
     "name": "stdout",
     "output_type": "stream",
     "text": [
      "1 - zigzag\n",
      "2 - random\n",
      "3 - nothing\n",
      "Choose behavior of game: 2\n"
     ]
    }
   ],
   "source": [
    "behavior = game_behavior()"
   ]
  },
  {
   "cell_type": "code",
   "execution_count": 6,
   "id": "2ed9e3c9",
   "metadata": {},
   "outputs": [],
   "source": [
    "if behavior == 1:\n",
    "    n_imgs = 120\n",
    "else:\n",
    "    n_imgs = 4500"
   ]
  },
  {
   "cell_type": "code",
   "execution_count": 7,
   "id": "overall-container",
   "metadata": {},
   "outputs": [],
   "source": [
    "def prepare_folder(PATH):\n",
    "    m = []\n",
    "    listdir = os.listdir(PATH)\n",
    "\n",
    "    if listdir:\n",
    "        for folder in listdir:\n",
    "            m.append(int(folder.split(\"_\")[1]))\n",
    "        number_of_last_folder = max(m)\n",
    "        next_folder = \"match_\" + str(number_of_last_folder + 1)\n",
    "    else:\n",
    "        next_folder = \"match_0\"\n",
    "\n",
    "    match_path = PATH + next_folder\n",
    "    os.mkdir(match_path)\n",
    "    \n",
    "    print(next_folder)\n",
    "    \n",
    "    img_path = PATH + next_folder + \"/\" + \"img\"\n",
    "    os.mkdir(img_path)\n",
    "    \n",
    "    npz_path = PATH + next_folder + \"/\" + \"npz\"\n",
    "    os.mkdir(npz_path)\n",
    "    \n",
    "    mat_path = PATH + next_folder + \"/\" + \"mat\"\n",
    "    os.mkdir(mat_path)\n",
    "    \n",
    "    return match_path+\"/\", img_path+\"/\", npz_path+\"/\", mat_path+\"/\" "
   ]
  },
  {
   "cell_type": "code",
   "execution_count": 8,
   "id": "atlantic-wichita",
   "metadata": {},
   "outputs": [],
   "source": [
    "def save_as_png(PATH, pil_buffer):\n",
    "\n",
    "    print(\"salva png\")\n",
    "\n",
    "    _path = PATH\n",
    "\n",
    "    for i in range(len(pil_buffer)):\n",
    "        \n",
    "        path = _path + str(i) + \".png\"\n",
    "        pil_buffer[i].save(path)\n",
    "\n",
    "    print(\"Successfully saved as PNG.\")"
   ]
  },
  {
   "cell_type": "code",
   "execution_count": 9,
   "id": "formed-closing",
   "metadata": {},
   "outputs": [],
   "source": [
    "def save_as_npz(PATH, match_buffer):\n",
    "    path = PATH\n",
    "\n",
    "    np.savez_compressed(path + \"frames.npz\", match_buffer[1])\n",
    "    np.savez_compressed(path + \"actions.npz\", match_buffer[2])\n",
    "    np.savez_compressed(path + \"rewards.npz\", match_buffer[3])\n",
    "    np.savez_compressed(path + \"lifes.npz\", match_buffer[4])\n",
    "\n",
    "    print(\"Successfully saved as NPZ.\")"
   ]
  },
  {
   "cell_type": "code",
   "execution_count": 10,
   "id": "compact-continuity",
   "metadata": {},
   "outputs": [],
   "source": [
    "def save_actions_as_txt(PATH, actions):\n",
    "    f = open(PATH + \"actions.txt\", \"w\")\n",
    "    for i in range(len(actions)):\n",
    "        f.write(str(actions[i]) + \" \\n\")\n",
    "    f.close()"
   ]
  },
  {
   "cell_type": "code",
   "execution_count": 11,
   "id": "greek-antigua",
   "metadata": {},
   "outputs": [],
   "source": [
    "def save_as_matfile(PATH, match_buffer):\n",
    "    mdic = {\"num_frames\": match_buffer[0], \"frames\": match_buffer[1], \"actions\": match_buffer[2]}\n",
    "    savemat(PATH + \"data.mat\", mdic)"
   ]
  },
  {
   "cell_type": "code",
   "execution_count": 12,
   "id": "seeing-forwarding",
   "metadata": {},
   "outputs": [],
   "source": [
    "match_buffer = []\n",
    "pil_buffer = []\n",
    "frame_buffer = np.empty((0, y_max-y_min, x_max-x_min), dtype=np.double)\n",
    "action_buffer = np.empty((0,1), dtype=int) \n",
    "reward_buffer = np.empty((0,1), dtype=np.double)\n",
    "life_buffer = np.empty((0,1), dtype=np.double)"
   ]
  },
  {
   "cell_type": "code",
   "execution_count": 13,
   "id": "auburn-hearts",
   "metadata": {},
   "outputs": [],
   "source": [
    "env = gym.make(\"Enduro-v0\")"
   ]
  },
  {
   "cell_type": "code",
   "execution_count": 14,
   "id": "productive-sunset",
   "metadata": {},
   "outputs": [],
   "source": [
    "frame = env.reset()"
   ]
  },
  {
   "cell_type": "code",
   "execution_count": 15,
   "id": "knowing-cooking",
   "metadata": {},
   "outputs": [],
   "source": [
    "reward, action, done, info = 0, 0, False, {'ale.lives': 0}"
   ]
  },
  {
   "cell_type": "code",
   "execution_count": 16,
   "id": "enhanced-thinking",
   "metadata": {},
   "outputs": [],
   "source": [
    "for img in range(n_imgs):\n",
    "    time.sleep(sleep_time)\n",
    "    env.render()\n",
    "\n",
    "    if behavior == 1:\n",
    "        if img < 30 or img >= 90:\n",
    "            action = 2\n",
    "        else:\n",
    "            action = 3\n",
    "    elif behavior == 2:\n",
    "        action = random.randint(1,3)\n",
    "    else: \n",
    "        action = 0\n",
    "\n",
    "    frame = frame[y_min:y_max, x_min:x_max]\n",
    "\n",
    "    frame = Image.fromarray(frame)\n",
    "    frame = frame.convert(\"L\")\n",
    "\n",
    "    pil_buffer.append(frame)\n",
    "\n",
    "    frame = np.asarray(frame)\n",
    "    frame = frame.reshape(1, y_max-y_min, x_max-x_min)\n",
    "\n",
    "    frame_buffer = np.concatenate(( frame_buffer, frame ))\n",
    "    reward_buffer = np.append(reward_buffer, np.array(reward))\n",
    "    life_buffer = np.append(life_buffer, np.array(info['ale.lives']))\n",
    "    action_buffer = np.append(action_buffer, np.array(action))\n",
    "\n",
    "    frame, reward, done, info = env.step(action)"
   ]
  },
  {
   "cell_type": "code",
   "execution_count": 17,
   "id": "greek-florist",
   "metadata": {},
   "outputs": [
    {
     "name": "stdout",
     "output_type": "stream",
     "text": [
      "match_1003\n"
     ]
    }
   ],
   "source": [
    "match_path, img_path, npz_path, mat_path = prepare_folder(path)"
   ]
  },
  {
   "cell_type": "code",
   "execution_count": 18,
   "id": "balanced-vegetation",
   "metadata": {},
   "outputs": [
    {
     "name": "stdout",
     "output_type": "stream",
     "text": [
      "Successfully saved as NPZ.\n",
      "salva png\n",
      "Successfully saved as PNG.\n"
     ]
    }
   ],
   "source": [
    "match_buffer = [action_buffer.shape[0], frame_buffer, action_buffer, reward_buffer, life_buffer]\n",
    "\n",
    "save_as_npz(npz_path, match_buffer)\n",
    "save_as_png(img_path, pil_buffer)\n",
    "save_actions_as_txt(mat_path, action_buffer)\n",
    "save_as_matfile(mat_path, match_buffer)"
   ]
  }
 ],
 "metadata": {
  "kernelspec": {
   "display_name": "Python 3",
   "language": "python",
   "name": "python3"
  },
  "language_info": {
   "codemirror_mode": {
    "name": "ipython",
    "version": 3
   },
   "file_extension": ".py",
   "mimetype": "text/x-python",
   "name": "python",
   "nbconvert_exporter": "python",
   "pygments_lexer": "ipython3",
   "version": "3.8.5"
  }
 },
 "nbformat": 4,
 "nbformat_minor": 5
}
