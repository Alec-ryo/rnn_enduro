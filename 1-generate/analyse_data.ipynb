{
 "cells": [
  {
   "cell_type": "markdown",
   "id": "4bcd9e74",
   "metadata": {},
   "source": [
    "# Analysing splited data"
   ]
  },
  {
   "cell_type": "code",
   "execution_count": 1,
   "id": "1abcc491",
   "metadata": {},
   "outputs": [],
   "source": [
    "import numpy as np"
   ]
  },
  {
   "cell_type": "code",
   "execution_count": 2,
   "id": "302cc2ce",
   "metadata": {},
   "outputs": [],
   "source": [
    "def load_npz(data_path, m):\n",
    "    \n",
    "    path = data_path + \"match_\" + str(m) + \"/npz/\"\n",
    "\n",
    "    actions = np.load(path + 'actions.npz')\n",
    "    lifes = np.load(path + 'lifes.npz')\n",
    "    frames = np.load(path + 'frames.npz')\n",
    "    rewards = np.load(path + 'rewards.npz')\n",
    "\n",
    "    arr_actions = actions.f.arr_0\n",
    "    arr_lifes = lifes.f.arr_0\n",
    "    arr_frames = frames.f.arr_0\n",
    "    arr_rewards = rewards.f.arr_0\n",
    "\n",
    "    print(\"Successfully loaded NPZ.\")\n",
    "\n",
    "    return arr_actions.shape[0], arr_frames, arr_actions, arr_rewards, arr_lifes"
   ]
  },
  {
   "cell_type": "code",
   "execution_count": 3,
   "id": "daf2a69b",
   "metadata": {},
   "outputs": [],
   "source": [
    "data_path = r\"data/\""
   ]
  },
  {
   "cell_type": "markdown",
   "id": "3da18d6a",
   "metadata": {},
   "source": [
    "### List of action"
   ]
  },
  {
   "cell_type": "markdown",
   "id": "3b6a525b",
   "metadata": {},
   "source": [
    "0. Não faz nada\n",
    "1. Acelera\n",
    "2. Vai para direita\n",
    "3. Vai para esquerda\n",
    "4. freio\n",
    "5. freio para direita\n",
    "6. freio para esquerda\n",
    "7. Vai para direira acelerando\n",
    "8. Vai para esquerda acelerando"
   ]
  },
  {
   "cell_type": "markdown",
   "id": "6525b7d8",
   "metadata": {},
   "source": [
    "### match 0"
   ]
  },
  {
   "cell_type": "code",
   "execution_count": 4,
   "id": "7b64630a",
   "metadata": {},
   "outputs": [],
   "source": [
    "match = 0"
   ]
  },
  {
   "cell_type": "code",
   "execution_count": 5,
   "id": "4afca47a",
   "metadata": {},
   "outputs": [
    {
     "name": "stdout",
     "output_type": "stream",
     "text": [
      "Successfully loaded NPZ.\n"
     ]
    }
   ],
   "source": [
    "num_of_frames, frames, actions, rewards, lifes = load_npz(data_path, match)\n",
    "(unique, counts) = np.unique(actions, return_counts=True)\n",
    "action_frequencies = np.asarray((unique, counts))"
   ]
  },
  {
   "cell_type": "code",
   "execution_count": 6,
   "id": "ae7088dd",
   "metadata": {},
   "outputs": [
    {
     "name": "stdout",
     "output_type": "stream",
     "text": [
      "match 0\n",
      "number of frames: 120\n",
      "number of actions: 120\n",
      "action frequencies:\n",
      "[[ 2  3]\n",
      " [60 60]]\n"
     ]
    }
   ],
   "source": [
    "print(\"match\", match)\n",
    "print(\"number of frames:\", num_of_frames)\n",
    "print(\"number of actions:\", len(actions))\n",
    "print(\"action frequencies:\")\n",
    "print(action_frequencies)"
   ]
  },
  {
   "cell_type": "code",
   "execution_count": 8,
   "id": "c3158712",
   "metadata": {},
   "outputs": [],
   "source": [
    "frames = frames.reshape(120, 170, 120)\n",
    "np.savez_compressed(data_path + f\"match_{match}/npz/frames.npz\", frames)"
   ]
  },
  {
   "cell_type": "markdown",
   "id": "44391329",
   "metadata": {},
   "source": [
    "### match 45 (jogando)"
   ]
  },
  {
   "cell_type": "code",
   "execution_count": 55,
   "id": "650d3f10",
   "metadata": {},
   "outputs": [],
   "source": [
    "match = 1"
   ]
  },
  {
   "cell_type": "code",
   "execution_count": 56,
   "id": "0d47e2ad",
   "metadata": {},
   "outputs": [
    {
     "name": "stdout",
     "output_type": "stream",
     "text": [
      "Successfully loaded NPZ.\n"
     ]
    }
   ],
   "source": [
    "num_of_frames, frames, actions, rewards, lifes = load_npz(data_path, match)\n",
    "(unique, counts) = np.unique(actions, return_counts=True)\n",
    "action_frequencies = np.asarray((unique, counts))"
   ]
  },
  {
   "cell_type": "code",
   "execution_count": 57,
   "id": "a44b7075",
   "metadata": {},
   "outputs": [
    {
     "name": "stdout",
     "output_type": "stream",
     "text": [
      "match 1\n",
      "number of frames: 4500\n",
      "number of actions: 4500\n",
      "action frequencies:\n",
      "[[   0    1    2    3    4    5    6    7    8]\n",
      " [1923 1021  450  642   40   56   60  125  183]]\n"
     ]
    }
   ],
   "source": [
    "print(\"match\", match)\n",
    "print(\"number of frames:\", num_of_frames)\n",
    "print(\"number of actions:\", len(actions))\n",
    "print(\"action frequencies:\")\n",
    "print(action_frequencies)"
   ]
  },
  {
   "cell_type": "code",
   "execution_count": 59,
   "id": "85297aed",
   "metadata": {},
   "outputs": [],
   "source": [
    "frames = frames.reshape(4500, 170, 120)\n",
    "np.savez_compressed(data_path + f\"match_{match}/npz/frames.npz\", frames)"
   ]
  },
  {
   "cell_type": "markdown",
   "id": "e5d73b3b",
   "metadata": {},
   "source": [
    "### match 46 (jogando)"
   ]
  },
  {
   "cell_type": "code",
   "execution_count": 64,
   "id": "7d98d109",
   "metadata": {},
   "outputs": [],
   "source": [
    "match = 2"
   ]
  },
  {
   "cell_type": "code",
   "execution_count": 65,
   "id": "37d3d5b4",
   "metadata": {},
   "outputs": [
    {
     "name": "stdout",
     "output_type": "stream",
     "text": [
      "Successfully loaded NPZ.\n"
     ]
    }
   ],
   "source": [
    "num_of_frames, frames, actions, rewards, lifes = load_npz(data_path, match)\n",
    "(unique, counts) = np.unique(actions, return_counts=True)\n",
    "action_frequencies = np.asarray((unique, counts))"
   ]
  },
  {
   "cell_type": "code",
   "execution_count": 66,
   "id": "4f94157d",
   "metadata": {},
   "outputs": [
    {
     "name": "stdout",
     "output_type": "stream",
     "text": [
      "match 2\n",
      "number of frames: 4500\n",
      "number of actions: 4500\n",
      "action frequencies:\n",
      "[[   0    1    2    3    4    5    6    7    8]\n",
      " [2339  669  686  498   37   34   25   97  115]]\n"
     ]
    }
   ],
   "source": [
    "print(\"match\", match)\n",
    "print(\"number of frames:\", num_of_frames)\n",
    "print(\"number of actions:\", len(actions))\n",
    "print(\"action frequencies:\")\n",
    "print(action_frequencies)"
   ]
  },
  {
   "cell_type": "code",
   "execution_count": 67,
   "id": "8d2b26cd",
   "metadata": {},
   "outputs": [],
   "source": [
    "frames = frames.reshape(4500, 170, 120)\n",
    "np.savez_compressed(data_path + f\"match_{match}/npz/frames.npz\", frames)"
   ]
  },
  {
   "cell_type": "markdown",
   "id": "53987cef",
   "metadata": {},
   "source": [
    "### match 47"
   ]
  },
  {
   "cell_type": "code",
   "execution_count": 68,
   "id": "8e20fbe3",
   "metadata": {},
   "outputs": [],
   "source": [
    "match = 3"
   ]
  },
  {
   "cell_type": "code",
   "execution_count": 69,
   "id": "f2170127",
   "metadata": {},
   "outputs": [
    {
     "name": "stdout",
     "output_type": "stream",
     "text": [
      "Successfully loaded NPZ.\n"
     ]
    }
   ],
   "source": [
    "num_of_frames, frames, actions, rewards, lifes = load_npz(data_path, match)\n",
    "(unique, counts) = np.unique(actions, return_counts=True)\n",
    "action_frequencies = np.asarray((unique, counts))"
   ]
  },
  {
   "cell_type": "code",
   "execution_count": 70,
   "id": "6ddc1a68",
   "metadata": {},
   "outputs": [
    {
     "name": "stdout",
     "output_type": "stream",
     "text": [
      "match 3\n",
      "number of frames: 4500\n",
      "number of actions: 4500\n",
      "action frequencies:\n",
      "[[   0    1    2    3    4    5    6    7    8]\n",
      " [2654  375  580  743   24   13   21   22   68]]\n"
     ]
    }
   ],
   "source": [
    "print(\"match\", match)\n",
    "print(\"number of frames:\", num_of_frames)\n",
    "print(\"number of actions:\", len(actions))\n",
    "print(\"action frequencies:\")\n",
    "print(action_frequencies)"
   ]
  },
  {
   "cell_type": "code",
   "execution_count": 71,
   "id": "932a148a",
   "metadata": {},
   "outputs": [],
   "source": [
    "frames = frames.reshape(4500, 170, 120)\n",
    "np.savez_compressed(data_path + f\"match_{match}/npz/frames.npz\", frames)"
   ]
  },
  {
   "cell_type": "markdown",
   "id": "72230a91",
   "metadata": {},
   "source": [
    "### match 48"
   ]
  },
  {
   "cell_type": "code",
   "execution_count": 72,
   "id": "94e3370a",
   "metadata": {},
   "outputs": [],
   "source": [
    "match = 4"
   ]
  },
  {
   "cell_type": "code",
   "execution_count": 73,
   "id": "1fa8272d",
   "metadata": {},
   "outputs": [
    {
     "name": "stdout",
     "output_type": "stream",
     "text": [
      "Successfully loaded NPZ.\n"
     ]
    }
   ],
   "source": [
    "num_of_frames, frames, actions, rewards, lifes = load_npz(data_path, match)\n",
    "(unique, counts) = np.unique(actions, return_counts=True)\n",
    "action_frequencies = np.asarray((unique, counts))"
   ]
  },
  {
   "cell_type": "code",
   "execution_count": 74,
   "id": "49fa6c9b",
   "metadata": {},
   "outputs": [
    {
     "name": "stdout",
     "output_type": "stream",
     "text": [
      "match 4\n",
      "number of frames: 4500\n",
      "number of actions: 4500\n",
      "action frequencies:\n",
      "[[   0    1    2    3    4    5    6    7    8]\n",
      " [2164  930  677  527   31   23   31   66   51]]\n"
     ]
    }
   ],
   "source": [
    "print(\"match\", match)\n",
    "print(\"number of frames:\", num_of_frames)\n",
    "print(\"number of actions:\", len(actions))\n",
    "print(\"action frequencies:\")\n",
    "print(action_frequencies)"
   ]
  },
  {
   "cell_type": "code",
   "execution_count": 75,
   "id": "15554cd7",
   "metadata": {},
   "outputs": [],
   "source": [
    "frames = frames.reshape(4500, 170, 120)\n",
    "np.savez_compressed(data_path + f\"match_{match}/npz/frames.npz\", frames)"
   ]
  },
  {
   "cell_type": "markdown",
   "id": "31d47241",
   "metadata": {},
   "source": [
    "### match 49"
   ]
  },
  {
   "cell_type": "code",
   "execution_count": 76,
   "id": "47f60330",
   "metadata": {},
   "outputs": [],
   "source": [
    "match = 5"
   ]
  },
  {
   "cell_type": "code",
   "execution_count": 77,
   "id": "253a48eb",
   "metadata": {},
   "outputs": [
    {
     "name": "stdout",
     "output_type": "stream",
     "text": [
      "Successfully loaded NPZ.\n"
     ]
    }
   ],
   "source": [
    "num_of_frames, frames, actions, rewards, lifes = load_npz(data_path, match)\n",
    "(unique, counts) = np.unique(actions, return_counts=True)\n",
    "action_frequencies = np.asarray((unique, counts))"
   ]
  },
  {
   "cell_type": "code",
   "execution_count": 78,
   "id": "1fce5a72",
   "metadata": {},
   "outputs": [
    {
     "name": "stdout",
     "output_type": "stream",
     "text": [
      "match 5\n",
      "number of frames: 4500\n",
      "number of actions: 4500\n",
      "action frequencies:\n",
      "[[   0    1    2    3    4    5    6    7    8]\n",
      " [2413  714  472  647   81   24   20   48   81]]\n"
     ]
    }
   ],
   "source": [
    "print(\"match\", match)\n",
    "print(\"number of frames:\", num_of_frames)\n",
    "print(\"number of actions:\", len(actions))\n",
    "print(\"action frequencies:\")\n",
    "print(action_frequencies)"
   ]
  },
  {
   "cell_type": "code",
   "execution_count": 79,
   "id": "8a7f2dc8",
   "metadata": {},
   "outputs": [],
   "source": [
    "frames = frames.reshape(4500, 170, 120)\n",
    "np.savez_compressed(data_path + f\"match_{match}/npz/frames.npz\", frames)"
   ]
  },
  {
   "cell_type": "markdown",
   "id": "e7b75e12",
   "metadata": {},
   "source": [
    "### match 50"
   ]
  },
  {
   "cell_type": "code",
   "execution_count": 80,
   "id": "9a8d1f49",
   "metadata": {},
   "outputs": [],
   "source": [
    "match = 6"
   ]
  },
  {
   "cell_type": "code",
   "execution_count": 81,
   "id": "3ff9b53a",
   "metadata": {},
   "outputs": [
    {
     "name": "stdout",
     "output_type": "stream",
     "text": [
      "Successfully loaded NPZ.\n"
     ]
    }
   ],
   "source": [
    "num_of_frames, frames, actions, rewards, lifes = load_npz(data_path, match)\n",
    "(unique, counts) = np.unique(actions, return_counts=True)\n",
    "action_frequencies = np.asarray((unique, counts))"
   ]
  },
  {
   "cell_type": "code",
   "execution_count": 82,
   "id": "e7523d11",
   "metadata": {},
   "outputs": [
    {
     "name": "stdout",
     "output_type": "stream",
     "text": [
      "match 6\n",
      "number of frames: 4500\n",
      "number of actions: 4500\n",
      "action frequencies:\n",
      "[[   0    1    2    3    4    5    6    7    8]\n",
      " [1641 1309  643  416   32   66   60  149  184]]\n"
     ]
    }
   ],
   "source": [
    "print(\"match\", match)\n",
    "print(\"number of frames:\", num_of_frames)\n",
    "print(\"number of actions:\", len(actions))\n",
    "print(\"action frequencies:\")\n",
    "print(action_frequencies)"
   ]
  },
  {
   "cell_type": "code",
   "execution_count": 83,
   "id": "057bfedc",
   "metadata": {},
   "outputs": [],
   "source": [
    "frames = frames.reshape(4500, 170, 120)\n",
    "np.savez_compressed(data_path + f\"match_{match}/npz/frames.npz\", frames)"
   ]
  }
 ],
 "metadata": {
  "kernelspec": {
   "display_name": "Python 3",
   "language": "python",
   "name": "python3"
  },
  "language_info": {
   "codemirror_mode": {
    "name": "ipython",
    "version": 3
   },
   "file_extension": ".py",
   "mimetype": "text/x-python",
   "name": "python",
   "nbconvert_exporter": "python",
   "pygments_lexer": "ipython3",
   "version": "3.7.10"
  }
 },
 "nbformat": 4,
 "nbformat_minor": 5
}
