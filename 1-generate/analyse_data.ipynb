{
 "cells": [
  {
   "cell_type": "code",
   "execution_count": 1,
   "id": "1abcc491",
   "metadata": {},
   "outputs": [],
   "source": [
    "import numpy as np"
   ]
  },
  {
   "cell_type": "code",
   "execution_count": 2,
   "id": "302cc2ce",
   "metadata": {},
   "outputs": [],
   "source": [
    "def load_npz(data_path, m):\n",
    "    \n",
    "    path = data_path + \"match_\" + str(m) + \"/npz/\"\n",
    "\n",
    "    actions = np.load(path + 'actions.npz')\n",
    "    lifes = np.load(path + 'lifes.npz')\n",
    "    frames = np.load(path + 'frames.npz')\n",
    "    rewards = np.load(path + 'rewards.npz')\n",
    "\n",
    "    arr_actions = actions.f.arr_0\n",
    "    arr_lifes = lifes.f.arr_0\n",
    "    arr_frames = frames.f.arr_0\n",
    "    arr_rewards = rewards.f.arr_0\n",
    "\n",
    "    print(\"Successfully loaded NPZ.\")\n",
    "\n",
    "    return arr_actions.shape[0], arr_frames, arr_actions, arr_rewards, arr_lifes"
   ]
  },
  {
   "cell_type": "code",
   "execution_count": 18,
   "id": "daf2a69b",
   "metadata": {},
   "outputs": [],
   "source": [
    "data_path = r\"data/\""
   ]
  },
  {
   "cell_type": "markdown",
   "id": "3da18d6a",
   "metadata": {},
   "source": [
    "### List of action"
   ]
  },
  {
   "cell_type": "markdown",
   "id": "3b6a525b",
   "metadata": {},
   "source": [
    "0. Não faz nada\n",
    "1. Acelera\n",
    "2. Vai para direita\n",
    "3. Vai para esquerda\n",
    "4. freio\n",
    "5. freio para direita\n",
    "6. freio para esquerda\n",
    "7. Vai para direira acelerando\n",
    "8. Vai para esquerda acelerando"
   ]
  },
  {
   "cell_type": "markdown",
   "id": "44391329",
   "metadata": {},
   "source": [
    "### match 45 (jogando)"
   ]
  },
  {
   "cell_type": "code",
   "execution_count": 19,
   "id": "650d3f10",
   "metadata": {},
   "outputs": [],
   "source": [
    "match = 45"
   ]
  },
  {
   "cell_type": "code",
   "execution_count": 20,
   "id": "0d47e2ad",
   "metadata": {},
   "outputs": [
    {
     "name": "stdout",
     "output_type": "stream",
     "text": [
      "Successfully loaded NPZ.\n"
     ]
    }
   ],
   "source": [
    "num_of_frames, frames, actions, rewards, lifes = load_npz(data_path, match)\n",
    "(unique, counts) = np.unique(actions, return_counts=True)\n",
    "action_frequencies = np.asarray((unique, counts))"
   ]
  },
  {
   "cell_type": "code",
   "execution_count": 27,
   "id": "a44b7075",
   "metadata": {},
   "outputs": [
    {
     "name": "stdout",
     "output_type": "stream",
     "text": [
      "match 45\n",
      "number of frames: 4500\n",
      "number of actions: 4500\n",
      "action frequencies:\n",
      "[[   0    1    2    3    4    5    6    7    8]\n",
      " [1923 1021  450  642   40   56   60  125  183]]\n"
     ]
    }
   ],
   "source": [
    "print(\"match\", match)\n",
    "print(\"number of frames:\", num_of_frames)\n",
    "print(\"number of actions:\", len(actions))\n",
    "print(\"action frequencies:\")\n",
    "print(action_frequencies)"
   ]
  },
  {
   "cell_type": "markdown",
   "id": "e5d73b3b",
   "metadata": {},
   "source": [
    "### match 46 (jogando)"
   ]
  },
  {
   "cell_type": "code",
   "execution_count": 28,
   "id": "7d98d109",
   "metadata": {},
   "outputs": [],
   "source": [
    "match = 46"
   ]
  },
  {
   "cell_type": "code",
   "execution_count": 29,
   "id": "37d3d5b4",
   "metadata": {},
   "outputs": [
    {
     "name": "stdout",
     "output_type": "stream",
     "text": [
      "Successfully loaded NPZ.\n"
     ]
    }
   ],
   "source": [
    "num_of_frames, frames, actions, rewards, lifes = load_npz(data_path, match)\n",
    "(unique, counts) = np.unique(actions, return_counts=True)\n",
    "action_frequencies = np.asarray((unique, counts))"
   ]
  },
  {
   "cell_type": "code",
   "execution_count": 30,
   "id": "4f94157d",
   "metadata": {},
   "outputs": [
    {
     "name": "stdout",
     "output_type": "stream",
     "text": [
      "match 46\n",
      "number of frames: 4500\n",
      "number of actions: 4500\n",
      "action frequencies:\n",
      "[[   0    1    2    3    4    5    6    7    8]\n",
      " [2339  669  686  498   37   34   25   97  115]]\n"
     ]
    }
   ],
   "source": [
    "print(\"match\", match)\n",
    "print(\"number of frames:\", num_of_frames)\n",
    "print(\"number of actions:\", len(actions))\n",
    "print(\"action frequencies:\")\n",
    "print(action_frequencies)"
   ]
  },
  {
   "cell_type": "markdown",
   "id": "53987cef",
   "metadata": {},
   "source": [
    "### match 47"
   ]
  },
  {
   "cell_type": "code",
   "execution_count": 31,
   "id": "8e20fbe3",
   "metadata": {},
   "outputs": [],
   "source": [
    "match = 47"
   ]
  },
  {
   "cell_type": "code",
   "execution_count": 32,
   "id": "f2170127",
   "metadata": {},
   "outputs": [
    {
     "name": "stdout",
     "output_type": "stream",
     "text": [
      "Successfully loaded NPZ.\n"
     ]
    }
   ],
   "source": [
    "num_of_frames, frames, actions, rewards, lifes = load_npz(data_path, match)\n",
    "(unique, counts) = np.unique(actions, return_counts=True)\n",
    "action_frequencies = np.asarray((unique, counts))"
   ]
  },
  {
   "cell_type": "code",
   "execution_count": 33,
   "id": "6ddc1a68",
   "metadata": {},
   "outputs": [
    {
     "name": "stdout",
     "output_type": "stream",
     "text": [
      "match 47\n",
      "number of frames: 4500\n",
      "number of actions: 4500\n",
      "action frequencies:\n",
      "[[   0    1    2    3    4    5    6    7    8]\n",
      " [2654  375  580  743   24   13   21   22   68]]\n"
     ]
    }
   ],
   "source": [
    "print(\"match\", match)\n",
    "print(\"number of frames:\", num_of_frames)\n",
    "print(\"number of actions:\", len(actions))\n",
    "print(\"action frequencies:\")\n",
    "print(action_frequencies)"
   ]
  },
  {
   "cell_type": "markdown",
   "id": "72230a91",
   "metadata": {},
   "source": [
    "### match 48"
   ]
  },
  {
   "cell_type": "code",
   "execution_count": 34,
   "id": "94e3370a",
   "metadata": {},
   "outputs": [],
   "source": [
    "match = 48"
   ]
  },
  {
   "cell_type": "code",
   "execution_count": 35,
   "id": "1fa8272d",
   "metadata": {},
   "outputs": [
    {
     "name": "stdout",
     "output_type": "stream",
     "text": [
      "Successfully loaded NPZ.\n"
     ]
    }
   ],
   "source": [
    "num_of_frames, frames, actions, rewards, lifes = load_npz(data_path, match)\n",
    "(unique, counts) = np.unique(actions, return_counts=True)\n",
    "action_frequencies = np.asarray((unique, counts))"
   ]
  },
  {
   "cell_type": "code",
   "execution_count": 36,
   "id": "49fa6c9b",
   "metadata": {},
   "outputs": [
    {
     "name": "stdout",
     "output_type": "stream",
     "text": [
      "match 48\n",
      "number of frames: 4500\n",
      "number of actions: 4500\n",
      "action frequencies:\n",
      "[[   0    1    2    3    4    5    6    7    8]\n",
      " [2164  930  677  527   31   23   31   66   51]]\n"
     ]
    }
   ],
   "source": [
    "print(\"match\", match)\n",
    "print(\"number of frames:\", num_of_frames)\n",
    "print(\"number of actions:\", len(actions))\n",
    "print(\"action frequencies:\")\n",
    "print(action_frequencies)"
   ]
  },
  {
   "cell_type": "markdown",
   "id": "e7b75e12",
   "metadata": {},
   "source": [
    "### match 50"
   ]
  },
  {
   "cell_type": "code",
   "execution_count": 39,
   "id": "9a8d1f49",
   "metadata": {},
   "outputs": [],
   "source": [
    "match = 50"
   ]
  },
  {
   "cell_type": "code",
   "execution_count": 40,
   "id": "3ff9b53a",
   "metadata": {},
   "outputs": [
    {
     "name": "stdout",
     "output_type": "stream",
     "text": [
      "Successfully loaded NPZ.\n"
     ]
    }
   ],
   "source": [
    "num_of_frames, frames, actions, rewards, lifes = load_npz(data_path, match)\n",
    "(unique, counts) = np.unique(actions, return_counts=True)\n",
    "action_frequencies = np.asarray((unique, counts))"
   ]
  },
  {
   "cell_type": "code",
   "execution_count": 41,
   "id": "e7523d11",
   "metadata": {},
   "outputs": [
    {
     "name": "stdout",
     "output_type": "stream",
     "text": [
      "match 50\n",
      "number of frames: 4500\n",
      "number of actions: 4500\n",
      "action frequencies:\n",
      "[[   0    1    2    3    4    5    6    7    8]\n",
      " [2413  714  472  647   81   24   20   48   81]]\n"
     ]
    }
   ],
   "source": [
    "print(\"match\", match)\n",
    "print(\"number of frames:\", num_of_frames)\n",
    "print(\"number of actions:\", len(actions))\n",
    "print(\"action frequencies:\")\n",
    "print(action_frequencies)"
   ]
  }
 ],
 "metadata": {
  "kernelspec": {
   "display_name": "Python 3",
   "language": "python",
   "name": "python3"
  },
  "language_info": {
   "codemirror_mode": {
    "name": "ipython",
    "version": 3
   },
   "file_extension": ".py",
   "mimetype": "text/x-python",
   "name": "python",
   "nbconvert_exporter": "python",
   "pygments_lexer": "ipython3",
   "version": "3.7.10"
  }
 },
 "nbformat": 4,
 "nbformat_minor": 5
}
