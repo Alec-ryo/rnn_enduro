{
 "cells": [
  {
   "cell_type": "markdown",
   "id": "e1574c53",
   "metadata": {},
   "source": [
    "# Analysing nothing and random game commands"
   ]
  },
  {
   "cell_type": "code",
   "execution_count": 1,
   "id": "818b1c4c",
   "metadata": {},
   "outputs": [],
   "source": [
    "import numpy as np"
   ]
  },
  {
   "cell_type": "code",
   "execution_count": 2,
   "id": "0c0c8c51",
   "metadata": {},
   "outputs": [],
   "source": [
    "def load_npz(data_path, m):\n",
    "    \n",
    "    path = data_path + \"match_\" + str(m) + \"/npz/\"\n",
    "\n",
    "    actions = np.load(path + 'actions.npz')\n",
    "    lifes = np.load(path + 'lifes.npz')\n",
    "    frames = np.load(path + 'frames.npz')\n",
    "    rewards = np.load(path + 'rewards.npz')\n",
    "\n",
    "    arr_actions = actions.f.arr_0\n",
    "    arr_lifes = lifes.f.arr_0\n",
    "    arr_frames = frames.f.arr_0\n",
    "    arr_rewards = rewards.f.arr_0\n",
    "\n",
    "    print(\"Successfully loaded NPZ.\")\n",
    "\n",
    "    return arr_actions.shape[0], arr_frames, arr_actions, arr_rewards, arr_lifes"
   ]
  },
  {
   "cell_type": "code",
   "execution_count": 3,
   "id": "0b87b7fd",
   "metadata": {},
   "outputs": [],
   "source": [
    "data_path = r\"data/\""
   ]
  },
  {
   "cell_type": "code",
   "execution_count": 43,
   "id": "9dcf8e06",
   "metadata": {},
   "outputs": [],
   "source": [
    "def match_info(data_path, match):\n",
    "    num_of_frames, frames, actions, rewards, lifes = load_npz(data_path, match)\n",
    "    (unique, counts) = np.unique(actions, return_counts=True)\n",
    "    action_frequencies = np.asarray((unique, counts))\n",
    "    \n",
    "    print(\"match\", match)\n",
    "    print(\"number of frames:\", num_of_frames)\n",
    "    print(\"number of actions:\", len(actions))\n",
    "    print(\"action frequencies:\")\n",
    "    print(action_frequencies)\n",
    "    \n",
    "    return frames, actions"
   ]
  },
  {
   "cell_type": "code",
   "execution_count": 49,
   "id": "f93dbd33",
   "metadata": {},
   "outputs": [],
   "source": [
    "def get_acc(actions, predicted):\n",
    "    return (actions == predicted).sum()/len(actions)"
   ]
  },
  {
   "cell_type": "markdown",
   "id": "a1c19aad",
   "metadata": {},
   "source": [
    "## Created game"
   ]
  },
  {
   "cell_type": "markdown",
   "id": "88b9a049",
   "metadata": {},
   "source": [
    "### Game doing nothing"
   ]
  },
  {
   "cell_type": "markdown",
   "id": "0c38556d",
   "metadata": {},
   "source": [
    "1000\n",
    "#### Position\n",
    "200/200\n",
    "#### Km\n",
    "35"
   ]
  },
  {
   "cell_type": "markdown",
   "id": "474314a6",
   "metadata": {},
   "source": [
    "### Game random"
   ]
  },
  {
   "cell_type": "markdown",
   "id": "52fa490b",
   "metadata": {},
   "source": [
    "#### Position\n",
    "200/200\n",
    "#### Km\n",
    "40"
   ]
  },
  {
   "cell_type": "markdown",
   "id": "7a925c12",
   "metadata": {},
   "source": [
    "## Match accuracies"
   ]
  },
  {
   "cell_type": "code",
   "execution_count": 88,
   "id": "12175125",
   "metadata": {},
   "outputs": [
    {
     "name": "stdout",
     "output_type": "stream",
     "text": [
      "Successfully loaded NPZ.\n",
      "match 1\n",
      "number of frames: 4500\n",
      "number of actions: 4500\n",
      "action frequencies:\n",
      "[[   0    1    2    3    4    5    6    7    8]\n",
      " [1923 1021  450  642   40   56   60  125  183]]\n",
      "nothing: 0.489\n",
      "random: 0.108\n"
     ]
    }
   ],
   "source": [
    "match = 1\n",
    "\n",
    "frames, actions = match_info(data_path, match)\n",
    "actions = actions[0:1000]\n",
    "\n",
    "predicted = np.zeros(1000,)\n",
    "print(\"nothing:\", get_acc(actions, predicted))\n",
    "\n",
    "predicted = np.random.randint(9, size=1000)\n",
    "print(\"random:\", get_acc(actions, predicted))"
   ]
  },
  {
   "cell_type": "code",
   "execution_count": 85,
   "id": "e0f5fc09",
   "metadata": {},
   "outputs": [
    {
     "data": {
      "text/plain": [
       "(1000,)"
      ]
     },
     "execution_count": 85,
     "metadata": {},
     "output_type": "execute_result"
    }
   ],
   "source": [
    "actions.shape"
   ]
  },
  {
   "cell_type": "code",
   "execution_count": 87,
   "id": "17d3f55e",
   "metadata": {},
   "outputs": [
    {
     "data": {
      "text/plain": [
       "(4500,)"
      ]
     },
     "execution_count": 87,
     "metadata": {},
     "output_type": "execute_result"
    }
   ],
   "source": [
    "predicted.shape"
   ]
  },
  {
   "cell_type": "markdown",
   "id": "0c1f3eca",
   "metadata": {},
   "source": [
    "First 1000\n",
    "#### Position\n",
    "135\n",
    "#### Km\n",
    "354"
   ]
  },
  {
   "cell_type": "code",
   "execution_count": 60,
   "id": "f9af0663",
   "metadata": {},
   "outputs": [
    {
     "name": "stdout",
     "output_type": "stream",
     "text": [
      "Successfully loaded NPZ.\n",
      "match 2\n",
      "number of frames: 4500\n",
      "number of actions: 4500\n",
      "action frequencies:\n",
      "[[   0    1    2    3    4    5    6    7    8]\n",
      " [2339  669  686  498   37   34   25   97  115]]\n",
      "nothing: 0.5197777777777778\n",
      "random: 0.10622222222222222\n"
     ]
    }
   ],
   "source": [
    "match = 2\n",
    "\n",
    "frames, actions = match_info(data_path, match)\n",
    "\n",
    "predicted = np.zeros(4500,)\n",
    "print(\"nothing:\", get_acc(actions, predicted))\n",
    "\n",
    "predicted = np.random.randint(9, size=4500)\n",
    "print(\"random:\", get_acc(actions, predicted))"
   ]
  },
  {
   "cell_type": "code",
   "execution_count": 61,
   "id": "1c6e07e4",
   "metadata": {},
   "outputs": [
    {
     "name": "stdout",
     "output_type": "stream",
     "text": [
      "Successfully loaded NPZ.\n",
      "match 3\n",
      "number of frames: 4500\n",
      "number of actions: 4500\n",
      "action frequencies:\n",
      "[[   0    1    2    3    4    5    6    7    8]\n",
      " [2654  375  580  743   24   13   21   22   68]]\n",
      "nothing: 0.5897777777777777\n",
      "random: 0.09644444444444444\n"
     ]
    }
   ],
   "source": [
    "match = 3\n",
    "\n",
    "frames, actions = match_info(data_path, match)\n",
    "\n",
    "predicted = np.zeros(4500,)\n",
    "print(\"nothing:\", get_acc(actions, predicted))\n",
    "\n",
    "predicted = np.random.randint(9, size=4500)\n",
    "print(\"random:\", get_acc(actions, predicted))"
   ]
  },
  {
   "cell_type": "code",
   "execution_count": 62,
   "id": "92112162",
   "metadata": {},
   "outputs": [
    {
     "name": "stdout",
     "output_type": "stream",
     "text": [
      "Successfully loaded NPZ.\n",
      "match 4\n",
      "number of frames: 4500\n",
      "number of actions: 4500\n",
      "action frequencies:\n",
      "[[   0    1    2    3    4    5    6    7    8]\n",
      " [2164  930  677  527   31   23   31   66   51]]\n",
      "nothing: 0.48088888888888887\n",
      "random: 0.11533333333333333\n"
     ]
    }
   ],
   "source": [
    "match = 4\n",
    "\n",
    "frames, actions = match_info(data_path, match)\n",
    "\n",
    "predicted = np.zeros(4500,)\n",
    "print(\"nothing:\", get_acc(actions, predicted))\n",
    "\n",
    "predicted = np.random.randint(9, size=4500)\n",
    "print(\"random:\", get_acc(actions, predicted))"
   ]
  },
  {
   "cell_type": "code",
   "execution_count": 63,
   "id": "45a0f0f8",
   "metadata": {},
   "outputs": [
    {
     "name": "stdout",
     "output_type": "stream",
     "text": [
      "Successfully loaded NPZ.\n",
      "match 5\n",
      "number of frames: 4500\n",
      "number of actions: 4500\n",
      "action frequencies:\n",
      "[[   0    1    2    3    4    5    6    7    8]\n",
      " [2413  714  472  647   81   24   20   48   81]]\n",
      "nothing: 0.5362222222222223\n",
      "random: 0.11888888888888889\n"
     ]
    }
   ],
   "source": [
    "match = 5\n",
    "\n",
    "frames, actions = match_info(data_path, match)\n",
    "\n",
    "predicted = np.zeros(4500,)\n",
    "print(\"nothing:\", get_acc(actions, predicted))\n",
    "\n",
    "predicted = np.random.randint(9, size=4500)\n",
    "print(\"random:\", get_acc(actions, predicted))"
   ]
  },
  {
   "cell_type": "code",
   "execution_count": 64,
   "id": "46c667c9",
   "metadata": {},
   "outputs": [
    {
     "name": "stdout",
     "output_type": "stream",
     "text": [
      "Successfully loaded NPZ.\n",
      "match 6\n",
      "number of frames: 4500\n",
      "number of actions: 4500\n",
      "action frequencies:\n",
      "[[   0    1    2    3    4    5    6    7    8]\n",
      " [1641 1309  643  416   32   66   60  149  184]]\n",
      "nothing: 0.36466666666666664\n",
      "random: 0.11022222222222222\n"
     ]
    }
   ],
   "source": [
    "match = 6\n",
    "\n",
    "frames, actions = match_info(data_path, match)\n",
    "\n",
    "predicted = np.zeros(4500,)\n",
    "print(\"nothing:\", get_acc(actions, predicted))\n",
    "\n",
    "predicted = np.random.randint(9, size=4500)\n",
    "print(\"random:\", get_acc(actions, predicted))"
   ]
  },
  {
   "cell_type": "code",
   "execution_count": 70,
   "id": "858d6d5d",
   "metadata": {},
   "outputs": [
    {
     "name": "stdout",
     "output_type": "stream",
     "text": [
      "Successfully loaded NPZ.\n",
      "match 7\n",
      "number of frames: 4500\n",
      "number of actions: 4500\n",
      "action frequencies:\n",
      "[[   0    1    2    3    4    5    6    7    8]\n",
      " [2341  590  645  652   33   19   43   76  101]]\n",
      "nothing: 0.5202222222222223\n",
      "random: 0.10733333333333334\n"
     ]
    }
   ],
   "source": [
    "match = 7\n",
    "\n",
    "frames, actions = match_info(data_path, match)\n",
    "\n",
    "predicted = np.zeros(4500,)\n",
    "print(\"nothing:\", get_acc(actions, predicted))\n",
    "\n",
    "predicted = np.random.randint(9, size=4500)\n",
    "print(\"random:\", get_acc(actions, predicted))"
   ]
  },
  {
   "cell_type": "code",
   "execution_count": 72,
   "id": "6441c7ee",
   "metadata": {},
   "outputs": [
    {
     "name": "stdout",
     "output_type": "stream",
     "text": [
      "Successfully loaded NPZ.\n",
      "match 8\n",
      "number of frames: 4500\n",
      "number of actions: 4500\n",
      "action frequencies:\n",
      "[[   0    1    2    3    4    5    6    7    8]\n",
      " [2674  398  953  401   28    3    4   30    9]]\n",
      "nothing: 0.5942222222222222\n",
      "random: 0.11355555555555556\n"
     ]
    }
   ],
   "source": [
    "match = 8\n",
    "\n",
    "frames, actions = match_info(data_path, match)\n",
    "\n",
    "predicted = np.zeros(4500,)\n",
    "print(\"nothing:\", get_acc(actions, predicted))\n",
    "\n",
    "predicted = np.random.randint(9, size=4500)\n",
    "print(\"random:\", get_acc(actions, predicted))"
   ]
  },
  {
   "cell_type": "code",
   "execution_count": 75,
   "id": "9a975bf6",
   "metadata": {},
   "outputs": [
    {
     "name": "stdout",
     "output_type": "stream",
     "text": [
      "Successfully loaded NPZ.\n",
      "match 9\n",
      "number of frames: 4500\n",
      "number of actions: 4500\n",
      "action frequencies:\n",
      "[[   0    1    2    3    4    5    6    7    8]\n",
      " [2752  469  619  524   38   16   10   36   36]]\n",
      "nothing: 0.6115555555555555\n",
      "random: 0.108\n"
     ]
    }
   ],
   "source": [
    "match = 9\n",
    "\n",
    "frames, actions = match_info(data_path, match)\n",
    "\n",
    "predicted = np.zeros(4500,)\n",
    "print(\"nothing:\", get_acc(actions, predicted))\n",
    "\n",
    "predicted = np.random.randint(9, size=4500)\n",
    "print(\"random:\", get_acc(actions, predicted))"
   ]
  },
  {
   "cell_type": "code",
   "execution_count": 77,
   "id": "2292707e",
   "metadata": {
    "scrolled": true
   },
   "outputs": [
    {
     "name": "stdout",
     "output_type": "stream",
     "text": [
      "Successfully loaded NPZ.\n",
      "match 10\n",
      "number of frames: 4500\n",
      "number of actions: 4500\n",
      "action frequencies:\n",
      "[[   0    1    2    3    4    5    6    7    8]\n",
      " [2712  465  678  464   27   30   13   88   23]]\n",
      "nothing: 0.6026666666666667\n",
      "random: 0.104\n"
     ]
    }
   ],
   "source": [
    "match = 10\n",
    "\n",
    "frames, actions = match_info(data_path, match)\n",
    "\n",
    "predicted = np.zeros(4500,)\n",
    "print(\"nothing:\", get_acc(actions, predicted))\n",
    "\n",
    "predicted = np.random.randint(9, size=4500)\n",
    "print(\"random:\", get_acc(actions, predicted))"
   ]
  }
 ],
 "metadata": {
  "kernelspec": {
   "display_name": "Python 3",
   "language": "python",
   "name": "python3"
  },
  "language_info": {
   "codemirror_mode": {
    "name": "ipython",
    "version": 3
   },
   "file_extension": ".py",
   "mimetype": "text/x-python",
   "name": "python",
   "nbconvert_exporter": "python",
   "pygments_lexer": "ipython3",
   "version": "3.8.5"
  }
 },
 "nbformat": 4,
 "nbformat_minor": 5
}
