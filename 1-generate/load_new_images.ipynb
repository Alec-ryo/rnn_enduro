{
 "cells": [
  {
   "cell_type": "code",
   "execution_count": 1,
   "id": "a85c32b8",
   "metadata": {},
   "outputs": [],
   "source": [
    "import numpy as np\n",
    "from PIL import Image"
   ]
  },
  {
   "cell_type": "code",
   "execution_count": 2,
   "id": "3a6456cf",
   "metadata": {},
   "outputs": [],
   "source": [
    "data_path = \"data/match_11/\"\n",
    "img_path = \"data/match_11/img/\"\n",
    "npz_path = \"data/match_11/npz/\""
   ]
  },
  {
   "cell_type": "code",
   "execution_count": 3,
   "id": "398cb786",
   "metadata": {
    "scrolled": false
   },
   "outputs": [],
   "source": [
    "jogo = []\n",
    "for n in range(4500):\n",
    "    frame = np.load(data_path + f'frames_{n}.npz')\n",
    "    frame = frame.f.arr_0\n",
    "    \n",
    "    frame = frame.reshape(170,120)\n",
    "    \n",
    "    jogo.append(frame)\n",
    "    \n",
    "    im = Image.fromarray(frame)\n",
    "    im.save(img_path + f\"{n}.png\")\n",
    "\n",
    "np.savez_compressed(npz_path + \"frames.npz\", np.array(jogo))"
   ]
  },
  {
   "cell_type": "code",
   "execution_count": 4,
   "id": "38fe4253",
   "metadata": {},
   "outputs": [
    {
     "data": {
      "text/plain": [
       "4500"
      ]
     },
     "execution_count": 4,
     "metadata": {},
     "output_type": "execute_result"
    }
   ],
   "source": [
    "len(jogo)"
   ]
  },
  {
   "cell_type": "code",
   "execution_count": 5,
   "id": "0f25988b",
   "metadata": {},
   "outputs": [],
   "source": [
    "actions = []\n",
    "with open(data_path + 'actions.txt') as arq:\n",
    "    n = 0\n",
    "    for linha in arq:\n",
    "        actions.append(int(linha))\n",
    "        \n",
    "        n+=1\n",
    "        if (n == 31141):\n",
    "            break\n",
    "\n",
    "np.savez_compressed(npz_path + \"actions.npz\", np.array(actions))"
   ]
  },
  {
   "cell_type": "code",
   "execution_count": 6,
   "id": "c4473749",
   "metadata": {},
   "outputs": [
    {
     "data": {
      "text/plain": [
       "4500"
      ]
     },
     "execution_count": 6,
     "metadata": {},
     "output_type": "execute_result"
    }
   ],
   "source": [
    "len(actions)"
   ]
  },
  {
   "cell_type": "code",
   "execution_count": 7,
   "id": "5f22deba",
   "metadata": {},
   "outputs": [],
   "source": [
    "reward = []\n",
    "with open(data_path + 'reward.txt') as arq:\n",
    "    n = 0\n",
    "    for linha in arq:\n",
    "        reward.append(float(linha))\n",
    "        \n",
    "        n+=1\n",
    "        if (n == 31141):\n",
    "            break\n",
    "\n",
    "np.savez_compressed(npz_path + \"rewards.npz\", np.array(reward))"
   ]
  },
  {
   "cell_type": "code",
   "execution_count": 8,
   "id": "cb14a8a3",
   "metadata": {},
   "outputs": [
    {
     "data": {
      "text/plain": [
       "4500"
      ]
     },
     "execution_count": 8,
     "metadata": {},
     "output_type": "execute_result"
    }
   ],
   "source": [
    "len(reward)"
   ]
  }
 ],
 "metadata": {
  "kernelspec": {
   "display_name": "Python 3",
   "language": "python",
   "name": "python3"
  },
  "language_info": {
   "codemirror_mode": {
    "name": "ipython",
    "version": 3
   },
   "file_extension": ".py",
   "mimetype": "text/x-python",
   "name": "python",
   "nbconvert_exporter": "python",
   "pygments_lexer": "ipython3",
   "version": "3.7.10"
  }
 },
 "nbformat": 4,
 "nbformat_minor": 5
}
