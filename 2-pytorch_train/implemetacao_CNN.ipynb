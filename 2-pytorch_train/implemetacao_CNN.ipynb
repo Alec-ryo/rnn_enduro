{
 "cells": [
  {
   "cell_type": "code",
   "execution_count": 1,
   "id": "c7e06a38",
   "metadata": {},
   "outputs": [],
   "source": [
    "import numpy as np\n",
    "import torch\n",
    "import torch.nn as nn\n",
    "import csv\n",
    "import os\n",
    "import cv2\n",
    "from PIL import Image\n",
    "import matplotlib.pyplot as plt\n",
    "import time"
   ]
  },
  {
   "cell_type": "code",
   "execution_count": 2,
   "id": "41f30691",
   "metadata": {},
   "outputs": [],
   "source": [
    "from setup_dataset import *\n",
    "from setup_model import *\n",
    "from setup_model_types import *"
   ]
  },
  {
   "cell_type": "code",
   "execution_count": 3,
   "id": "b5b13611",
   "metadata": {},
   "outputs": [
    {
     "name": "stdout",
     "output_type": "stream",
     "text": [
      "Populating the interactive namespace from numpy and matplotlib\n"
     ]
    }
   ],
   "source": [
    "%load_ext autoreload\n",
    "%autoreload 2\n",
    "%matplotlib inline\n",
    "%pylab inline"
   ]
  },
  {
   "cell_type": "code",
   "execution_count": 4,
   "id": "6b19bacc",
   "metadata": {},
   "outputs": [
    {
     "name": "stdout",
     "output_type": "stream",
     "text": [
      "Successfully loaded NPZ.\n",
      "Do you want to use GPU (y/n)n\n",
      "Selected CPU\n"
     ]
    },
    {
     "name": "stderr",
     "output_type": "stream",
     "text": [
      "C:\\Users\\alece\\Desktop\\UnB\\tcc\\rnn_enduro\\2-pytorch_train\\setup_dataset.py:139: VisibleDeprecationWarning: Creating an ndarray from ragged nested sequences (which is a list-or-tuple of lists-or-tuples-or ndarrays with different lengths or shapes) is deprecated. If you meant to do this, you must specify 'dtype=object' when creating the ndarray\n",
      "  X_train = np.array(X_train)\n",
      "C:\\Users\\alece\\Desktop\\UnB\\tcc\\rnn_enduro\\2-pytorch_train\\setup_dataset.py:140: VisibleDeprecationWarning: Creating an ndarray from ragged nested sequences (which is a list-or-tuple of lists-or-tuples-or ndarrays with different lengths or shapes) is deprecated. If you meant to do this, you must specify 'dtype=object' when creating the ndarray\n",
      "  Y_train = np.array(Y_train)\n"
     ]
    }
   ],
   "source": [
    "data = chunk_dataset(match_list=[1],\n",
    "                     start_frame = 1,\n",
    "                     end_frame = 1030\n",
    "                    )"
   ]
  },
  {
   "cell_type": "code",
   "execution_count": 5,
   "id": "15939320",
   "metadata": {},
   "outputs": [
    {
     "data": {
      "text/plain": [
       "'data.padSequence()\\noriginal_shape = data.data.shape\\ndata.data = data.data.reshape(-1, 1, 100, 100)'"
      ]
     },
     "execution_count": 5,
     "metadata": {},
     "output_type": "execute_result"
    }
   ],
   "source": [
    "\"\"\"data.padSequence()\n",
    "original_shape = data.data.shape\n",
    "data.data = data.data.reshape(-1, 1, 100, 100)\"\"\""
   ]
  },
  {
   "cell_type": "code",
   "execution_count": 6,
   "id": "1f57df4b",
   "metadata": {},
   "outputs": [
    {
     "data": {
      "text/plain": [
       "'data.data.shape, data.targets.shape, data.seq_len.shape'"
      ]
     },
     "execution_count": 6,
     "metadata": {},
     "output_type": "execute_result"
    }
   ],
   "source": [
    "\"\"\"data.data.shape, data.targets.shape, data.seq_len.shape\"\"\""
   ]
  },
  {
   "cell_type": "code",
   "execution_count": 7,
   "id": "3726ec9f",
   "metadata": {},
   "outputs": [],
   "source": [
    "data.targets = pad_sequence(data.targets, batch_first=True).float()"
   ]
  },
  {
   "cell_type": "code",
   "execution_count": 8,
   "id": "496c6d15",
   "metadata": {},
   "outputs": [],
   "source": [
    "device = data.device\n",
    "input_size = 100\n",
    "output_size = len(data.available_targets)\n",
    "match_list = data.match_list\n",
    "start_frame = data.start_frame\n",
    "end_frame = data.end_frame"
   ]
  },
  {
   "cell_type": "code",
   "execution_count": 9,
   "id": "8dc99ef5",
   "metadata": {},
   "outputs": [],
   "source": [
    "class CNNLSTMModel1(nn.Module):\n",
    "    def __init__(self, device, original_shape, output_size, hidden_dim, n_layers):\n",
    "        super(CNNLSTMModel1, self).__init__()\n",
    "        \n",
    "        self.device = device\n",
    "        self.hidden_dim = hidden_dim\n",
    "        self.n_layers = n_layers\n",
    "\n",
    "        self.conv1 = nn.Conv2d(in_channels=1, out_channels=16, kernel_size=(5,5))\n",
    "        self.activation = nn.ReLU()\n",
    "        self.bnorm = nn.BatchNorm2d(num_features=16)\n",
    "        self.pool = nn.MaxPool2d(kernel_size=(2,2))\n",
    "\n",
    "        # output = (input - filter + 1) / stride\n",
    "        # convolução 1: (100 - 5 + 1) / 1 = 96x96\n",
    "        # pooling 1: 48x48\n",
    "        self.input_lstm = 48*48*16\n",
    "        self.init_hidden(self.input_lstm)\n",
    "        self.lstm = nn.LSTM(self.input_lstm, hidden_dim, n_layers, batch_first=True)  \n",
    "        self.fc = nn.Linear(hidden_dim, output_size)\n",
    "        self.out = nn.Softmax()\n",
    "    \n",
    "    def forward(self, x):\n",
    "        \n",
    "        hidden = self.init_hidden(self.input_lstm)\n",
    "\n",
    "        x = self.pool(self.bnorm(self.activation(self.conv1(x))))\n",
    "\n",
    "        x = x.reshape(original_shape[0], original_shape[1], -1)\n",
    "        \n",
    "        x = pack_padded_sequence(x, data.seq_len, batch_first=True, enforce_sorted=False)\n",
    "        \n",
    "        pad_embed_pack_lstm = self.lstm(x, hidden)\n",
    "        pad_embed_pack_lstm_pad = pad_packed_sequence(pad_embed_pack_lstm[0], batch_first=True)\n",
    "        \n",
    "        outs, _ = pad_embed_pack_lstm_pad\n",
    "        \n",
    "        out = outs.contiguous().view(-1, self.hidden_dim)\n",
    "        out = self.fc(out)\n",
    "        out = self.out(out)\n",
    "        \n",
    "        return out\n",
    "        \n",
    "    def init_hidden(self, input_size):\n",
    "        # the weights are of the form (nb_layers, batch_size, nb_lstm_units)\n",
    "        hidden_a = torch.randn(1, input_size, self.hidden_dim)\n",
    "        hidden_b = torch.randn(1, input_size, self.hidden_dim)\n",
    "\n",
    "        if self.device.type == 'cuda':\n",
    "            hidden_a = hidden_a.cuda()\n",
    "            hidden_b = hidden_b.cuda()\n",
    "\n",
    "        hidden_a = Variable(hidden_a)\n",
    "        hidden_b = Variable(hidden_b)\n",
    "\n",
    "        return (hidden_a, hidden_b)"
   ]
  },
  {
   "cell_type": "code",
   "execution_count": 10,
   "id": "8768a8b1",
   "metadata": {},
   "outputs": [
    {
     "name": "stdout",
     "output_type": "stream",
     "text": [
      "Number of hidden neurons: 200\n",
      "Number of epochs: 5000\n",
      "Choose type of RNN model:\n",
      "1 - Simple RNN\n",
      "2 - LSTM\n",
      "3 - CNN\n",
      "type: 3\n",
      "write a observations without space and punctuations:teste\n",
      "models/CNN_teste_m1_f1to1030_epoch5000_H200\n",
      "ATTENTION! folder not created. Training informations will overwrite the existing one\n"
     ]
    }
   ],
   "source": [
    "model_structure = ModelStructure(device, input_size, output_size, match_list, start_frame, end_frame)"
   ]
  },
  {
   "cell_type": "code",
   "execution_count": 11,
   "id": "ae6caed1",
   "metadata": {},
   "outputs": [],
   "source": [
    "model = CNNLSTMModel(device=model_structure.device,\n",
    "                      input_shape=input_size,\n",
    "                      output_size=model_structure.output_size, \n",
    "                      hidden_dim=model_structure.hidden_neurons, \n",
    "                      n_layers=1)"
   ]
  },
  {
   "cell_type": "code",
   "execution_count": 12,
   "id": "30101472",
   "metadata": {},
   "outputs": [],
   "source": [
    "criterion = nn.MSELoss()\n",
    "optimizer = torch.optim.Adam(model.parameters())"
   ]
  },
  {
   "cell_type": "code",
   "execution_count": 13,
   "id": "2d322f67",
   "metadata": {},
   "outputs": [],
   "source": [
    "if device.type == 'cuda':\n",
    "    mymodel = model.cuda()\n",
    "    X_train = data.data.cuda() \n",
    "    Y_train = data.targets.cuda()\n",
    "else:\n",
    "    mymodel = model\n",
    "    X_train = data.data \n",
    "    Y_train = data.targets"
   ]
  },
  {
   "cell_type": "code",
   "execution_count": 14,
   "id": "9ecb5d51",
   "metadata": {},
   "outputs": [
    {
     "data": {
      "text/plain": [
       "'cpu'"
      ]
     },
     "execution_count": 14,
     "metadata": {},
     "output_type": "execute_result"
    }
   ],
   "source": [
    "device.type"
   ]
  },
  {
   "cell_type": "code",
   "execution_count": 15,
   "id": "521e9853",
   "metadata": {},
   "outputs": [],
   "source": [
    "def get_acc(predicted, target):\n",
    "    \n",
    "    predicted = torch.argmax(predicted, axis=1)\n",
    "    target = torch.argmax(target, axis=1)\n",
    "\n",
    "    acc = np.mean(predicted == target)\n",
    "    \n",
    "    return float(acc)"
   ]
  },
  {
   "cell_type": "code",
   "execution_count": 16,
   "id": "12a20f10",
   "metadata": {},
   "outputs": [],
   "source": [
    "train_loss_arr = np.array([])\n",
    "train_acc_arr = np.array([])"
   ]
  },
  {
   "cell_type": "code",
   "execution_count": null,
   "id": "fec1bea7",
   "metadata": {
    "scrolled": true
   },
   "outputs": [
    {
     "name": "stderr",
     "output_type": "stream",
     "text": [
      "C:\\Users\\alece\\Desktop\\UnB\\tcc\\rnn_enduro\\2-pytorch_train\\setup_model_types.py:139: UserWarning: Implicit dimension choice for softmax has been deprecated. Change the call to include dim=X as an argument.\n",
      "  out = self.out(out)\n"
     ]
    },
    {
     "name": "stdout",
     "output_type": "stream",
     "text": [
      "Epoch: 10/5000-------------------------------------------\n",
      "Train -> Loss: 0.024288214743137 Acc: 0.898924708366394\n"
     ]
    }
   ],
   "source": [
    "start_time_processing = time.time()\n",
    "\n",
    "loss_file = open(model_structure.path + '/' + \"loss_file.txt\", \"w\")\n",
    "first_time = True\n",
    "\n",
    "best_loss = 1\n",
    "first_epoch = True\n",
    "\n",
    "for epoch in range(1, model_structure.n_epochs + 1):\n",
    "\n",
    "    mymodel.train()\n",
    "\n",
    "    optimizer.zero_grad()\n",
    "    output = mymodel(X_train, data.seq_len)\n",
    "    loss = criterion(output, Y_train.view(-1,data.target_size[2]).float())\n",
    "    loss.backward()\n",
    "    optimizer.step()\n",
    "        \n",
    "    if epoch%10 == 0:\n",
    "\n",
    "        train_loss_arr = np.append(train_loss_arr, loss.item())\n",
    "        train_acc_arr  = np.append(train_acc_arr, model_structure.get_acc(output, Y_train.reshape(-1, len(data.available_targets))))\n",
    "        \n",
    "        loss_file.write(\"Epoch: {}/{}-------------------------------------------\\n\".format(epoch, model_structure.n_epochs))\n",
    "        loss_file.write(\"Train -> Loss: {:.15f} Acc: {:.15f}\\n\".format(train_loss_arr[-1], train_acc_arr[-1]))\n",
    "            \n",
    "        print(\"Epoch: {}/{}-------------------------------------------\".format(epoch, model_structure.n_epochs))\n",
    "        print(\"Train -> Loss: {:.15f} Acc: {:.15f}\".format(train_loss_arr[-1], train_acc_arr[-1]))\n",
    "        \n",
    "        if train_loss_arr[-1] < best_loss:\n",
    "            state = { 'epoch': epoch + 1, 'state_dict': mymodel.state_dict(),\n",
    "                      'optimizer': optimizer.state_dict(), 'losslogger': loss.item(), }\n",
    "            torch.save(state, model_structure.path + '/' + model_structure.name)\n",
    "            best_loss = loss.item()\n",
    "        else:\n",
    "            print(\"model not saved\")\n",
    "            \n",
    "loss_file.write(\"--- %s seconds ---\" % (time.time() - start_time_processing))\n",
    "loss_file.close()\n",
    "np.savez(model_structure.path + '/' + \"train_loss_arr\", train_loss_arr)\n",
    "print(\"--- %s seconds ---\" % (time.time() - start_time_processing))"
   ]
  }
 ],
 "metadata": {
  "kernelspec": {
   "display_name": "Python [conda env:torch] *",
   "language": "python",
   "name": "conda-env-torch-py"
  },
  "language_info": {
   "codemirror_mode": {
    "name": "ipython",
    "version": 3
   },
   "file_extension": ".py",
   "mimetype": "text/x-python",
   "name": "python",
   "nbconvert_exporter": "python",
   "pygments_lexer": "ipython3",
   "version": "3.7.10"
  }
 },
 "nbformat": 4,
 "nbformat_minor": 5
}
