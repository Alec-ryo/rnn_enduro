{
 "cells": [
  {
   "cell_type": "code",
   "execution_count": 1,
   "id": "6f23226e",
   "metadata": {},
   "outputs": [],
   "source": [
    "import numpy as np\n",
    "import torch\n",
    "import torch.nn as nn\n",
    "import csv\n",
    "import os\n",
    "import cv2\n",
    "from PIL import Image\n",
    "import matplotlib.pyplot as plt\n",
    "import time"
   ]
  },
  {
   "cell_type": "code",
   "execution_count": 2,
   "id": "af4fabfb",
   "metadata": {},
   "outputs": [],
   "source": [
    "from setup_dataset import *"
   ]
  },
  {
   "cell_type": "code",
   "execution_count": 3,
   "id": "e28f3aee",
   "metadata": {},
   "outputs": [
    {
     "name": "stdout",
     "output_type": "stream",
     "text": [
      "Populating the interactive namespace from numpy and matplotlib\n"
     ]
    }
   ],
   "source": [
    "%load_ext autoreload\n",
    "%autoreload 2\n",
    "%matplotlib inline\n",
    "%pylab inline"
   ]
  },
  {
   "cell_type": "code",
   "execution_count": 4,
   "id": "f8925c70",
   "metadata": {},
   "outputs": [
    {
     "data": {
      "text/plain": [
       "'\\ndata = dataset(match_list=[1, 2, 3, 4, 5],\\n               start_frame = 1,\\n               end_frame = 1020\\n              )\\ndata.data\\n'"
      ]
     },
     "execution_count": 4,
     "metadata": {},
     "output_type": "execute_result"
    }
   ],
   "source": [
    "\"\"\"\n",
    "data = dataset(match_list=[1, 2, 3, 4, 5],\n",
    "               start_frame = 1,\n",
    "               end_frame = 1020\n",
    "              )\n",
    "data.data\n",
    "\"\"\""
   ]
  },
  {
   "cell_type": "code",
   "execution_count": 5,
   "id": "f69fc7f3",
   "metadata": {
    "scrolled": true
   },
   "outputs": [
    {
     "name": "stdout",
     "output_type": "stream",
     "text": [
      "Successfully loaded NPZ.\n",
      "Do you want to use GPU (y/n)n\n",
      "Selected CPU\n"
     ]
    },
    {
     "name": "stderr",
     "output_type": "stream",
     "text": [
      "C:\\Users\\alece\\Desktop\\UnB\\tcc\\rnn_enduro\\2-pytorch_train\\setup_dataset.py:133: VisibleDeprecationWarning: Creating an ndarray from ragged nested sequences (which is a list-or-tuple of lists-or-tuples-or ndarrays with different lengths or shapes) is deprecated. If you meant to do this, you must specify 'dtype=object' when creating the ndarray\n",
      "  X_train = np.array(X_train)\n",
      "C:\\Users\\alece\\Desktop\\UnB\\tcc\\rnn_enduro\\2-pytorch_train\\setup_dataset.py:134: VisibleDeprecationWarning: Creating an ndarray from ragged nested sequences (which is a list-or-tuple of lists-or-tuples-or ndarrays with different lengths or shapes) is deprecated. If you meant to do this, you must specify 'dtype=object' when creating the ndarray\n",
      "  Y_train = np.array(Y_train)\n"
     ]
    }
   ],
   "source": [
    "data = chunk_dataset(match_list=[1],\n",
    "                     start_frame = 1,\n",
    "                     end_frame = 1020\n",
    "                    )"
   ]
  },
  {
   "cell_type": "code",
   "execution_count": 6,
   "id": "1bf219b0",
   "metadata": {},
   "outputs": [
    {
     "data": {
      "text/plain": [
       "'data.data = data.data[-5:]\\ndata.targets = data.targets[-5:]\\ndata.seq_len = data.seq_len[-5:] '"
      ]
     },
     "execution_count": 6,
     "metadata": {},
     "output_type": "execute_result"
    }
   ],
   "source": [
    "\"\"\"data.data = data.data[-5:]\n",
    "data.targets = data.targets[-5:]\n",
    "data.seq_len = data.seq_len[-5:] \"\"\""
   ]
  },
  {
   "cell_type": "code",
   "execution_count": 7,
   "id": "2981a256",
   "metadata": {},
   "outputs": [],
   "source": [
    "data.padSequence()"
   ]
  },
  {
   "cell_type": "code",
   "execution_count": 8,
   "id": "8ac756e0",
   "metadata": {},
   "outputs": [
    {
     "data": {
      "text/plain": [
       "torch.Size([124, 30, 100, 100])"
      ]
     },
     "execution_count": 8,
     "metadata": {},
     "output_type": "execute_result"
    }
   ],
   "source": [
    "data.data.shape"
   ]
  },
  {
   "cell_type": "code",
   "execution_count": 9,
   "id": "7ef38bbb",
   "metadata": {},
   "outputs": [],
   "source": [
    "data.data = data.data.reshape(124, 30, 10000)"
   ]
  },
  {
   "cell_type": "code",
   "execution_count": 10,
   "id": "3c5a2604",
   "metadata": {},
   "outputs": [],
   "source": [
    "#data.data = data.data.view(124*30, 1, 100, 100)"
   ]
  },
  {
   "cell_type": "code",
   "execution_count": 11,
   "id": "e8006271",
   "metadata": {},
   "outputs": [],
   "source": [
    "device = data.device\n",
    "input_size = data.data.shape[2]\n",
    "output_size = len(data.available_targets)\n",
    "match_list = data.match_list\n",
    "start_frame = data.start_frame\n",
    "end_frame = data.end_frame"
   ]
  },
  {
   "cell_type": "code",
   "execution_count": 12,
   "id": "d0732857",
   "metadata": {},
   "outputs": [],
   "source": [
    "data.packPaddedSequence()"
   ]
  },
  {
   "cell_type": "code",
   "execution_count": 13,
   "id": "f939931b",
   "metadata": {},
   "outputs": [
    {
     "data": {
      "text/plain": [
       "tensor([29., 16., 10.,  7., 18., 26., 11., 20.,  5., 14.,  3.,  7., 19., 30.,\n",
       "        11.,  9.,  7., 10.,  7., 20.,  2., 11.,  4.,  3.,  4.,  5.,  7.,  3.,\n",
       "         3.,  8.,  4.,  2., 19.,  6., 14.,  3.,  5.,  4.,  4.,  3.,  9., 12.,\n",
       "         6., 24.,  3., 18.,  4., 18.,  4., 13.,  2.,  4.,  3., 12.,  3., 10.,\n",
       "        14.,  6., 12.,  6.,  5.,  3.,  4.,  7.,  3.,  6.,  3.,  3.,  8.,  1.,\n",
       "         3.,  9., 10.,  4., 17., 10., 13.,  8.,  4.,  7., 14.,  6.,  2.,  9.,\n",
       "         4.,  6.,  9.,  1., 15.,  3., 16.,  1.,  9.,  6.,  4., 14., 11., 16.,\n",
       "         4.,  3., 11.,  6.,  1.,  2.,  6.,  2., 19.,  2.,  5.,  8.,  4.,  3.,\n",
       "         6., 11., 19.,  3., 19.,  7.,  8.,  8.,  3.,  5.,  2.,  1.])"
      ]
     },
     "execution_count": 13,
     "metadata": {},
     "output_type": "execute_result"
    }
   ],
   "source": [
    "data.seq_len"
   ]
  },
  {
   "cell_type": "code",
   "execution_count": 14,
   "id": "280b93b6",
   "metadata": {},
   "outputs": [
    {
     "data": {
      "text/plain": [
       "torch.Size([1018, 10000])"
      ]
     },
     "execution_count": 14,
     "metadata": {},
     "output_type": "execute_result"
    }
   ],
   "source": [
    "data.data[0].shape"
   ]
  },
  {
   "cell_type": "code",
   "execution_count": 15,
   "id": "a704dc1b",
   "metadata": {},
   "outputs": [
    {
     "data": {
      "text/plain": [
       "tensor([124, 119, 111,  92,  77,  71,  60,  52,  46,  40,  35,  29,  26,  24,\n",
       "         19,  18,  15,  14,  11,   6,   4,   4,   4,   4,   3,   3,   2,   2,\n",
       "          2,   1])"
      ]
     },
     "execution_count": 15,
     "metadata": {},
     "output_type": "execute_result"
    }
   ],
   "source": [
    "data.data[1]"
   ]
  },
  {
   "cell_type": "code",
   "execution_count": 16,
   "id": "e89dd35d",
   "metadata": {},
   "outputs": [
    {
     "data": {
      "text/plain": [
       "tensor([ 13,   0,   5,  43,   7,  19, 106,  12, 114,  32, 116,   4,  47,  45,\n",
       "         74,   1,  97,  90,  88,   9,  56,  34,  80,  95,  49,  76,  58,  41,\n",
       "         53,  21,  14,   6, 100,  96, 113,  75,  72,  17,   2,  55,  83,  71,\n",
       "         86,  15,  92,  40, 109, 118,  29, 119,  77,  68,   3,  11,  16,  18,\n",
       "         79,  26, 117,  63,  93,  85, 104,  81,  65, 101, 112,  42,  59,  57,\n",
       "         33,   8,  25, 121, 108,  36,  60,  98,  37,  22, 110,  24,  30,  73,\n",
       "         62,  78,  51,  84,  48,  46,  94,  38,  10,  23,  39,  44,  99,  52,\n",
       "         54,  61,  70,  64,  89, 111,  35, 115,  67,  28,  66, 120,  27,  20,\n",
       "         50,  82, 103, 107, 105,  31, 122,  91,  87, 102,  69, 123])"
      ]
     },
     "execution_count": 16,
     "metadata": {},
     "output_type": "execute_result"
    }
   ],
   "source": [
    "data.data[2]"
   ]
  },
  {
   "cell_type": "code",
   "execution_count": 17,
   "id": "6a21715f",
   "metadata": {},
   "outputs": [],
   "source": [
    "from setup_model import *"
   ]
  },
  {
   "cell_type": "code",
   "execution_count": 18,
   "id": "489087cd",
   "metadata": {
    "scrolled": true
   },
   "outputs": [
    {
     "name": "stdout",
     "output_type": "stream",
     "text": [
      "Number of hidden neurons: 200\n",
      "Number of epochs: 5000\n",
      "Choose type of RNN model:\n",
      "1 - Simple RNN\n",
      "2 - LSTM\n",
      "3 - CNN\n",
      "type: 2\n",
      "write a observations without space and punctuations:teste\n",
      "models/LSTM_teste_m1_f1to1020_epoch5000_H200\n",
      "ATTENTION! folder not created. Training informations will overwrite the existing one\n"
     ]
    }
   ],
   "source": [
    "model_structure = ModelStructure(device, input_size, output_size, match_list, start_frame, end_frame)"
   ]
  },
  {
   "cell_type": "code",
   "execution_count": 19,
   "id": "61feff14",
   "metadata": {},
   "outputs": [],
   "source": [
    "def set_model(model_structure):\n",
    "\n",
    "    if model_structure.type == \"RNN\":\n",
    "        model = RNNModel(device=model_structure.device, \n",
    "                         input_size=model_structure.data_size, \n",
    "                         output_size=model_structure.output_size, \n",
    "                         hidden_dim=model_structure.hidden_neurons, \n",
    "                         n_layers=1)\n",
    "    elif model_structure.type == \"LSTM\":\n",
    "        model = LSTMModel(device=model_structure.device, \n",
    "                          input_size=model_structure.data_size, \n",
    "                          output_size=model_structure.output_size, \n",
    "                          hidden_dim=model_structure.hidden_neurons, \n",
    "                          n_layers=1)\n",
    "    elif model_structure.type == \"CNN\":\n",
    "        model = CNNLSTMModel(device=model_structure.device, \n",
    "                             input_size=model_structure.data_size, \n",
    "                             output_size=model_structure.output_size, \n",
    "                             hidden_dim=model_structure.hidden_neurons, \n",
    "                             n_layers=1)\n",
    "    else:\n",
    "        print(\"ERROR defining Model\")\n",
    "\n",
    "    return model"
   ]
  },
  {
   "cell_type": "code",
   "execution_count": 20,
   "id": "35616f99",
   "metadata": {},
   "outputs": [],
   "source": [
    "criterion = nn.MSELoss()\n",
    "model = set_model(model_structure)\n",
    "optimizer = torch.optim.Adam(model.parameters())"
   ]
  },
  {
   "cell_type": "code",
   "execution_count": 21,
   "id": "e26bc1cd",
   "metadata": {},
   "outputs": [],
   "source": [
    "if device.type == 'cuda':\n",
    "    mymodel = model.cuda()\n",
    "    X_train = data.data.cuda() \n",
    "    Y_train = data.targets.cuda()\n",
    "else:\n",
    "    mymodel = model\n",
    "    X_train = data.data \n",
    "    Y_train = data.targets"
   ]
  },
  {
   "cell_type": "code",
   "execution_count": 22,
   "id": "a74894a8",
   "metadata": {},
   "outputs": [],
   "source": [
    "def get_acc(predicted, target):\n",
    "    \n",
    "    predicted = torch.argmax(predicted, axis=1)\n",
    "    target = torch.argmax(target, axis=1)\n",
    "\n",
    "    acc = np.mean(predicted == target)\n",
    "    \n",
    "    return float(acc)"
   ]
  },
  {
   "cell_type": "code",
   "execution_count": 23,
   "id": "04faee89",
   "metadata": {},
   "outputs": [],
   "source": [
    "train_loss_arr = np.array([])\n",
    "train_acc_arr = np.array([])"
   ]
  },
  {
   "cell_type": "code",
   "execution_count": 24,
   "id": "f5f89a34",
   "metadata": {
    "scrolled": true
   },
   "outputs": [
    {
     "name": "stderr",
     "output_type": "stream",
     "text": [
      "C:\\Users\\alece\\Desktop\\UnB\\tcc\\rnn_enduro\\2-pytorch_train\\setup_model_types.py:78: UserWarning: Implicit dimension choice for softmax has been deprecated. Change the call to include dim=X as an argument.\n",
      "  out = self.out(out)\n"
     ]
    },
    {
     "name": "stdout",
     "output_type": "stream",
     "text": [
      "Epoch: 10/5000-------------------------------------------\n",
      "Train -> Loss: 0.029239689931273 Acc: 0.862096786499023\n",
      "Epoch: 20/5000-------------------------------------------\n",
      "Train -> Loss: 0.028382387012243 Acc: 0.862365603446960\n"
     ]
    },
    {
     "ename": "KeyboardInterrupt",
     "evalue": "",
     "output_type": "error",
     "traceback": [
      "\u001b[1;31m---------------------------------------------------------------------------\u001b[0m",
      "\u001b[1;31mKeyboardInterrupt\u001b[0m                         Traceback (most recent call last)",
      "\u001b[1;32m<ipython-input-24-a2fd5c5107da>\u001b[0m in \u001b[0;36m<module>\u001b[1;34m\u001b[0m\n\u001b[0;32m     15\u001b[0m \u001b[1;33m\u001b[0m\u001b[0m\n\u001b[0;32m     16\u001b[0m     \u001b[0mloss\u001b[0m \u001b[1;33m=\u001b[0m \u001b[0mcriterion\u001b[0m\u001b[1;33m(\u001b[0m\u001b[0moutput\u001b[0m\u001b[1;33m,\u001b[0m \u001b[0mY_train\u001b[0m\u001b[1;33m.\u001b[0m\u001b[0mview\u001b[0m\u001b[1;33m(\u001b[0m\u001b[1;33m-\u001b[0m\u001b[1;36m1\u001b[0m\u001b[1;33m,\u001b[0m\u001b[0mdata\u001b[0m\u001b[1;33m.\u001b[0m\u001b[0mtarget_size\u001b[0m\u001b[1;33m[\u001b[0m\u001b[1;36m2\u001b[0m\u001b[1;33m]\u001b[0m\u001b[1;33m)\u001b[0m\u001b[1;33m.\u001b[0m\u001b[0mfloat\u001b[0m\u001b[1;33m(\u001b[0m\u001b[1;33m)\u001b[0m\u001b[1;33m)\u001b[0m\u001b[1;33m\u001b[0m\u001b[1;33m\u001b[0m\u001b[0m\n\u001b[1;32m---> 17\u001b[1;33m     \u001b[0mloss\u001b[0m\u001b[1;33m.\u001b[0m\u001b[0mbackward\u001b[0m\u001b[1;33m(\u001b[0m\u001b[1;33m)\u001b[0m\u001b[1;33m\u001b[0m\u001b[1;33m\u001b[0m\u001b[0m\n\u001b[0m\u001b[0;32m     18\u001b[0m     \u001b[0moptimizer\u001b[0m\u001b[1;33m.\u001b[0m\u001b[0mstep\u001b[0m\u001b[1;33m(\u001b[0m\u001b[1;33m)\u001b[0m\u001b[1;33m\u001b[0m\u001b[1;33m\u001b[0m\u001b[0m\n\u001b[0;32m     19\u001b[0m \u001b[1;33m\u001b[0m\u001b[0m\n",
      "\u001b[1;32m~\\miniconda3\\envs\\torch\\lib\\site-packages\\torch\\tensor.py\u001b[0m in \u001b[0;36mbackward\u001b[1;34m(self, gradient, retain_graph, create_graph, inputs)\u001b[0m\n\u001b[0;32m    243\u001b[0m                 \u001b[0mcreate_graph\u001b[0m\u001b[1;33m=\u001b[0m\u001b[0mcreate_graph\u001b[0m\u001b[1;33m,\u001b[0m\u001b[1;33m\u001b[0m\u001b[1;33m\u001b[0m\u001b[0m\n\u001b[0;32m    244\u001b[0m                 inputs=inputs)\n\u001b[1;32m--> 245\u001b[1;33m         \u001b[0mtorch\u001b[0m\u001b[1;33m.\u001b[0m\u001b[0mautograd\u001b[0m\u001b[1;33m.\u001b[0m\u001b[0mbackward\u001b[0m\u001b[1;33m(\u001b[0m\u001b[0mself\u001b[0m\u001b[1;33m,\u001b[0m \u001b[0mgradient\u001b[0m\u001b[1;33m,\u001b[0m \u001b[0mretain_graph\u001b[0m\u001b[1;33m,\u001b[0m \u001b[0mcreate_graph\u001b[0m\u001b[1;33m,\u001b[0m \u001b[0minputs\u001b[0m\u001b[1;33m=\u001b[0m\u001b[0minputs\u001b[0m\u001b[1;33m)\u001b[0m\u001b[1;33m\u001b[0m\u001b[1;33m\u001b[0m\u001b[0m\n\u001b[0m\u001b[0;32m    246\u001b[0m \u001b[1;33m\u001b[0m\u001b[0m\n\u001b[0;32m    247\u001b[0m     \u001b[1;32mdef\u001b[0m \u001b[0mregister_hook\u001b[0m\u001b[1;33m(\u001b[0m\u001b[0mself\u001b[0m\u001b[1;33m,\u001b[0m \u001b[0mhook\u001b[0m\u001b[1;33m)\u001b[0m\u001b[1;33m:\u001b[0m\u001b[1;33m\u001b[0m\u001b[1;33m\u001b[0m\u001b[0m\n",
      "\u001b[1;32m~\\miniconda3\\envs\\torch\\lib\\site-packages\\torch\\autograd\\__init__.py\u001b[0m in \u001b[0;36mbackward\u001b[1;34m(tensors, grad_tensors, retain_graph, create_graph, grad_variables, inputs)\u001b[0m\n\u001b[0;32m    145\u001b[0m     Variable._execution_engine.run_backward(\n\u001b[0;32m    146\u001b[0m         \u001b[0mtensors\u001b[0m\u001b[1;33m,\u001b[0m \u001b[0mgrad_tensors_\u001b[0m\u001b[1;33m,\u001b[0m \u001b[0mretain_graph\u001b[0m\u001b[1;33m,\u001b[0m \u001b[0mcreate_graph\u001b[0m\u001b[1;33m,\u001b[0m \u001b[0minputs\u001b[0m\u001b[1;33m,\u001b[0m\u001b[1;33m\u001b[0m\u001b[1;33m\u001b[0m\u001b[0m\n\u001b[1;32m--> 147\u001b[1;33m         allow_unreachable=True, accumulate_grad=True)  # allow_unreachable flag\n\u001b[0m\u001b[0;32m    148\u001b[0m \u001b[1;33m\u001b[0m\u001b[0m\n\u001b[0;32m    149\u001b[0m \u001b[1;33m\u001b[0m\u001b[0m\n",
      "\u001b[1;31mKeyboardInterrupt\u001b[0m: "
     ]
    }
   ],
   "source": [
    "start_time_processing = time.time()\n",
    "\n",
    "loss_file = open(model_structure.path + '/' + \"loss_file.txt\", \"w\")\n",
    "first_time = True\n",
    "\n",
    "best_loss = 1\n",
    "first_epoch = True\n",
    "\n",
    "for epoch in range(1, model_structure.n_epochs + 1):\n",
    "\n",
    "    mymodel.train()\n",
    "\n",
    "    optimizer.zero_grad()\n",
    "    output = mymodel(X_train)\n",
    "    \n",
    "    loss = criterion(output, Y_train.view(-1,data.target_size[2]).float())\n",
    "    loss.backward()\n",
    "    optimizer.step()\n",
    "        \n",
    "    if epoch%10 == 0:\n",
    "\n",
    "        train_loss_arr = np.append(train_loss_arr, loss.item())\n",
    "        train_acc_arr  = np.append(train_acc_arr, model_structure.get_acc(output, Y_train.reshape(-1, len(data.available_targets))))\n",
    "        \n",
    "        loss_file.write(\"Epoch: {}/{}-------------------------------------------\\n\".format(epoch, model_structure.n_epochs))\n",
    "        loss_file.write(\"Train -> Loss: {:.15f} Acc: {:.15f}\\n\".format(train_loss_arr[-1], train_acc_arr[-1]))\n",
    "            \n",
    "        print(\"Epoch: {}/{}-------------------------------------------\".format(epoch, model_structure.n_epochs))\n",
    "        print(\"Train -> Loss: {:.15f} Acc: {:.15f}\".format(train_loss_arr[-1], train_acc_arr[-1]))\n",
    "        \n",
    "        if train_loss_arr[-1] < best_loss:\n",
    "            state = { 'epoch': epoch + 1, 'state_dict': mymodel.state_dict(),\n",
    "                      'optimizer': optimizer.state_dict(), 'losslogger': loss.item(), }\n",
    "            torch.save(state, model_structure.path + '/' + model_structure.name)\n",
    "            best_loss = loss.item()\n",
    "        else:\n",
    "            print(\"model not saved\")\n",
    "            \n",
    "loss_file.write(\"--- %s seconds ---\" % (time.time() - start_time_processing))\n",
    "loss_file.close()\n",
    "np.savez(model_structure.path + '/' + \"train_loss_arr\", train_loss_arr)\n",
    "print(\"--- %s seconds ---\" % (time.time() - start_time_processing))"
   ]
  },
  {
   "cell_type": "code",
   "execution_count": null,
   "id": "d9a023ec",
   "metadata": {
    "scrolled": true
   },
   "outputs": [],
   "source": [
    "import matplotlib.pyplot as plt\n",
    "\n",
    "plt.clf()\n",
    "plt.plot(train_loss_arr, color='blue')\n",
    "plt.title('model train loss')\n",
    "plt.ylabel('loss')\n",
    "plt.xlabel('epoch')\n",
    "plt.legend(['train'], loc='upper left')\n",
    "plt.yscale('log')\n",
    "plt.savefig(model_structure.path + '/' + 'train_loss.png')"
   ]
  }
 ],
 "metadata": {
  "kernelspec": {
   "display_name": "Python 3",
   "language": "python",
   "name": "python3"
  },
  "language_info": {
   "codemirror_mode": {
    "name": "ipython",
    "version": 3
   },
   "file_extension": ".py",
   "mimetype": "text/x-python",
   "name": "python",
   "nbconvert_exporter": "python",
   "pygments_lexer": "ipython3",
   "version": "3.7.10"
  }
 },
 "nbformat": 4,
 "nbformat_minor": 5
}
