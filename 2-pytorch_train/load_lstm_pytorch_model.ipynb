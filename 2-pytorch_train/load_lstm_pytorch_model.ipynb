{
 "cells": [
  {
   "cell_type": "markdown",
   "id": "a02c05ab",
   "metadata": {},
   "source": [
    "# Load and test trained model"
   ]
  },
  {
   "cell_type": "markdown",
   "id": "429f7996",
   "metadata": {},
   "source": [
    "## Load libraries"
   ]
  },
  {
   "cell_type": "code",
   "execution_count": 100,
   "id": "5114873b",
   "metadata": {},
   "outputs": [],
   "source": [
    "import numpy as np\n",
    "import torch\n",
    "\n",
    "import torch.nn as nn\n",
    "from enduro_lstm import *"
   ]
  },
  {
   "cell_type": "code",
   "execution_count": 101,
   "id": "7c87a302",
   "metadata": {},
   "outputs": [
    {
     "name": "stdout",
     "output_type": "stream",
     "text": [
      "Selected CPU\n"
     ]
    }
   ],
   "source": [
    "device = conf_cuda(False)"
   ]
  },
  {
   "cell_type": "code",
   "execution_count": 102,
   "id": "9ea85b82",
   "metadata": {},
   "outputs": [
    {
     "data": {
      "text/plain": [
       "device(type='cpu')"
      ]
     },
     "execution_count": 102,
     "metadata": {},
     "output_type": "execute_result"
    }
   ],
   "source": [
    "device"
   ]
  },
  {
   "cell_type": "code",
   "execution_count": 103,
   "id": "ec63db4f",
   "metadata": {},
   "outputs": [
    {
     "data": {
      "text/plain": [
       "'cpu'"
      ]
     },
     "execution_count": 103,
     "metadata": {},
     "output_type": "execute_result"
    }
   ],
   "source": [
    "device.type"
   ]
  },
  {
   "cell_type": "markdown",
   "id": "48dadaf8",
   "metadata": {},
   "source": [
    "## Set configurations"
   ]
  },
  {
   "cell_type": "code",
   "execution_count": null,
   "id": "17c6fd84",
   "metadata": {},
   "outputs": [],
   "source": [
    "import os\n",
    "dir_path = \"best_models/chuncked_sequence/elman/tanh_softmax/elman_tanh_softmax_m35to35_f1to120_H200_epoch10000\" + \"/\"\n",
    "arr = os.listdir(f'./{dir_path}')\n",
    "for i in range(len(arr)):\n",
    "    print(arr[i])"
   ]
  },
  {
   "cell_type": "code",
   "execution_count": null,
   "id": "9374a20a",
   "metadata": {},
   "outputs": [],
   "source": [
    "model_path = dir_path + \"teste_com_rnn_m35to35_f1to120_epoch10000_H200\""
   ]
  },
  {
   "cell_type": "code",
   "execution_count": null,
   "id": "5140a431",
   "metadata": {},
   "outputs": [],
   "source": [
    "start_match = 45\n",
    "end_match = 50\n",
    "\n",
    "hidden_neurons = 200\n",
    "zigzag = False\n",
    "is_softmax = True\n",
    "\n",
    "start_frame = 1\n",
    "end_frame = 120"
   ]
  },
  {
   "cell_type": "code",
   "execution_count": null,
   "id": "8746a57e",
   "metadata": {},
   "outputs": [],
   "source": [
    "data_path = r\"../1-generate/data/\"\n",
    "\n",
    "use_cuda = False\n",
    "load_checkpoint = True"
   ]
  },
  {
   "cell_type": "markdown",
   "id": "e9cf3c89",
   "metadata": {},
   "source": [
    "## Load trained model"
   ]
  },
  {
   "cell_type": "code",
   "execution_count": null,
   "id": "57340087",
   "metadata": {},
   "outputs": [],
   "source": [
    "if zigzag:\n",
    "    output_size = 2\n",
    "else:\n",
    "    output_size = 9"
   ]
  },
  {
   "cell_type": "code",
   "execution_count": 105,
   "id": "50caf845",
   "metadata": {},
   "outputs": [],
   "source": [
    "path = 'best_models/raw_sequence/lstm/raw_sequences/170x120/1-2-zigzag_m35to35_f1to120_epoch4240_H200_sig/'\n",
    "newpath = path + 'zigzag_m35to35_f1to120_epoch10000_H200'"
   ]
  },
  {
   "cell_type": "code",
   "execution_count": 106,
   "id": "21042a61",
   "metadata": {},
   "outputs": [],
   "source": [
    "hidden_neurons = 200\n",
    "load_checkpoint = True"
   ]
  },
  {
   "cell_type": "code",
   "execution_count": 107,
   "id": "64e7209a",
   "metadata": {},
   "outputs": [],
   "source": [
    "if zigzag:\n",
    "    output_size = 2\n",
    "else:\n",
    "    output_size = 9"
   ]
  },
  {
   "cell_type": "code",
   "execution_count": 108,
   "id": "cde9ad3f",
   "metadata": {},
   "outputs": [],
   "source": [
    "def load_checkpoint(model, filename='checkpoint.pth.tar'):\n",
    "    \n",
    "    print(\"=> loading checkpoint '{}'\".format(filename))\n",
    "    checkpoint = torch.load(filename, map_location=device)\n",
    "    model.load_state_dict(checkpoint['state_dict'])\n",
    "\n",
    "    return model, checkpoint['optimizer']['state'][0]['step'], checkpoint['losslogger']"
   ]
  },
  {
   "cell_type": "code",
   "execution_count": 28,
   "id": "2e43baa0",
   "metadata": {},
   "outputs": [
    {
     "name": "stdout",
     "output_type": "stream",
     "text": [
      "=> loading checkpoint 'best_models/raw_sequence/lstm/raw_sequences/170x120/1-2-zigzag_m35to35_f1to120_epoch4240_H200_sig/zigzag_m35to35_f1to120_epoch10000_H200'\n"
     ]
    },
    {
     "data": {
      "text/plain": [
       "Model(\n",
       "  (lstm): LSTM(20400, 200, batch_first=True)\n",
       "  (fc): Linear(in_features=200, out_features=2, bias=True)\n",
       "  (out): Sigmoid()\n",
       ")"
      ]
     },
     "execution_count": 28,
     "metadata": {},
     "output_type": "execute_result"
    }
   ],
   "source": [
    "if load_checkpoint:\n",
    "    model = Model1(device=device, input_size=20400, output_size=output_size, hidden_dim=hidden_neurons, n_layers=1, is_softmax=is_softmax)\n",
    "    model, last_epoch, last_logger = load_checkpoint(model, model_path)\n",
    "else:\n",
    "    model = Model(device=device, input_size=20400, output_size=output_size, hidden_dim=hidden_neurons, n_layers=1, is_softmax=is_softmax)\n",
    "    model.load_state_dict(torch.load(model_path, map_location=device))\n",
    "model.eval()"
   ]
  },
  {
   "cell_type": "code",
   "execution_count": 11,
   "id": "841c4964",
   "metadata": {},
   "outputs": [
    {
     "data": {
      "text/plain": [
       "Model(\n",
       "  (lstm): LSTM(20400, 500, batch_first=True)\n",
       "  (fc): Linear(in_features=500, out_features=9, bias=True)\n",
       "  (out): Softmax(dim=None)\n",
       ")"
      ]
     },
     "execution_count": 11,
     "metadata": {},
     "output_type": "execute_result"
    }
   ],
   "source": [
    "model = Model(device=device, input_size=20400, output_size=output_size, hidden_dim=hidden_neurons, n_layers=1, is_softmax=is_softmax)\n",
    "torch.load(newpath, map_location=device)\n",
    "model.eval()"
   ]
  },
  {
   "cell_type": "code",
   "execution_count": 60,
   "id": "204ff1aa",
   "metadata": {},
   "outputs": [],
   "source": [
    "ACTIONS_LIST = get_actions_list(zigzag=zigzag)"
   ]
  },
  {
   "cell_type": "code",
   "execution_count": 33,
   "id": "0988bd3d",
   "metadata": {},
   "outputs": [
    {
     "name": "stdout",
     "output_type": "stream",
     "text": [
      "Successfully loaded NPZ.\n",
      "Successfully loaded NPZ.\n",
      "Successfully loaded NPZ.\n",
      "Successfully loaded NPZ.\n",
      "Successfully loaded NPZ.\n",
      "Successfully loaded NPZ.\n"
     ]
    }
   ],
   "source": [
    "num_of_frames_arr = []\n",
    "frames_arr = []\n",
    "actions_arr = []\n",
    "\n",
    "start_frame = 1\n",
    "end_frame = 1000\n",
    "\n",
    "for m in range(start_match, end_match + 1):\n",
    "    \n",
    "    num_of_frames, frames, actions, rewards, lifes = load_npz(data_path, m)\n",
    "    frames = frames[start_frame - 1:end_frame]\n",
    "    actions = actions[start_frame - 1:end_frame]\n",
    "    \n",
    "    action_one_hot = [prepare_action_data(i, ACTIONS_LIST) for i in actions]\n",
    "    actions = np.array(action_one_hot)\n",
    "    actions = actions.reshape(len(actions), -1)\n",
    "    \n",
    "    frames_arr.append(frames)\n",
    "    actions_arr.append(actions)\n",
    "    num_of_frames_arr.append(end_frame - start_frame + 1) \n",
    "\n",
    "X_train = np.array(frames_arr)/255\n",
    "Y_train = np.array(actions_arr)\n",
    "num_of_frames_arr = np.array(num_of_frames_arr)\n",
    "\n",
    "X_train = torch.tensor(X_train).float()\n",
    "Y_train = torch.tensor(Y_train).float()"
   ]
  },
  {
   "cell_type": "code",
   "execution_count": 77,
   "id": "59a7ce57",
   "metadata": {},
   "outputs": [],
   "source": [
    "#out, h = model(X_train)"
   ]
  },
  {
   "cell_type": "code",
   "execution_count": 78,
   "id": "718df455",
   "metadata": {},
   "outputs": [
    {
     "data": {
      "text/plain": [
       "'criterion = nn.MSELoss()\\nloss = criterion(out, Y_train.view(-1,len(ACTIONS_LIST)).float())\\nloss'"
      ]
     },
     "execution_count": 78,
     "metadata": {},
     "output_type": "execute_result"
    }
   ],
   "source": [
    "\"\"\"criterion = nn.MSELoss()\n",
    "loss = criterion(out, Y_train.view(-1,len(ACTIONS_LIST)).float())\n",
    "loss\"\"\""
   ]
  },
  {
   "cell_type": "code",
   "execution_count": 79,
   "id": "2e919ac3",
   "metadata": {},
   "outputs": [
    {
     "data": {
      "text/plain": [
       "'out, h = model(X_train[0].reshape(1, 1000, 20400))\\nloss = criterion(out, Y_train[0].view(-1,len(ACTIONS_LIST)).float())\\nout, h = model(X_train[1].reshape(1, 1000, 20400))\\nloss = criterion(out, Y_train[1].view(-1,len(ACTIONS_LIST)).float())\\nloss.item()'"
      ]
     },
     "execution_count": 79,
     "metadata": {},
     "output_type": "execute_result"
    }
   ],
   "source": [
    "\"\"\"out, h = model(X_train[0].reshape(1, 1000, 20400))\n",
    "loss = criterion(out, Y_train[0].view(-1,len(ACTIONS_LIST)).float())\n",
    "out, h = model(X_train[1].reshape(1, 1000, 20400))\n",
    "loss = criterion(out, Y_train[1].view(-1,len(ACTIONS_LIST)).float())\n",
    "loss.item()\"\"\""
   ]
  },
  {
   "cell_type": "markdown",
   "id": "98d55682",
   "metadata": {},
   "source": [
    "## Prepare cell with trained model "
   ]
  },
  {
   "cell_type": "code",
   "execution_count": 80,
   "id": "d2147390",
   "metadata": {},
   "outputs": [],
   "source": [
    "lstmcell = nn.LSTMCell(20400, hidden_neurons)\n",
    "linear = nn.Linear(hidden_neurons, output_size)\n",
    "if is_softmax:\n",
    "    output = nn.Softmax()\n",
    "else:\n",
    "    output = nn.Sigmoid()"
   ]
  },
  {
   "cell_type": "code",
   "execution_count": 81,
   "id": "e8a08a4b",
   "metadata": {},
   "outputs": [
    {
     "data": {
      "text/plain": [
       "Sigmoid()"
      ]
     },
     "execution_count": 81,
     "metadata": {},
     "output_type": "execute_result"
    }
   ],
   "source": [
    "output"
   ]
  },
  {
   "cell_type": "code",
   "execution_count": 82,
   "id": "935d5e5d",
   "metadata": {},
   "outputs": [],
   "source": [
    "lstmcell.weight_ih = model.lstm.weight_ih_l0\n",
    "lstmcell.weight_hh = model.lstm.weight_hh_l0\n",
    "lstmcell.bias_hh = model.lstm.bias_hh_l0\n",
    "lstmcell.bias_ih = model.lstm.bias_ih_l0\n",
    "linear.weight = model.fc.weight\n",
    "linear.bias = model.fc.bias"
   ]
  },
  {
   "cell_type": "code",
   "execution_count": 83,
   "id": "99940fb6",
   "metadata": {},
   "outputs": [],
   "source": [
    "hx = torch.zeros(1, hidden_neurons)\n",
    "cx = torch.zeros(1, hidden_neurons)"
   ]
  },
  {
   "cell_type": "code",
   "execution_count": 84,
   "id": "659f1274",
   "metadata": {},
   "outputs": [
    {
     "name": "stdout",
     "output_type": "stream",
     "text": [
      "torch.Size([800, 20400])\n",
      "torch.Size([800, 200])\n",
      "torch.Size([800])\n",
      "torch.Size([800])\n",
      "torch.Size([2, 200])\n",
      "torch.Size([2])\n"
     ]
    }
   ],
   "source": [
    "print(model.lstm.weight_ih_l0.shape)\n",
    "print(model.lstm.weight_hh_l0.shape)\n",
    "print(model.lstm.bias_ih_l0.shape)\n",
    "print(model.lstm.bias_hh_l0.shape)\n",
    "print(model.fc.weight.shape)\n",
    "print(model.fc.bias.shape)"
   ]
  },
  {
   "cell_type": "markdown",
   "id": "7f5a9085",
   "metadata": {},
   "source": [
    "## Plot graphs"
   ]
  },
  {
   "cell_type": "code",
   "execution_count": 85,
   "id": "2a8f0a50",
   "metadata": {},
   "outputs": [
    {
     "data": {
      "text/plain": [
       "'train_loss_arr = np.load(path + \\'train_loss_arr.npz\\')\\nvalid_loss_arr = np.load(path + \\'valid_loss_arr.npz\\')\\nvalid_loss_mean_arr = np.load(path + \\'valid_loss_mean_arr.npz\\')\\n\\ntrain_loss_arr = train_loss_arr.f.arr_0\\nvalid_loss_arr = valid_loss_arr.f.arr_0\\nvalid_loss_mean_arr = valid_loss_mean_arr.f.arr_0\\n\\nprint(\"Successfully loaded NPZ\")'"
      ]
     },
     "execution_count": 85,
     "metadata": {},
     "output_type": "execute_result"
    }
   ],
   "source": [
    "\"\"\"train_loss_arr = np.load(path + 'train_loss_arr.npz')\n",
    "valid_loss_arr = np.load(path + 'valid_loss_arr.npz')\n",
    "valid_loss_mean_arr = np.load(path + 'valid_loss_mean_arr.npz')\n",
    "\n",
    "train_loss_arr = train_loss_arr.f.arr_0\n",
    "valid_loss_arr = valid_loss_arr.f.arr_0\n",
    "valid_loss_mean_arr = valid_loss_mean_arr.f.arr_0\n",
    "\n",
    "print(\"Successfully loaded NPZ\")\"\"\""
   ]
  },
  {
   "cell_type": "code",
   "execution_count": 86,
   "id": "3a67891a",
   "metadata": {},
   "outputs": [
    {
     "data": {
      "text/plain": [
       "'valid_loss_arr.shape'"
      ]
     },
     "execution_count": 86,
     "metadata": {},
     "output_type": "execute_result"
    }
   ],
   "source": [
    "\"\"\"valid_loss_arr.shape\"\"\""
   ]
  },
  {
   "cell_type": "code",
   "execution_count": 87,
   "id": "2b63b470",
   "metadata": {},
   "outputs": [],
   "source": [
    "import matplotlib.pyplot as plt\n",
    "def plot_graph(data, train_or_valid):\n",
    "    # summarize history for loss\n",
    "    plt.clf()\n",
    "    plt.plot(data, color='blue')\n",
    "    plt.title('model ' + train_or_valid + ' loss')\n",
    "    plt.ylabel('loss')\n",
    "    plt.xlabel('epoch')\n",
    "    plt.legend([train_or_valid], loc='upper left')\n",
    "    plt.yscale('log')\n",
    "    # plt.savefig(newpath + '/' + 'train_loss.png')"
   ]
  },
  {
   "cell_type": "code",
   "execution_count": 90,
   "id": "3fbfb2db",
   "metadata": {},
   "outputs": [
    {
     "data": {
      "text/plain": [
       "\"plot_graph(train_loss_arr, 'train')\""
      ]
     },
     "execution_count": 90,
     "metadata": {},
     "output_type": "execute_result"
    }
   ],
   "source": [
    "\"\"\"plot_graph(train_loss_arr, 'train')\"\"\""
   ]
  },
  {
   "cell_type": "code",
   "execution_count": 91,
   "id": "7fb48415",
   "metadata": {},
   "outputs": [
    {
     "data": {
      "text/plain": [
       "\"plot_graph(valid_loss_arr[0].reshape(-1,), 'valid')\""
      ]
     },
     "execution_count": 91,
     "metadata": {},
     "output_type": "execute_result"
    }
   ],
   "source": [
    "\"\"\"plot_graph(valid_loss_arr[0].reshape(-1,), 'valid')\"\"\""
   ]
  },
  {
   "cell_type": "code",
   "execution_count": 92,
   "id": "3ce7985a",
   "metadata": {},
   "outputs": [
    {
     "data": {
      "text/plain": [
       "\"plot_graph(valid_loss_arr[1].reshape(-1,), 'valid')\""
      ]
     },
     "execution_count": 92,
     "metadata": {},
     "output_type": "execute_result"
    }
   ],
   "source": [
    "\"\"\"plot_graph(valid_loss_arr[1].reshape(-1,), 'valid')\"\"\""
   ]
  },
  {
   "cell_type": "code",
   "execution_count": 93,
   "id": "be324100",
   "metadata": {},
   "outputs": [
    {
     "data": {
      "text/plain": [
       "\"plot_graph(valid_loss_arr[2].reshape(-1,), 'valid')\""
      ]
     },
     "execution_count": 93,
     "metadata": {},
     "output_type": "execute_result"
    }
   ],
   "source": [
    "\"\"\"plot_graph(valid_loss_arr[2].reshape(-1,), 'valid')\"\"\""
   ]
  },
  {
   "cell_type": "code",
   "execution_count": 94,
   "id": "b7019cf9",
   "metadata": {},
   "outputs": [
    {
     "data": {
      "text/plain": [
       "\"plot_graph(valid_loss_arr[3].reshape(-1,), 'valid')\""
      ]
     },
     "execution_count": 94,
     "metadata": {},
     "output_type": "execute_result"
    }
   ],
   "source": [
    "\"\"\"plot_graph(valid_loss_arr[3].reshape(-1,), 'valid')\"\"\""
   ]
  },
  {
   "cell_type": "code",
   "execution_count": 95,
   "id": "3d92ed11",
   "metadata": {},
   "outputs": [
    {
     "data": {
      "text/plain": [
       "\"plot_graph(valid_loss_arr[4].reshape(-1,), 'valid')\""
      ]
     },
     "execution_count": 95,
     "metadata": {},
     "output_type": "execute_result"
    }
   ],
   "source": [
    "\"\"\"plot_graph(valid_loss_arr[4].reshape(-1,), 'valid')\"\"\""
   ]
  },
  {
   "cell_type": "code",
   "execution_count": 96,
   "id": "0736b172",
   "metadata": {},
   "outputs": [
    {
     "data": {
      "text/plain": [
       "\"plot_graph(valid_loss_arr[5].reshape(-1,), 'valid')\""
      ]
     },
     "execution_count": 96,
     "metadata": {},
     "output_type": "execute_result"
    }
   ],
   "source": [
    "\"\"\"plot_graph(valid_loss_arr[5].reshape(-1,), 'valid')\"\"\""
   ]
  },
  {
   "cell_type": "code",
   "execution_count": 97,
   "id": "5d58ba61",
   "metadata": {},
   "outputs": [
    {
     "data": {
      "text/plain": [
       "\"plot_graph(valid_loss_mean_arr, 'valid')\""
      ]
     },
     "execution_count": 97,
     "metadata": {},
     "output_type": "execute_result"
    }
   ],
   "source": [
    "\"\"\"plot_graph(valid_loss_mean_arr, 'valid')\"\"\""
   ]
  },
  {
   "cell_type": "markdown",
   "id": "6ac739f7",
   "metadata": {},
   "source": [
    "## Testing outputs of model"
   ]
  },
  {
   "cell_type": "code",
   "execution_count": 98,
   "id": "634d7caa",
   "metadata": {},
   "outputs": [],
   "source": [
    "ACTIONS_LIST = get_actions_list(zigzag=zigzag)"
   ]
  },
  {
   "cell_type": "code",
   "execution_count": 99,
   "id": "7d806566",
   "metadata": {},
   "outputs": [
    {
     "name": "stdout",
     "output_type": "stream",
     "text": [
      "Successfully loaded NPZ.\n"
     ]
    }
   ],
   "source": [
    "num_of_frames, frames, actions, rewards, lifes = load_npz(data_path, match)"
   ]
  },
  {
   "cell_type": "code",
   "execution_count": 109,
   "id": "41910abf",
   "metadata": {},
   "outputs": [
    {
     "name": "stdout",
     "output_type": "stream",
     "text": [
      "Successfully loaded NPZ.\n"
     ]
    },
    {
     "ename": "ValueError",
     "evalue": "0 is not in list",
     "output_type": "error",
     "traceback": [
      "\u001b[1;31m---------------------------------------------------------------------------\u001b[0m",
      "\u001b[1;31mValueError\u001b[0m                                Traceback (most recent call last)",
      "\u001b[1;32m<ipython-input-109-04b1ab36ecb9>\u001b[0m in \u001b[0;36m<module>\u001b[1;34m\u001b[0m\n\u001b[0;32m     12\u001b[0m     \u001b[0mactions\u001b[0m \u001b[1;33m=\u001b[0m \u001b[0mactions\u001b[0m\u001b[1;33m[\u001b[0m\u001b[0mstart_frame\u001b[0m \u001b[1;33m-\u001b[0m \u001b[1;36m1\u001b[0m\u001b[1;33m:\u001b[0m\u001b[0mend_frame\u001b[0m\u001b[1;33m]\u001b[0m\u001b[1;33m\u001b[0m\u001b[1;33m\u001b[0m\u001b[0m\n\u001b[0;32m     13\u001b[0m \u001b[1;33m\u001b[0m\u001b[0m\n\u001b[1;32m---> 14\u001b[1;33m     \u001b[0maction_one_hot\u001b[0m \u001b[1;33m=\u001b[0m \u001b[1;33m[\u001b[0m\u001b[0mprepare_action_data\u001b[0m\u001b[1;33m(\u001b[0m\u001b[0mi\u001b[0m\u001b[1;33m,\u001b[0m \u001b[0mACTIONS_LIST\u001b[0m\u001b[1;33m)\u001b[0m \u001b[1;32mfor\u001b[0m \u001b[0mi\u001b[0m \u001b[1;32min\u001b[0m \u001b[0mactions\u001b[0m\u001b[1;33m]\u001b[0m\u001b[1;33m\u001b[0m\u001b[1;33m\u001b[0m\u001b[0m\n\u001b[0m\u001b[0;32m     15\u001b[0m     \u001b[0mactions\u001b[0m \u001b[1;33m=\u001b[0m \u001b[0mnp\u001b[0m\u001b[1;33m.\u001b[0m\u001b[0marray\u001b[0m\u001b[1;33m(\u001b[0m\u001b[0maction_one_hot\u001b[0m\u001b[1;33m)\u001b[0m\u001b[1;33m\u001b[0m\u001b[1;33m\u001b[0m\u001b[0m\n\u001b[0;32m     16\u001b[0m     \u001b[0mactions\u001b[0m \u001b[1;33m=\u001b[0m \u001b[0mactions\u001b[0m\u001b[1;33m.\u001b[0m\u001b[0mreshape\u001b[0m\u001b[1;33m(\u001b[0m\u001b[0mlen\u001b[0m\u001b[1;33m(\u001b[0m\u001b[0mactions\u001b[0m\u001b[1;33m)\u001b[0m\u001b[1;33m,\u001b[0m \u001b[1;33m-\u001b[0m\u001b[1;36m1\u001b[0m\u001b[1;33m)\u001b[0m\u001b[1;33m\u001b[0m\u001b[1;33m\u001b[0m\u001b[0m\n",
      "\u001b[1;32m<ipython-input-109-04b1ab36ecb9>\u001b[0m in \u001b[0;36m<listcomp>\u001b[1;34m(.0)\u001b[0m\n\u001b[0;32m     12\u001b[0m     \u001b[0mactions\u001b[0m \u001b[1;33m=\u001b[0m \u001b[0mactions\u001b[0m\u001b[1;33m[\u001b[0m\u001b[0mstart_frame\u001b[0m \u001b[1;33m-\u001b[0m \u001b[1;36m1\u001b[0m\u001b[1;33m:\u001b[0m\u001b[0mend_frame\u001b[0m\u001b[1;33m]\u001b[0m\u001b[1;33m\u001b[0m\u001b[1;33m\u001b[0m\u001b[0m\n\u001b[0;32m     13\u001b[0m \u001b[1;33m\u001b[0m\u001b[0m\n\u001b[1;32m---> 14\u001b[1;33m     \u001b[0maction_one_hot\u001b[0m \u001b[1;33m=\u001b[0m \u001b[1;33m[\u001b[0m\u001b[0mprepare_action_data\u001b[0m\u001b[1;33m(\u001b[0m\u001b[0mi\u001b[0m\u001b[1;33m,\u001b[0m \u001b[0mACTIONS_LIST\u001b[0m\u001b[1;33m)\u001b[0m \u001b[1;32mfor\u001b[0m \u001b[0mi\u001b[0m \u001b[1;32min\u001b[0m \u001b[0mactions\u001b[0m\u001b[1;33m]\u001b[0m\u001b[1;33m\u001b[0m\u001b[1;33m\u001b[0m\u001b[0m\n\u001b[0m\u001b[0;32m     15\u001b[0m     \u001b[0mactions\u001b[0m \u001b[1;33m=\u001b[0m \u001b[0mnp\u001b[0m\u001b[1;33m.\u001b[0m\u001b[0marray\u001b[0m\u001b[1;33m(\u001b[0m\u001b[0maction_one_hot\u001b[0m\u001b[1;33m)\u001b[0m\u001b[1;33m\u001b[0m\u001b[1;33m\u001b[0m\u001b[0m\n\u001b[0;32m     16\u001b[0m     \u001b[0mactions\u001b[0m \u001b[1;33m=\u001b[0m \u001b[0mactions\u001b[0m\u001b[1;33m.\u001b[0m\u001b[0mreshape\u001b[0m\u001b[1;33m(\u001b[0m\u001b[0mlen\u001b[0m\u001b[1;33m(\u001b[0m\u001b[0mactions\u001b[0m\u001b[1;33m)\u001b[0m\u001b[1;33m,\u001b[0m \u001b[1;33m-\u001b[0m\u001b[1;36m1\u001b[0m\u001b[1;33m)\u001b[0m\u001b[1;33m\u001b[0m\u001b[1;33m\u001b[0m\u001b[0m\n",
      "\u001b[1;32m~\\Desktop\\UnB\\tcc\\rnn_enduro\\2-lstm_train\\enduro_lstm.py\u001b[0m in \u001b[0;36mprepare_action_data\u001b[1;34m(action, ACTIONS_LIST)\u001b[0m\n\u001b[0;32m     52\u001b[0m     \u001b[0mnew_action\u001b[0m \u001b[1;33m=\u001b[0m \u001b[0mnp\u001b[0m\u001b[1;33m.\u001b[0m\u001b[0mzeros\u001b[0m\u001b[1;33m(\u001b[0m\u001b[1;33m(\u001b[0m\u001b[1;36m1\u001b[0m\u001b[1;33m,\u001b[0m \u001b[0mlen\u001b[0m\u001b[1;33m(\u001b[0m\u001b[0mACTIONS_LIST\u001b[0m\u001b[1;33m)\u001b[0m\u001b[1;33m)\u001b[0m\u001b[1;33m,\u001b[0m \u001b[0mdtype\u001b[0m\u001b[1;33m=\u001b[0m\u001b[0mint\u001b[0m\u001b[1;33m)\u001b[0m\u001b[1;33m\u001b[0m\u001b[1;33m\u001b[0m\u001b[0m\n\u001b[0;32m     53\u001b[0m \u001b[1;33m\u001b[0m\u001b[0m\n\u001b[1;32m---> 54\u001b[1;33m     \u001b[0mnew_action\u001b[0m\u001b[1;33m[\u001b[0m\u001b[1;36m0\u001b[0m\u001b[1;33m,\u001b[0m \u001b[0mACTIONS_LIST\u001b[0m\u001b[1;33m.\u001b[0m\u001b[0mindex\u001b[0m\u001b[1;33m(\u001b[0m\u001b[0maction\u001b[0m\u001b[1;33m)\u001b[0m\u001b[1;33m]\u001b[0m \u001b[1;33m=\u001b[0m \u001b[1;36m1\u001b[0m\u001b[1;33m\u001b[0m\u001b[1;33m\u001b[0m\u001b[0m\n\u001b[0m\u001b[0;32m     55\u001b[0m \u001b[1;33m\u001b[0m\u001b[0m\n\u001b[0;32m     56\u001b[0m     \u001b[1;32mreturn\u001b[0m \u001b[0mnew_action\u001b[0m\u001b[1;33m\u001b[0m\u001b[1;33m\u001b[0m\u001b[0m\n",
      "\u001b[1;31mValueError\u001b[0m: 0 is not in list"
     ]
    }
   ],
   "source": [
    "num_of_frames_arr = []\n",
    "frames_arr = []\n",
    "actions_arr = []\n",
    "\n",
    "start_frame = 1\n",
    "end_frame = 1000\n",
    "\n",
    "for m in range(start_match, end_match + 1):\n",
    "    \n",
    "    num_of_frames, frames, actions, rewards, lifes = load_npz(data_path, m)\n",
    "    frames = frames[start_frame - 1:end_frame]\n",
    "    actions = actions[start_frame - 1:end_frame]\n",
    "    \n",
    "    action_one_hot = [prepare_action_data(i, ACTIONS_LIST) for i in actions]\n",
    "    actions = np.array(action_one_hot)\n",
    "    actions = actions.reshape(len(actions), -1)\n",
    "    \n",
    "    frames_arr.append(frames)\n",
    "    actions_arr.append(actions)\n",
    "    num_of_frames_arr.append(end_frame - start_frame + 1) \n",
    "\n",
    "X_train = np.array(frames_arr)/255\n",
    "Y_train = np.array(actions_arr)\n",
    "num_of_frames_arr = np.array(num_of_frames_arr)\n",
    "\n",
    "X_train = torch.tensor(X_train).float()\n",
    "Y_train = torch.tensor(Y_train).float()"
   ]
  },
  {
   "cell_type": "code",
   "execution_count": null,
   "id": "be9e569a",
   "metadata": {},
   "outputs": [],
   "source": [
    "X_train = frames.reshape(1, len(frames) ,-1)/255"
   ]
  },
  {
   "cell_type": "code",
   "execution_count": 64,
   "id": "095ad5d8",
   "metadata": {},
   "outputs": [
    {
     "data": {
      "text/plain": [
       "[2, 3]"
      ]
     },
     "execution_count": 64,
     "metadata": {},
     "output_type": "execute_result"
    }
   ],
   "source": [
    "ACTIONS_LIST"
   ]
  },
  {
   "cell_type": "code",
   "execution_count": 65,
   "id": "31db6647",
   "metadata": {},
   "outputs": [
    {
     "data": {
      "text/plain": [
       "array([2, 2, 2, 2, 2, 2, 2, 2, 2, 2, 2, 2, 2, 2, 2, 2, 2, 2, 2, 2, 2, 2,\n",
       "       2, 2, 2, 2, 2, 2, 2, 2, 3, 3, 3, 3, 3, 3, 3, 3, 3, 3, 3, 3, 3, 3,\n",
       "       3, 3, 3, 3, 3, 3, 3, 3, 3, 3, 3, 3, 3, 3, 3, 3, 3, 3, 3, 3, 3, 3,\n",
       "       3, 3, 3, 3, 3, 3, 3, 3, 3, 3, 3, 3, 3, 3, 3, 3, 3, 3, 3, 3, 3, 3,\n",
       "       3, 3, 2, 2, 2, 2, 2, 2, 2, 2, 2, 2, 2, 2, 2, 2, 2, 2, 2, 2, 2, 2,\n",
       "       2, 2, 2, 2, 2, 2, 2, 2, 2, 2], dtype=int64)"
      ]
     },
     "execution_count": 65,
     "metadata": {},
     "output_type": "execute_result"
    }
   ],
   "source": [
    "actions"
   ]
  },
  {
   "cell_type": "code",
   "execution_count": 66,
   "id": "832982eb",
   "metadata": {},
   "outputs": [],
   "source": [
    "action_one_hot = [prepare_action_data(i, ACTIONS_LIST) for i in actions]\n",
    "Y_train = np.array(action_one_hot)\n",
    "Y_train = Y_train.reshape(1, len(Y_train), -1)"
   ]
  },
  {
   "cell_type": "code",
   "execution_count": 67,
   "id": "59c231c2",
   "metadata": {},
   "outputs": [],
   "source": [
    "X_train = torch.tensor(X_train).float()\n",
    "Y_train = torch.tensor(Y_train).float()"
   ]
  },
  {
   "cell_type": "code",
   "execution_count": 68,
   "id": "7d988171",
   "metadata": {},
   "outputs": [],
   "source": [
    "hx = torch.zeros(1, hidden_neurons)\n",
    "cx = torch.zeros(1, hidden_neurons)\n",
    "out_arr = []\n",
    "for i in range(1000):\n",
    "    step_input = X_train[0][i]\n",
    "    step_input = step_input.reshape(1, -1)\n",
    "    hx, cx = lstmcell(step_input, (hx, cx))\n",
    "    out = linear(hx)\n",
    "    out = output(out)\n",
    "    out_arr.append(out)"
   ]
  },
  {
   "cell_type": "code",
   "execution_count": 69,
   "id": "71facede",
   "metadata": {},
   "outputs": [],
   "source": [
    "Y_train = Y_train.reshape(-1, len(ACTIONS_LIST))"
   ]
  },
  {
   "cell_type": "code",
   "execution_count": 70,
   "id": "4844170d",
   "metadata": {
    "scrolled": true
   },
   "outputs": [],
   "source": [
    "acertou = 0\n",
    "errou = 0\n",
    "for i in range(1000):\n",
    "    if torch.argmax(Y_train[i]) == torch.argmax(out_arr[i]):\n",
    "        acertou += 1\n",
    "    else:\n",
    "        errou += 1 "
   ]
  },
  {
   "cell_type": "code",
   "execution_count": 71,
   "id": "ccc8c141",
   "metadata": {},
   "outputs": [
    {
     "data": {
      "text/plain": [
       "tensor([[1., 0.],\n",
       "        [1., 0.],\n",
       "        [1., 0.],\n",
       "        [1., 0.],\n",
       "        [1., 0.],\n",
       "        [1., 0.],\n",
       "        [1., 0.],\n",
       "        [1., 0.],\n",
       "        [1., 0.],\n",
       "        [1., 0.],\n",
       "        [1., 0.],\n",
       "        [1., 0.],\n",
       "        [1., 0.],\n",
       "        [1., 0.],\n",
       "        [1., 0.],\n",
       "        [1., 0.],\n",
       "        [1., 0.],\n",
       "        [1., 0.],\n",
       "        [1., 0.],\n",
       "        [1., 0.],\n",
       "        [1., 0.],\n",
       "        [1., 0.],\n",
       "        [1., 0.],\n",
       "        [1., 0.],\n",
       "        [1., 0.],\n",
       "        [1., 0.],\n",
       "        [1., 0.],\n",
       "        [1., 0.],\n",
       "        [1., 0.],\n",
       "        [1., 0.],\n",
       "        [0., 1.],\n",
       "        [0., 1.],\n",
       "        [0., 1.],\n",
       "        [0., 1.],\n",
       "        [0., 1.],\n",
       "        [0., 1.],\n",
       "        [0., 1.],\n",
       "        [0., 1.],\n",
       "        [0., 1.],\n",
       "        [0., 1.],\n",
       "        [0., 1.],\n",
       "        [0., 1.],\n",
       "        [0., 1.],\n",
       "        [0., 1.],\n",
       "        [0., 1.],\n",
       "        [0., 1.],\n",
       "        [0., 1.],\n",
       "        [0., 1.],\n",
       "        [0., 1.],\n",
       "        [0., 1.],\n",
       "        [0., 1.],\n",
       "        [0., 1.],\n",
       "        [0., 1.],\n",
       "        [0., 1.],\n",
       "        [0., 1.],\n",
       "        [0., 1.],\n",
       "        [0., 1.],\n",
       "        [0., 1.],\n",
       "        [0., 1.],\n",
       "        [0., 1.],\n",
       "        [0., 1.],\n",
       "        [0., 1.],\n",
       "        [0., 1.],\n",
       "        [0., 1.],\n",
       "        [0., 1.],\n",
       "        [0., 1.],\n",
       "        [0., 1.],\n",
       "        [0., 1.],\n",
       "        [0., 1.],\n",
       "        [0., 1.],\n",
       "        [0., 1.],\n",
       "        [0., 1.],\n",
       "        [0., 1.],\n",
       "        [0., 1.],\n",
       "        [0., 1.],\n",
       "        [0., 1.],\n",
       "        [0., 1.],\n",
       "        [0., 1.],\n",
       "        [0., 1.],\n",
       "        [0., 1.],\n",
       "        [0., 1.],\n",
       "        [0., 1.],\n",
       "        [0., 1.],\n",
       "        [0., 1.],\n",
       "        [0., 1.],\n",
       "        [0., 1.],\n",
       "        [0., 1.],\n",
       "        [0., 1.],\n",
       "        [0., 1.],\n",
       "        [0., 1.],\n",
       "        [1., 0.],\n",
       "        [1., 0.],\n",
       "        [1., 0.],\n",
       "        [1., 0.],\n",
       "        [1., 0.],\n",
       "        [1., 0.],\n",
       "        [1., 0.],\n",
       "        [1., 0.],\n",
       "        [1., 0.],\n",
       "        [1., 0.],\n",
       "        [1., 0.],\n",
       "        [1., 0.],\n",
       "        [1., 0.],\n",
       "        [1., 0.],\n",
       "        [1., 0.],\n",
       "        [1., 0.],\n",
       "        [1., 0.],\n",
       "        [1., 0.],\n",
       "        [1., 0.],\n",
       "        [1., 0.],\n",
       "        [1., 0.],\n",
       "        [1., 0.],\n",
       "        [1., 0.],\n",
       "        [1., 0.],\n",
       "        [1., 0.],\n",
       "        [1., 0.],\n",
       "        [1., 0.],\n",
       "        [1., 0.],\n",
       "        [1., 0.],\n",
       "        [1., 0.]])"
      ]
     },
     "execution_count": 71,
     "metadata": {},
     "output_type": "execute_result"
    }
   ],
   "source": [
    "Y_train"
   ]
  },
  {
   "cell_type": "code",
   "execution_count": 72,
   "id": "516ac001",
   "metadata": {},
   "outputs": [
    {
     "data": {
      "text/plain": [
       "120"
      ]
     },
     "execution_count": 72,
     "metadata": {},
     "output_type": "execute_result"
    }
   ],
   "source": [
    "acertou"
   ]
  },
  {
   "cell_type": "code",
   "execution_count": 73,
   "id": "5df94d45",
   "metadata": {},
   "outputs": [
    {
     "data": {
      "text/plain": [
       "0"
      ]
     },
     "execution_count": 73,
     "metadata": {},
     "output_type": "execute_result"
    }
   ],
   "source": [
    "errou"
   ]
  },
  {
   "cell_type": "code",
   "execution_count": 74,
   "id": "3af7d308",
   "metadata": {},
   "outputs": [
    {
     "data": {
      "text/plain": [
       "1.0"
      ]
     },
     "execution_count": 74,
     "metadata": {},
     "output_type": "execute_result"
    }
   ],
   "source": [
    "acertou/(acertou + errou)"
   ]
  },
  {
   "cell_type": "code",
   "execution_count": null,
   "id": "b25a7ce9",
   "metadata": {},
   "outputs": [],
   "source": [
    "loss_"
   ]
  },
  {
   "cell_type": "markdown",
   "id": "f308ded2",
   "metadata": {},
   "source": [
    "## Play Gym Enduro"
   ]
  },
  {
   "cell_type": "code",
   "execution_count": 17,
   "id": "5fcd5989",
   "metadata": {
    "scrolled": true
   },
   "outputs": [],
   "source": [
    "import gym\n",
    "import time\n",
    "from PIL import Image"
   ]
  },
  {
   "cell_type": "code",
   "execution_count": 18,
   "id": "b64a6b41",
   "metadata": {},
   "outputs": [],
   "source": [
    "if zigzag:\n",
    "        \n",
    "    ACTIONS = {\n",
    "        \"right\": 2,\n",
    "        \"left\": 3,\n",
    "    }\n",
    "\n",
    "else:\n",
    "\n",
    "    ACTIONS = {\n",
    "        \"noop\": 0,\n",
    "        \"accelerate\": 1,\n",
    "        \"right\": 2,\n",
    "        \"left\": 3,\n",
    "        \"break\": 4,\n",
    "        \"right_break\": 5,\n",
    "        \"left_break\": 6,\n",
    "        \"right_accelerate\": 7,\n",
    "        \"left_accelerate\": 8,\n",
    "    }"
   ]
  },
  {
   "cell_type": "code",
   "execution_count": 19,
   "id": "ec251108",
   "metadata": {},
   "outputs": [],
   "source": [
    "y_min, y_max, x_min, x_max = 25, 195, 20, 140\n",
    "shape_of_single_frame = (1, (y_max-y_min),(x_max-x_min))"
   ]
  },
  {
   "cell_type": "code",
   "execution_count": 20,
   "id": "39688ce8",
   "metadata": {},
   "outputs": [],
   "source": [
    "sleep_time = 0.05"
   ]
  },
  {
   "cell_type": "code",
   "execution_count": 23,
   "id": "587ece84",
   "metadata": {},
   "outputs": [
    {
     "name": "stderr",
     "output_type": "stream",
     "text": [
      "<ipython-input-23-2ac00970ed70>:27: UserWarning: Implicit dimension choice for softmax has been deprecated. Change the call to include dim=X as an argument.\n",
      "  action = output(out)\n"
     ]
    },
    {
     "name": "stdout",
     "output_type": "stream",
     "text": [
      "0\n",
      "0\n",
      "0\n",
      "0\n",
      "0\n",
      "0\n",
      "0\n",
      "0\n",
      "0\n",
      "0\n",
      "0\n",
      "0\n",
      "0\n",
      "0\n",
      "0\n",
      "0\n",
      "0\n",
      "0\n",
      "0\n",
      "0\n",
      "0\n",
      "0\n",
      "0\n",
      "0\n",
      "0\n",
      "0\n",
      "0\n",
      "0\n",
      "0\n",
      "0\n",
      "0\n",
      "0\n",
      "0\n",
      "0\n",
      "0\n",
      "0\n",
      "0\n",
      "0\n",
      "0\n",
      "0\n",
      "0\n",
      "0\n",
      "0\n",
      "0\n",
      "0\n",
      "0\n",
      "1\n",
      "1\n",
      "1\n",
      "1\n",
      "1\n",
      "1\n",
      "1\n",
      "1\n",
      "1\n",
      "1\n",
      "1\n",
      "1\n",
      "1\n",
      "1\n",
      "1\n",
      "1\n",
      "1\n",
      "1\n",
      "1\n",
      "1\n",
      "1\n",
      "1\n",
      "1\n",
      "1\n",
      "1\n",
      "1\n",
      "1\n",
      "1\n",
      "1\n",
      "1\n",
      "1\n",
      "1\n",
      "1\n",
      "1\n",
      "1\n",
      "1\n",
      "1\n",
      "1\n",
      "1\n",
      "1\n",
      "1\n",
      "1\n",
      "1\n",
      "1\n",
      "1\n",
      "1\n",
      "1\n",
      "1\n",
      "1\n",
      "1\n",
      "1\n",
      "1\n",
      "1\n",
      "1\n",
      "1\n",
      "1\n",
      "1\n",
      "1\n",
      "1\n",
      "1\n",
      "1\n",
      "1\n",
      "1\n",
      "1\n",
      "1\n",
      "1\n",
      "1\n",
      "1\n",
      "1\n",
      "1\n",
      "1\n",
      "1\n",
      "1\n",
      "1\n",
      "1\n",
      "1\n",
      "1\n",
      "1\n",
      "1\n",
      "1\n",
      "1\n",
      "1\n",
      "1\n",
      "1\n",
      "1\n",
      "1\n",
      "1\n",
      "1\n",
      "1\n",
      "1\n",
      "1\n",
      "1\n",
      "1\n",
      "1\n",
      "1\n",
      "1\n",
      "1\n",
      "1\n",
      "1\n",
      "1\n",
      "1\n",
      "1\n",
      "1\n",
      "1\n",
      "1\n",
      "0\n",
      "0\n",
      "0\n",
      "0\n",
      "0\n",
      "0\n",
      "0\n",
      "0\n",
      "0\n",
      "0\n",
      "0\n",
      "1\n",
      "1\n",
      "1\n",
      "1\n",
      "1\n",
      "1\n",
      "1\n",
      "1\n",
      "1\n",
      "1\n",
      "1\n",
      "1\n",
      "1\n",
      "1\n",
      "1\n",
      "1\n",
      "1\n",
      "1\n",
      "1\n",
      "1\n",
      "1\n",
      "1\n",
      "1\n",
      "1\n",
      "1\n",
      "1\n",
      "1\n",
      "1\n",
      "1\n",
      "1\n",
      "1\n",
      "1\n",
      "1\n",
      "1\n",
      "1\n",
      "1\n",
      "1\n",
      "1\n",
      "1\n",
      "1\n",
      "1\n",
      "1\n",
      "0\n",
      "0\n",
      "0\n",
      "0\n",
      "0\n",
      "0\n",
      "0\n",
      "0\n",
      "0\n",
      "0\n",
      "0\n",
      "0\n",
      "0\n",
      "0\n",
      "0\n",
      "0\n",
      "0\n",
      "0\n",
      "0\n",
      "0\n",
      "0\n",
      "0\n",
      "0\n",
      "0\n",
      "0\n",
      "0\n",
      "0\n",
      "0\n",
      "0\n",
      "0\n",
      "0\n",
      "0\n",
      "0\n",
      "0\n",
      "0\n",
      "0\n",
      "0\n",
      "0\n",
      "0\n",
      "0\n",
      "0\n",
      "0\n",
      "0\n",
      "0\n",
      "0\n",
      "0\n",
      "0\n",
      "0\n",
      "0\n",
      "0\n",
      "0\n",
      "0\n",
      "0\n",
      "0\n",
      "0\n",
      "0\n",
      "0\n",
      "0\n",
      "0\n",
      "0\n",
      "0\n",
      "0\n",
      "0\n",
      "0\n",
      "0\n",
      "0\n",
      "0\n",
      "0\n",
      "0\n",
      "0\n",
      "0\n",
      "0\n",
      "0\n",
      "0\n",
      "0\n",
      "0\n",
      "0\n",
      "0\n",
      "0\n",
      "0\n",
      "0\n",
      "0\n",
      "0\n",
      "0\n",
      "0\n",
      "0\n",
      "0\n",
      "0\n",
      "0\n",
      "0\n",
      "0\n",
      "0\n",
      "0\n",
      "0\n",
      "0\n",
      "0\n",
      "0\n",
      "0\n",
      "0\n",
      "0\n",
      "0\n",
      "0\n",
      "0\n",
      "0\n",
      "0\n",
      "0\n",
      "0\n",
      "0\n",
      "0\n",
      "0\n",
      "0\n",
      "0\n",
      "0\n",
      "0\n",
      "0\n",
      "0\n",
      "0\n",
      "0\n",
      "0\n",
      "0\n",
      "0\n",
      "0\n",
      "0\n",
      "0\n",
      "0\n",
      "0\n",
      "0\n",
      "0\n",
      "0\n",
      "0\n",
      "0\n",
      "0\n",
      "0\n",
      "0\n",
      "0\n",
      "0\n",
      "0\n",
      "0\n",
      "0\n",
      "0\n",
      "0\n",
      "0\n",
      "0\n",
      "0\n",
      "0\n",
      "0\n",
      "0\n",
      "0\n",
      "0\n",
      "0\n",
      "0\n",
      "0\n",
      "0\n",
      "0\n",
      "0\n",
      "0\n",
      "0\n",
      "0\n",
      "0\n",
      "0\n",
      "0\n",
      "0\n",
      "0\n",
      "0\n",
      "0\n",
      "0\n",
      "0\n",
      "0\n",
      "0\n",
      "0\n",
      "0\n",
      "0\n",
      "0\n",
      "0\n",
      "0\n",
      "0\n",
      "0\n",
      "0\n",
      "0\n",
      "0\n",
      "0\n",
      "0\n",
      "0\n",
      "0\n",
      "0\n",
      "0\n",
      "0\n",
      "0\n",
      "0\n",
      "0\n",
      "0\n",
      "0\n",
      "0\n",
      "0\n",
      "0\n",
      "0\n",
      "0\n",
      "0\n",
      "0\n",
      "0\n",
      "0\n",
      "0\n",
      "0\n",
      "0\n",
      "0\n",
      "0\n",
      "0\n",
      "0\n",
      "0\n",
      "0\n",
      "0\n",
      "0\n",
      "0\n",
      "0\n",
      "0\n",
      "0\n",
      "0\n",
      "0\n",
      "0\n",
      "0\n",
      "0\n",
      "0\n",
      "0\n",
      "0\n",
      "0\n",
      "0\n",
      "0\n",
      "0\n",
      "0\n",
      "0\n",
      "0\n",
      "0\n",
      "0\n",
      "0\n",
      "0\n",
      "0\n",
      "0\n",
      "0\n",
      "0\n",
      "1\n",
      "1\n",
      "1\n",
      "1\n",
      "1\n",
      "1\n",
      "1\n",
      "1\n",
      "1\n",
      "1\n",
      "1\n",
      "1\n",
      "1\n",
      "1\n",
      "1\n",
      "1\n",
      "1\n",
      "1\n",
      "1\n",
      "1\n",
      "0\n",
      "0\n",
      "0\n",
      "0\n",
      "0\n",
      "0\n",
      "0\n",
      "0\n",
      "0\n",
      "0\n",
      "0\n",
      "0\n",
      "0\n",
      "0\n",
      "0\n",
      "1\n",
      "1\n",
      "1\n",
      "1\n",
      "1\n",
      "1\n",
      "1\n",
      "1\n",
      "1\n",
      "1\n",
      "1\n",
      "1\n",
      "1\n",
      "1\n",
      "1\n",
      "1\n",
      "1\n",
      "1\n",
      "1\n",
      "1\n",
      "1\n",
      "1\n",
      "1\n",
      "1\n",
      "1\n",
      "1\n",
      "1\n",
      "1\n",
      "1\n",
      "1\n",
      "3\n",
      "3\n",
      "0\n",
      "0\n",
      "0\n",
      "0\n",
      "0\n",
      "0\n",
      "3\n",
      "1\n",
      "0\n",
      "0\n",
      "0\n",
      "0\n",
      "0\n",
      "0\n",
      "0\n",
      "0\n",
      "0\n",
      "0\n",
      "0\n",
      "0\n",
      "3\n",
      "0\n",
      "0\n",
      "3\n",
      "0\n",
      "0\n",
      "0\n",
      "0\n",
      "3\n",
      "0\n",
      "0\n",
      "1\n",
      "1\n",
      "3\n",
      "0\n",
      "1\n",
      "1\n",
      "1\n",
      "1\n",
      "1\n",
      "1\n",
      "0\n",
      "0\n",
      "0\n",
      "0\n",
      "0\n",
      "0\n",
      "0\n",
      "0\n",
      "0\n",
      "0\n",
      "0\n",
      "1\n",
      "1\n",
      "1\n",
      "0\n",
      "0\n",
      "0\n",
      "0\n",
      "0\n",
      "0\n",
      "0\n",
      "0\n",
      "1\n",
      "0\n",
      "0\n",
      "3\n",
      "0\n",
      "1\n",
      "1\n",
      "1\n",
      "3\n",
      "1\n",
      "1\n",
      "1\n",
      "3\n",
      "0\n",
      "0\n",
      "0\n",
      "1\n",
      "1\n",
      "1\n",
      "1\n",
      "3\n",
      "0\n",
      "0\n",
      "0\n",
      "0\n",
      "0\n",
      "0\n",
      "0\n",
      "0\n",
      "1\n",
      "1\n",
      "1\n",
      "0\n",
      "0\n",
      "0\n",
      "0\n",
      "0\n",
      "0\n",
      "0\n",
      "0\n",
      "0\n",
      "0\n",
      "0\n",
      "0\n",
      "0\n",
      "0\n",
      "0\n",
      "0\n",
      "1\n",
      "1\n",
      "1\n",
      "1\n",
      "1\n",
      "1\n",
      "0\n",
      "0\n",
      "0\n",
      "0\n",
      "0\n",
      "0\n",
      "0\n",
      "0\n",
      "0\n",
      "0\n",
      "0\n",
      "0\n",
      "0\n",
      "0\n",
      "0\n",
      "3\n",
      "3\n",
      "3\n",
      "3\n",
      "0\n",
      "0\n",
      "0\n",
      "0\n",
      "0\n",
      "0\n",
      "0\n",
      "0\n",
      "0\n",
      "0\n",
      "0\n",
      "0\n",
      "0\n",
      "0\n",
      "0\n",
      "0\n",
      "0\n",
      "0\n",
      "0\n",
      "0\n",
      "0\n",
      "0\n",
      "0\n",
      "0\n",
      "0\n",
      "0\n",
      "0\n",
      "0\n",
      "0\n",
      "0\n",
      "0\n",
      "0\n",
      "0\n",
      "0\n",
      "0\n",
      "0\n",
      "0\n",
      "1\n",
      "3\n",
      "3\n",
      "3\n",
      "3\n",
      "0\n",
      "0\n",
      "2\n",
      "2\n",
      "2\n",
      "3\n",
      "2\n",
      "0\n",
      "0\n",
      "3\n",
      "0\n",
      "3\n",
      "1\n",
      "1\n",
      "1\n",
      "1\n",
      "1\n",
      "1\n",
      "1\n",
      "1\n",
      "1\n",
      "1\n",
      "1\n",
      "1\n",
      "1\n",
      "1\n",
      "1\n",
      "1\n",
      "1\n",
      "1\n",
      "1\n",
      "1\n",
      "1\n",
      "1\n",
      "1\n",
      "1\n",
      "1\n",
      "1\n",
      "1\n",
      "1\n",
      "1\n",
      "1\n",
      "1\n",
      "1\n",
      "1\n",
      "1\n",
      "1\n",
      "1\n",
      "1\n",
      "1\n",
      "1\n",
      "1\n",
      "1\n",
      "1\n",
      "1\n",
      "1\n",
      "1\n",
      "1\n",
      "1\n",
      "8\n",
      "2\n",
      "2\n",
      "2\n",
      "0\n",
      "0\n",
      "0\n",
      "0\n",
      "0\n",
      "2\n",
      "2\n",
      "2\n",
      "1\n",
      "1\n",
      "1\n",
      "1\n",
      "1\n",
      "1\n",
      "1\n",
      "1\n",
      "1\n",
      "1\n",
      "1\n",
      "1\n",
      "1\n",
      "1\n",
      "1\n",
      "1\n",
      "1\n",
      "1\n",
      "1\n",
      "1\n",
      "1\n",
      "1\n",
      "1\n",
      "1\n",
      "1\n",
      "1\n",
      "1\n",
      "1\n",
      "1\n",
      "1\n",
      "0\n",
      "0\n",
      "0\n",
      "0\n",
      "0\n",
      "0\n",
      "0\n",
      "0\n",
      "0\n",
      "0\n",
      "0\n",
      "0\n",
      "0\n",
      "3\n",
      "3\n",
      "3\n",
      "3\n",
      "3\n",
      "0\n",
      "3\n",
      "0\n",
      "0\n",
      "0\n",
      "3\n",
      "0\n",
      "3\n",
      "0\n",
      "0\n",
      "0\n",
      "0\n",
      "0\n",
      "0\n",
      "0\n",
      "0\n",
      "0\n",
      "0\n",
      "0\n",
      "3\n",
      "3\n",
      "3\n",
      "3\n",
      "3\n",
      "3\n",
      "3\n",
      "3\n",
      "3\n",
      "3\n",
      "3\n",
      "3\n",
      "3\n",
      "3\n",
      "3\n",
      "3\n",
      "3\n",
      "3\n",
      "3\n",
      "3\n",
      "3\n",
      "3\n",
      "3\n",
      "3\n",
      "3\n",
      "3\n",
      "3\n",
      "3\n",
      "3\n",
      "3\n",
      "3\n",
      "1\n",
      "1\n",
      "1\n",
      "1\n",
      "1\n",
      "1\n",
      "1\n",
      "1\n",
      "1\n",
      "1\n",
      "1\n",
      "1\n",
      "1\n",
      "1\n",
      "1\n",
      "1\n",
      "1\n",
      "1\n",
      "1\n",
      "1\n",
      "1\n",
      "1\n",
      "1\n",
      "1\n",
      "1\n",
      "1\n",
      "1\n",
      "1\n",
      "1\n",
      "1\n",
      "1\n",
      "1\n",
      "1\n",
      "1\n",
      "1\n",
      "1\n",
      "1\n",
      "1\n",
      "1\n",
      "1\n",
      "1\n",
      "1\n",
      "1\n",
      "1\n",
      "1\n",
      "1\n",
      "1\n",
      "1\n",
      "1\n",
      "1\n",
      "1\n",
      "1\n",
      "1\n",
      "1\n",
      "1\n",
      "1\n",
      "1\n",
      "1\n",
      "1\n",
      "1\n",
      "1\n",
      "1\n",
      "1\n",
      "1\n",
      "1\n",
      "1\n",
      "1\n",
      "1\n",
      "1\n",
      "1\n",
      "1\n",
      "1\n",
      "1\n",
      "1\n",
      "1\n",
      "1\n",
      "1\n",
      "1\n",
      "8\n",
      "2\n",
      "0\n",
      "0\n",
      "0\n",
      "3\n",
      "0\n",
      "0\n",
      "0\n",
      "0\n",
      "0\n",
      "0\n",
      "0\n",
      "0\n",
      "0\n",
      "0\n",
      "0\n",
      "0\n",
      "0\n",
      "0\n",
      "0\n",
      "0\n",
      "0\n",
      "0\n",
      "0\n",
      "0\n",
      "2\n",
      "2\n",
      "2\n",
      "2\n",
      "2\n",
      "1\n",
      "1\n",
      "1\n",
      "1\n",
      "1\n",
      "1\n",
      "1\n",
      "1\n",
      "1\n",
      "1\n",
      "1\n",
      "1\n",
      "1\n",
      "2\n",
      "2\n",
      "2\n",
      "0\n",
      "1\n",
      "1\n",
      "1\n",
      "1\n",
      "1\n",
      "1\n",
      "1\n",
      "1\n",
      "1\n",
      "1\n",
      "1\n",
      "1\n",
      "0\n",
      "0\n",
      "3\n",
      "3\n",
      "3\n"
     ]
    }
   ],
   "source": [
    "env = gym.make(\"Enduro-v0\")\n",
    "frame = env.reset()\n",
    "reward, action, done, info = 0, 0, False, {'ale.lives': 0}\n",
    "\n",
    "hx = torch.zeros(1, hidden_neurons)\n",
    "cx = torch.zeros(1, hidden_neurons)\n",
    "\n",
    "env.render()\n",
    "time.sleep(10)\n",
    "\n",
    "for _ in range(1000):\n",
    "    \n",
    "    time.sleep(sleep_time)\n",
    "    env.render()\n",
    "    \n",
    "    frame = frame[y_min:y_max, x_min:x_max]\n",
    "\n",
    "    frame = Image.fromarray(frame)\n",
    "    frame = frame.convert(\"L\")\n",
    "    \n",
    "    frame = np.asarray(frame)\n",
    "    frame = frame.reshape(1, -1)\n",
    "    frame = torch.tensor(frame)/255\n",
    "    \n",
    "    hx, cx = lstmcell(frame, (hx, cx))\n",
    "    out = linear(hx)\n",
    "    action = output(out)\n",
    "    \n",
    "    action = list(ACTIONS.values())[torch.argmax(action, axis=1)]\n",
    "    print(action)\n",
    "    frame, reward, done, info = env.step(action)"
   ]
  }
 ],
 "metadata": {
  "kernelspec": {
   "display_name": "Python 3",
   "language": "python",
   "name": "python3"
  },
  "language_info": {
   "codemirror_mode": {
    "name": "ipython",
    "version": 3
   },
   "file_extension": ".py",
   "mimetype": "text/x-python",
   "name": "python",
   "nbconvert_exporter": "python",
   "pygments_lexer": "ipython3",
   "version": "3.7.10"
  }
 },
 "nbformat": 4,
 "nbformat_minor": 5
}
