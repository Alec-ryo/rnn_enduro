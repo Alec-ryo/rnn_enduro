{
 "cells": [
  {
   "cell_type": "code",
   "execution_count": 89,
   "id": "robust-sewing",
   "metadata": {},
   "outputs": [],
   "source": [
    "from load_matlab_elmannet import *\n",
    "import numpy as np\n",
    "import gym\n",
    "import time\n",
    "import os\n",
    "from PIL import Image"
   ]
  },
  {
   "cell_type": "code",
   "execution_count": 90,
   "id": "passive-lemon",
   "metadata": {},
   "outputs": [],
   "source": [
    "y_min, y_max, x_min, x_max = 25, 195, 20, 140\n",
    "shape_of_single_frame = (1, (y_max-y_min),(x_max-x_min))"
   ]
  },
  {
   "cell_type": "code",
   "execution_count": 120,
   "id": "pleasant-liabilities",
   "metadata": {},
   "outputs": [],
   "source": [
    "sleep_time = 0.05\n",
    "model_path = \"../2-elman_train/models/play_m45to46_f1to1000_epoch_h200/enduro_elman_1.mat\"\n",
    "\n",
    "is_checkpoint= True\n",
    "match = 45\n",
    "data_path = f\"../1-generate/data/match_\" + str(match) + \"/\""
   ]
  },
  {
   "cell_type": "code",
   "execution_count": 117,
   "id": "outstanding-sphere",
   "metadata": {},
   "outputs": [],
   "source": [
    "ACTIONS = {\n",
    "        \"noop\": 0,\n",
    "        \"accelerate\": 1,\n",
    "        \"right\": 2,\n",
    "        \"left\": 3,\n",
    "        \"break\": 4,\n",
    "        \"right_break\": 5,\n",
    "        \"left_break\": 6,\n",
    "        \"right_accelerate\": 7,\n",
    "        \"left_accelerate\": 8,\n",
    "}"
   ]
  },
  {
   "cell_type": "code",
   "execution_count": 76,
   "id": "robust-ethnic",
   "metadata": {},
   "outputs": [
    {
     "data": {
      "text/plain": [
       "'ACTIONS = {\\n    \"right\": 2,\\n    \"left\": 3,\\n}'"
      ]
     },
     "execution_count": 76,
     "metadata": {},
     "output_type": "execute_result"
    }
   ],
   "source": [
    "\"\"\"ACTIONS = {\n",
    "    \"right\": 2,\n",
    "    \"left\": 3,\n",
    "}\"\"\""
   ]
  },
  {
   "cell_type": "code",
   "execution_count": 118,
   "id": "homeless-masters",
   "metadata": {},
   "outputs": [],
   "source": [
    "ACTIONS_LIST = list(ACTIONS.values())"
   ]
  },
  {
   "cell_type": "code",
   "execution_count": 37,
   "id": "specialized-small",
   "metadata": {},
   "outputs": [],
   "source": [
    "def load_npz(m):\n",
    "    path = data_path + \"npz/\"\n",
    "\n",
    "    actions = np.load(path + 'actions.npz')\n",
    "    lifes = np.load(path + 'lifes.npz')\n",
    "    frames = np.load(path + 'frames.npz')\n",
    "    rewards = np.load(path + 'rewards.npz')\n",
    "\n",
    "    arr_actions = actions.f.arr_0\n",
    "    arr_lifes = lifes.f.arr_0\n",
    "    arr_frames = frames.f.arr_0\n",
    "    arr_rewards = rewards.f.arr_0\n",
    "\n",
    "    print(\"Successfully loaded NPZ.\")\n",
    "\n",
    "    return arr_actions.shape[0], arr_frames, arr_actions, arr_rewards, arr_lifes"
   ]
  },
  {
   "cell_type": "code",
   "execution_count": 31,
   "id": "available-nitrogen",
   "metadata": {},
   "outputs": [
    {
     "name": "stdout",
     "output_type": "stream",
     "text": [
      "Successfully loaded NPZ.\n"
     ]
    }
   ],
   "source": [
    "num_of_frames, frames, actions, rewards, lifes = load_npz(match)"
   ]
  },
  {
   "cell_type": "code",
   "execution_count": 32,
   "id": "destroyed-world",
   "metadata": {},
   "outputs": [],
   "source": [
    "frames = frames.reshape(len(frames), -1)\n",
    "frames = frames[:1000]"
   ]
  },
  {
   "cell_type": "code",
   "execution_count": 33,
   "id": "3d552809",
   "metadata": {},
   "outputs": [
    {
     "data": {
      "text/plain": [
       "(1000, 20400)"
      ]
     },
     "execution_count": 33,
     "metadata": {},
     "output_type": "execute_result"
    }
   ],
   "source": [
    "frames.shape"
   ]
  },
  {
   "cell_type": "code",
   "execution_count": 34,
   "id": "measured-battle",
   "metadata": {},
   "outputs": [],
   "source": [
    "def prepare_action_data(action):\n",
    "\n",
    "    new_action = np.zeros((1, len(ACTIONS)), dtype=int) \n",
    "\n",
    "    new_action[0, ACTIONS_LIST.index(action)] = 1\n",
    "\n",
    "    return new_action"
   ]
  },
  {
   "cell_type": "code",
   "execution_count": 35,
   "id": "9518c1c2",
   "metadata": {},
   "outputs": [
    {
     "data": {
      "text/plain": [
       "array([0, 0, 0, ..., 3, 0, 0])"
      ]
     },
     "execution_count": 35,
     "metadata": {},
     "output_type": "execute_result"
    }
   ],
   "source": [
    "actions"
   ]
  },
  {
   "cell_type": "code",
   "execution_count": 36,
   "id": "sorted-efficiency",
   "metadata": {},
   "outputs": [],
   "source": [
    "targets = [prepare_action_data(actions[i])[0] for i in range(len(actions))]"
   ]
  },
  {
   "cell_type": "code",
   "execution_count": 37,
   "id": "universal-clock",
   "metadata": {},
   "outputs": [],
   "source": [
    "targets = np.array(targets)"
   ]
  },
  {
   "cell_type": "code",
   "execution_count": 121,
   "id": "passing-halloween",
   "metadata": {},
   "outputs": [
    {
     "name": "stdout",
     "output_type": "stream",
     "text": [
      "U shape: (200, 20400)\n",
      "W shape: (200, 200)\n",
      "V shape: (9, 200)\n",
      "bh shape: (200,)\n",
      "bo shape: (9,)\n"
     ]
    }
   ],
   "source": [
    "model = LoadElman(model_path, is_checkpoint)"
   ]
  },
  {
   "cell_type": "code",
   "execution_count": 10,
   "id": "vietnamese-petroleum",
   "metadata": {},
   "outputs": [
    {
     "ename": "NameError",
     "evalue": "name 'frames' is not defined",
     "output_type": "error",
     "traceback": [
      "\u001b[0;31m---------------------------------------------------------------------------\u001b[0m",
      "\u001b[0;31mNameError\u001b[0m                                 Traceback (most recent call last)",
      "\u001b[0;32m<ipython-input-10-7dfda80de69d>\u001b[0m in \u001b[0;36m<module>\u001b[0;34m\u001b[0m\n\u001b[1;32m      3\u001b[0m \u001b[0mprint_class\u001b[0m \u001b[0;34m=\u001b[0m \u001b[0;32mFalse\u001b[0m\u001b[0;34m\u001b[0m\u001b[0;34m\u001b[0m\u001b[0m\n\u001b[1;32m      4\u001b[0m \u001b[0;34m\u001b[0m\u001b[0m\n\u001b[0;32m----> 5\u001b[0;31m \u001b[0;32mfor\u001b[0m \u001b[0mi\u001b[0m \u001b[0;32min\u001b[0m \u001b[0mrange\u001b[0m\u001b[0;34m(\u001b[0m\u001b[0mlen\u001b[0m\u001b[0;34m(\u001b[0m\u001b[0mframes\u001b[0m\u001b[0;34m)\u001b[0m\u001b[0;34m)\u001b[0m\u001b[0;34m:\u001b[0m\u001b[0;34m\u001b[0m\u001b[0;34m\u001b[0m\u001b[0m\n\u001b[0m\u001b[1;32m      6\u001b[0m     \u001b[0;32mif\u001b[0m\u001b[0;34m(\u001b[0m\u001b[0mprint_class\u001b[0m\u001b[0;34m)\u001b[0m\u001b[0;34m:\u001b[0m\u001b[0;34m\u001b[0m\u001b[0;34m\u001b[0m\u001b[0m\n\u001b[1;32m      7\u001b[0m         \u001b[0mprint\u001b[0m\u001b[0;34m(\u001b[0m\u001b[0mi\u001b[0m\u001b[0;34m+\u001b[0m\u001b[0;36m1\u001b[0m\u001b[0;34m,\u001b[0m \u001b[0mnp\u001b[0m\u001b[0;34m.\u001b[0m\u001b[0margmax\u001b[0m\u001b[0;34m(\u001b[0m\u001b[0mtargets\u001b[0m\u001b[0;34m[\u001b[0m\u001b[0mi\u001b[0m\u001b[0;34m]\u001b[0m\u001b[0;34m)\u001b[0m\u001b[0;34m,\u001b[0m \u001b[0;34m\"->\"\u001b[0m\u001b[0;34m,\u001b[0m \u001b[0mnp\u001b[0m\u001b[0;34m.\u001b[0m\u001b[0margmax\u001b[0m\u001b[0;34m(\u001b[0m\u001b[0mmodel\u001b[0m\u001b[0;34m.\u001b[0m\u001b[0mpredict_step\u001b[0m\u001b[0;34m(\u001b[0m\u001b[0mframes\u001b[0m\u001b[0;34m[\u001b[0m\u001b[0mi\u001b[0m\u001b[0;34m]\u001b[0m\u001b[0;34m/\u001b[0m\u001b[0;36m255\u001b[0m\u001b[0;34m)\u001b[0m\u001b[0;34m)\u001b[0m\u001b[0;34m)\u001b[0m\u001b[0;34m\u001b[0m\u001b[0;34m\u001b[0m\u001b[0m\n",
      "\u001b[0;31mNameError\u001b[0m: name 'frames' is not defined"
     ]
    }
   ],
   "source": [
    "model.reset_prev_s()\n",
    "\n",
    "print_class = False\n",
    "\n",
    "for i in range(len(frames)):\n",
    "    if(print_class):\n",
    "        print(i+1, np.argmax(targets[i]), \"->\", np.argmax(model.predict_step(frames[i]/255)))\n",
    "    else:\n",
    "        print(i+1, targets[i], \"->\", model.predict_step(frames[i]/255))"
   ]
  },
  {
   "cell_type": "code",
   "execution_count": 40,
   "id": "conventional-cooper",
   "metadata": {},
   "outputs": [],
   "source": [
    "model.reset_prev_s()\n",
    "predicted = []\n",
    "correct = 0\n",
    "wrong = 0\n",
    "for i in range( len(frames) ):\n",
    "    \n",
    "    if np.argmax(targets[i]) == np.argmax(model.predict_step(frames[i]/255)):\n",
    "        correct += 1\n",
    "    else:\n",
    "        wrong +=1"
   ]
  },
  {
   "cell_type": "code",
   "execution_count": 41,
   "id": "flush-municipality",
   "metadata": {},
   "outputs": [
    {
     "name": "stdout",
     "output_type": "stream",
     "text": [
      "616\n",
      "384\n"
     ]
    }
   ],
   "source": [
    "print(correct)\n",
    "print(wrong)"
   ]
  },
  {
   "cell_type": "code",
   "execution_count": null,
   "id": "graphic-childhood",
   "metadata": {},
   "outputs": [],
   "source": [
    "#798/(798+202)"
   ]
  },
  {
   "cell_type": "code",
   "execution_count": 88,
   "id": "acceptable-graduation",
   "metadata": {},
   "outputs": [],
   "source": [
    "env = gym.make(\"Enduro-v0\")"
   ]
  },
  {
   "cell_type": "code",
   "execution_count": 46,
   "id": "inside-sherman",
   "metadata": {},
   "outputs": [],
   "source": [
    "frame = env.reset()"
   ]
  },
  {
   "cell_type": "code",
   "execution_count": 47,
   "id": "specialized-marks",
   "metadata": {},
   "outputs": [],
   "source": [
    "reward, action, done, info = 0, 0, False, {'ale.lives': 0}"
   ]
  },
  {
   "cell_type": "code",
   "execution_count": 48,
   "id": "victorian-wings",
   "metadata": {},
   "outputs": [
    {
     "data": {
      "text/plain": [
       "(210, 160, 3)"
      ]
     },
     "execution_count": 48,
     "metadata": {},
     "output_type": "execute_result"
    }
   ],
   "source": [
    "frame.shape"
   ]
  },
  {
   "cell_type": "code",
   "execution_count": 49,
   "id": "exclusive-plaza",
   "metadata": {},
   "outputs": [],
   "source": [
    "model.reset_prev_s()"
   ]
  },
  {
   "cell_type": "code",
   "execution_count": 126,
   "id": "rapid-drama",
   "metadata": {},
   "outputs": [
    {
     "name": "stdout",
     "output_type": "stream",
     "text": [
      "0\n",
      "0\n",
      "0\n",
      "0\n",
      "0\n",
      "0\n",
      "0\n",
      "0\n",
      "0\n",
      "0\n",
      "0\n",
      "0\n",
      "0\n",
      "0\n",
      "0\n",
      "0\n",
      "0\n",
      "0\n",
      "0\n",
      "0\n",
      "0\n",
      "0\n",
      "0\n",
      "0\n",
      "0\n",
      "0\n",
      "0\n",
      "0\n",
      "0\n",
      "0\n",
      "0\n",
      "0\n",
      "0\n",
      "0\n",
      "0\n",
      "0\n",
      "0\n",
      "0\n",
      "0\n",
      "0\n",
      "0\n",
      "0\n",
      "0\n",
      "0\n",
      "0\n",
      "0\n",
      "0\n",
      "0\n",
      "0\n",
      "0\n",
      "0\n",
      "0\n",
      "0\n",
      "0\n",
      "0\n",
      "0\n",
      "0\n",
      "0\n",
      "0\n",
      "0\n",
      "0\n",
      "0\n",
      "0\n",
      "0\n",
      "0\n",
      "0\n",
      "0\n",
      "0\n",
      "0\n",
      "0\n",
      "0\n",
      "0\n",
      "0\n",
      "0\n",
      "0\n",
      "0\n",
      "0\n",
      "0\n",
      "0\n",
      "0\n",
      "0\n",
      "0\n",
      "0\n",
      "0\n",
      "0\n",
      "0\n",
      "0\n",
      "0\n",
      "0\n",
      "0\n",
      "0\n",
      "0\n",
      "0\n",
      "0\n",
      "0\n",
      "0\n",
      "0\n",
      "0\n",
      "0\n",
      "0\n",
      "0\n",
      "0\n",
      "0\n",
      "0\n",
      "0\n",
      "0\n",
      "0\n",
      "0\n",
      "0\n",
      "0\n",
      "0\n",
      "0\n",
      "0\n",
      "0\n",
      "0\n",
      "0\n",
      "0\n",
      "0\n",
      "0\n",
      "0\n",
      "0\n",
      "0\n",
      "1\n",
      "0\n",
      "1\n",
      "1\n",
      "1\n",
      "1\n",
      "1\n",
      "1\n",
      "1\n",
      "1\n",
      "1\n",
      "1\n",
      "1\n",
      "1\n",
      "1\n",
      "1\n",
      "1\n",
      "1\n",
      "1\n",
      "1\n",
      "1\n",
      "1\n",
      "1\n",
      "1\n",
      "1\n",
      "1\n",
      "1\n",
      "1\n",
      "1\n",
      "1\n",
      "1\n",
      "1\n",
      "1\n",
      "1\n",
      "1\n",
      "1\n",
      "1\n",
      "1\n",
      "1\n",
      "1\n",
      "1\n",
      "1\n",
      "1\n",
      "1\n",
      "1\n",
      "1\n",
      "1\n",
      "1\n",
      "1\n",
      "1\n",
      "1\n",
      "1\n",
      "1\n",
      "1\n",
      "1\n",
      "1\n",
      "1\n",
      "1\n",
      "1\n",
      "1\n",
      "1\n",
      "1\n",
      "1\n",
      "1\n",
      "1\n",
      "1\n",
      "1\n",
      "1\n",
      "1\n",
      "1\n",
      "1\n",
      "1\n",
      "1\n",
      "1\n",
      "1\n",
      "1\n",
      "1\n",
      "1\n",
      "1\n",
      "1\n",
      "1\n",
      "1\n",
      "1\n",
      "1\n",
      "1\n",
      "1\n",
      "1\n",
      "1\n",
      "1\n",
      "1\n",
      "1\n",
      "1\n",
      "1\n",
      "1\n",
      "1\n",
      "1\n",
      "1\n",
      "1\n",
      "1\n",
      "1\n",
      "1\n",
      "1\n",
      "1\n",
      "1\n",
      "1\n",
      "1\n",
      "1\n",
      "1\n",
      "1\n",
      "1\n",
      "1\n",
      "1\n",
      "0\n",
      "0\n",
      "1\n",
      "1\n",
      "1\n",
      "1\n",
      "0\n",
      "1\n",
      "1\n",
      "1\n",
      "1\n",
      "1\n",
      "0\n",
      "0\n",
      "0\n",
      "0\n",
      "0\n",
      "1\n",
      "0\n",
      "0\n",
      "1\n",
      "2\n",
      "0\n",
      "0\n",
      "0\n",
      "0\n",
      "0\n",
      "0\n",
      "0\n",
      "0\n",
      "0\n",
      "0\n",
      "0\n",
      "0\n",
      "0\n",
      "0\n",
      "2\n",
      "0\n",
      "2\n",
      "3\n",
      "3\n",
      "0\n",
      "3\n",
      "3\n",
      "3\n",
      "3\n"
     ]
    },
    {
     "ename": "KeyboardInterrupt",
     "evalue": "",
     "output_type": "error",
     "traceback": [
      "\u001b[0;31m---------------------------------------------------------------------------\u001b[0m",
      "\u001b[0;31mKeyboardInterrupt\u001b[0m                         Traceback (most recent call last)",
      "\u001b[0;32m<ipython-input-126-cbbbd01256bb>\u001b[0m in \u001b[0;36m<module>\u001b[0;34m\u001b[0m\n\u001b[1;32m     21\u001b[0m     \u001b[0mframe\u001b[0m \u001b[0;34m=\u001b[0m \u001b[0mframe\u001b[0m\u001b[0;34m/\u001b[0m\u001b[0;36m255\u001b[0m\u001b[0;34m\u001b[0m\u001b[0;34m\u001b[0m\u001b[0m\n\u001b[1;32m     22\u001b[0m \u001b[0;34m\u001b[0m\u001b[0m\n\u001b[0;32m---> 23\u001b[0;31m     \u001b[0maction\u001b[0m \u001b[0;34m=\u001b[0m \u001b[0mmodel\u001b[0m\u001b[0;34m.\u001b[0m\u001b[0mpredict_step\u001b[0m\u001b[0;34m(\u001b[0m\u001b[0mframe\u001b[0m\u001b[0;34m)\u001b[0m\u001b[0;34m\u001b[0m\u001b[0;34m\u001b[0m\u001b[0m\n\u001b[0m\u001b[1;32m     24\u001b[0m     \u001b[0maction\u001b[0m \u001b[0;34m=\u001b[0m \u001b[0mlist\u001b[0m\u001b[0;34m(\u001b[0m\u001b[0mACTIONS\u001b[0m\u001b[0;34m.\u001b[0m\u001b[0mvalues\u001b[0m\u001b[0;34m(\u001b[0m\u001b[0;34m)\u001b[0m\u001b[0;34m)\u001b[0m\u001b[0;34m[\u001b[0m\u001b[0mnp\u001b[0m\u001b[0;34m.\u001b[0m\u001b[0margmax\u001b[0m\u001b[0;34m(\u001b[0m\u001b[0maction\u001b[0m\u001b[0;34m,\u001b[0m \u001b[0maxis\u001b[0m\u001b[0;34m=\u001b[0m\u001b[0;36m0\u001b[0m\u001b[0;34m)\u001b[0m\u001b[0;34m]\u001b[0m\u001b[0;34m\u001b[0m\u001b[0;34m\u001b[0m\u001b[0m\n\u001b[1;32m     25\u001b[0m \u001b[0;34m\u001b[0m\u001b[0m\n",
      "\u001b[0;32m/mnt/c/Users/alece/Desktop/UnB/tcc/rnn_enduro/3-load_model/load_matlab_elmannet.py\u001b[0m in \u001b[0;36mpredict_step\u001b[0;34m(self, X_train_t)\u001b[0m\n\u001b[1;32m     34\u001b[0m         \u001b[0;31m# forward pass\u001b[0m\u001b[0;34m\u001b[0m\u001b[0;34m\u001b[0m\u001b[0;34m\u001b[0m\u001b[0m\n\u001b[1;32m     35\u001b[0m         \u001b[0mnew_input\u001b[0m \u001b[0;34m=\u001b[0m \u001b[0mX_train_t\u001b[0m\u001b[0;34m\u001b[0m\u001b[0;34m\u001b[0m\u001b[0m\n\u001b[0;32m---> 36\u001b[0;31m         \u001b[0mmulu\u001b[0m \u001b[0;34m=\u001b[0m \u001b[0mnp\u001b[0m\u001b[0;34m.\u001b[0m\u001b[0mdot\u001b[0m\u001b[0;34m(\u001b[0m\u001b[0mself\u001b[0m\u001b[0;34m.\u001b[0m\u001b[0mU\u001b[0m\u001b[0;34m,\u001b[0m \u001b[0mnew_input\u001b[0m\u001b[0;34m)\u001b[0m\u001b[0;34m\u001b[0m\u001b[0;34m\u001b[0m\u001b[0m\n\u001b[0m\u001b[1;32m     37\u001b[0m         \u001b[0mmulw\u001b[0m \u001b[0;34m=\u001b[0m \u001b[0mnp\u001b[0m\u001b[0;34m.\u001b[0m\u001b[0mdot\u001b[0m\u001b[0;34m(\u001b[0m\u001b[0mself\u001b[0m\u001b[0;34m.\u001b[0m\u001b[0mW\u001b[0m\u001b[0;34m,\u001b[0m \u001b[0mself\u001b[0m\u001b[0;34m.\u001b[0m\u001b[0mprev_s\u001b[0m\u001b[0;34m)\u001b[0m\u001b[0;34m\u001b[0m\u001b[0;34m\u001b[0m\u001b[0m\n\u001b[1;32m     38\u001b[0m         \u001b[0madd\u001b[0m \u001b[0;34m=\u001b[0m \u001b[0mmulw\u001b[0m \u001b[0;34m+\u001b[0m \u001b[0mmulu\u001b[0m \u001b[0;34m+\u001b[0m \u001b[0mself\u001b[0m\u001b[0;34m.\u001b[0m\u001b[0mbh\u001b[0m\u001b[0;34m\u001b[0m\u001b[0;34m\u001b[0m\u001b[0m\n",
      "\u001b[0;32m<__array_function__ internals>\u001b[0m in \u001b[0;36mdot\u001b[0;34m(*args, **kwargs)\u001b[0m\n",
      "\u001b[0;31mKeyboardInterrupt\u001b[0m: "
     ]
    }
   ],
   "source": [
    "model.reset_prev_s()\n",
    "\n",
    "env = gym.make(\"Enduro-v0\")\n",
    "frame = env.reset()\n",
    "reward, action, done, info = 0, 0, False, {'ale.lives': 0}\n",
    "env.render()\n",
    "\n",
    "time.sleep(10)\n",
    "\n",
    "for _ in range(1000):\n",
    "    time.sleep(sleep_time)\n",
    "    env.render()\n",
    "    \n",
    "    frame = frame[y_min:y_max, x_min:x_max]\n",
    "\n",
    "    frame = Image.fromarray(frame)\n",
    "    frame = frame.convert(\"L\")\n",
    "    \n",
    "    frame = np.asarray(frame)\n",
    "    frame = frame.reshape(20400,)\n",
    "    frame = frame/255\n",
    "    \n",
    "    action = model.predict_step(frame)\n",
    "    action = list(ACTIONS.values())[np.argmax(action, axis=0)]\n",
    "    \n",
    "    print(action)\n",
    "    \n",
    "    frame, reward, done, info = env.step(action)"
   ]
  }
 ],
 "metadata": {
  "kernelspec": {
   "display_name": "Python 3",
   "language": "python",
   "name": "python3"
  },
  "language_info": {
   "codemirror_mode": {
    "name": "ipython",
    "version": 3
   },
   "file_extension": ".py",
   "mimetype": "text/x-python",
   "name": "python",
   "nbconvert_exporter": "python",
   "pygments_lexer": "ipython3",
   "version": "3.7.10"
  }
 },
 "nbformat": 4,
 "nbformat_minor": 5
}
